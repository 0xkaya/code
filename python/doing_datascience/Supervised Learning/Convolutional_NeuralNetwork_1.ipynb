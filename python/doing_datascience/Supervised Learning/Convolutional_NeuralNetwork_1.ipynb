{
 "cells": [
  {
   "cell_type": "markdown",
   "id": "9b71345c-c3fb-4a8e-86c9-a63085390f3f",
   "metadata": {},
   "source": [
    "# Importing Packages"
   ]
  },
  {
   "cell_type": "code",
   "execution_count": 1,
   "id": "730982a1-23bf-43cf-8ec1-1f8e6159c4e0",
   "metadata": {},
   "outputs": [],
   "source": [
    "import numpy as np\n",
    "from tensorflow.keras.datasets import fashion_mnist\n",
    "from tensorflow.keras.models import Sequential\n",
    "from tensorflow.keras.layers import Conv2D, MaxPooling2D, Flatten, Dense, Dropout, BatchNormalization\n",
    "from tensorflow.keras.callbacks import EarlyStopping, ReduceLROnPlateau\n",
    "from tensorflow.keras.preprocessing.image import ImageDataGenerator\n",
    "from tensorflow.keras.utils import to_categorical\n",
    "from sklearn.metrics import classification_report, accuracy_score\n",
    "import matplotlib.pyplot as plt"
   ]
  },
  {
   "cell_type": "markdown",
   "id": "410b45bb-2a2c-464d-98f7-d2a042cdcdd0",
   "metadata": {},
   "source": [
    "# Data preparation"
   ]
  },
  {
   "cell_type": "markdown",
   "id": "8aee65c8-49db-4a05-af32-ddd33750264b",
   "metadata": {},
   "source": [
    "## Loading dataset"
   ]
  },
  {
   "cell_type": "code",
   "execution_count": 90,
   "id": "6b70649d-b6d1-45c8-a09b-1ba7bc642bfe",
   "metadata": {},
   "outputs": [],
   "source": [
    "(X_train, y_train), (X_test, y_test) = fashion_mnist.load_data()"
   ]
  },
  {
   "cell_type": "markdown",
   "id": "822dbe3d-4ffe-487b-9756-0b3800b820ee",
   "metadata": {},
   "source": [
    "## Reshaping the data"
   ]
  },
  {
   "cell_type": "code",
   "execution_count": 91,
   "id": "7fedcf72-f10f-4245-9881-fe7b7179b5d4",
   "metadata": {},
   "outputs": [],
   "source": [
    "X_train = X_train.reshape(-1,28,28,1).astype('float32')/255.0\n",
    "X_test = X_test.reshape(-1,28,28,1).astype('float32')/255.0"
   ]
  },
  {
   "cell_type": "markdown",
   "id": "50fac46e-6e48-4fbd-b002-8c5c4ef4eab6",
   "metadata": {},
   "source": [
    "## One-hot encoding the target labels"
   ]
  },
  {
   "cell_type": "code",
   "execution_count": 92,
   "id": "472da712-ffdf-4f6e-bd4a-cd0c0a22839e",
   "metadata": {},
   "outputs": [],
   "source": [
    "y_train = to_categorical(y_train,10)\n",
    "y_test = to_categorical(y_test,10)"
   ]
  },
  {
   "cell_type": "markdown",
   "id": "0f8faeb8-6c27-4795-9931-b584365980b8",
   "metadata": {},
   "source": [
    "## Data Augmentation to generate more samples"
   ]
  },
  {
   "cell_type": "code",
   "execution_count": 93,
   "id": "c98711e9-a12b-420f-b6d0-4dfca368b6e2",
   "metadata": {},
   "outputs": [],
   "source": [
    "datagen = ImageDataGenerator(\n",
    "    rotation_range = 10,\n",
    "    width_shift_range = 0.1,\n",
    "    height_shift_range = 0.1,\n",
    "    zoom_range = 0.1\n",
    ")\n",
    "datagen.fit(X_train)"
   ]
  },
  {
   "cell_type": "markdown",
   "id": "4c1ce55c-19ce-4082-97ee-905415c27fcf",
   "metadata": {},
   "source": [
    "# Building a CNN Model with Batch normalization and dropout"
   ]
  },
  {
   "cell_type": "code",
   "execution_count": 98,
   "id": "ba5243a6-6d5b-483f-b578-04892d2a403c",
   "metadata": {},
   "outputs": [],
   "source": [
    "model = Sequential([\n",
    "    Conv2D(32, kernel_size =(3,3), activation = 'relu', input_shape=(28,28,1)),\n",
    "    BatchNormalization(),\n",
    "    MaxPooling2D(pool_size=(2,2)),\n",
    "    Dropout(0.25),\n",
    "\n",
    "    Conv2D(32, kernel_size =(3,3), activation = 'relu'),\n",
    "    BatchNormalization(),\n",
    "    MaxPooling2D(pool_size=(2,2)),\n",
    "    Dropout(0.25),\n",
    "\n",
    "    Conv2D(32, kernel_size =(3,3), activation = 'relu'),\n",
    "    BatchNormalization(),\n",
    "    MaxPooling2D(pool_size=(2,2)),\n",
    "    Dropout(0.4),\n",
    "\n",
    "    Flatten(),\n",
    "    Dense(128, activation = 'relu'),\n",
    "    BatchNormalization(),\n",
    "    Dropout(0.5),\n",
    "    Dense(10, activation ='softmax'),\n",
    "])   "
   ]
  },
  {
   "cell_type": "markdown",
   "id": "b7433d0c-f3ac-40f9-84c7-832a4d3624c4",
   "metadata": {},
   "source": [
    "## Compiling the model"
   ]
  },
  {
   "cell_type": "code",
   "execution_count": 99,
   "id": "303f4334-37f3-4f35-b1b0-e19cc81471be",
   "metadata": {},
   "outputs": [],
   "source": [
    "model.compile(optimizer = 'adam', loss ='categorical_crossentropy', metrics=['accuracy'])"
   ]
  },
  {
   "cell_type": "markdown",
   "id": "e103b87b-f7b7-4a71-b8ff-2600528947a7",
   "metadata": {},
   "source": [
    "## Set up early stopping and learning rate reduction on plateau"
   ]
  },
  {
   "cell_type": "code",
   "execution_count": 96,
   "id": "7f653349-2623-4431-a11a-fd81c09abf4c",
   "metadata": {},
   "outputs": [],
   "source": [
    "early_stopping = EarlyStopping(monitor ='val_loss', patience = 5, restore_best_weights = True)\n",
    "lr_reduction = ReduceLROnPlateau(monitor ='val_loss', factor = 0.5, patience = 3, min_lr =1e-5)"
   ]
  },
  {
   "cell_type": "markdown",
   "id": "51900d45-68fe-4df4-8fef-574d6e3ff600",
   "metadata": {},
   "source": [
    "# Training the Model with data augmentation"
   ]
  },
  {
   "cell_type": "code",
   "execution_count": 101,
   "id": "359054cb-ff82-47b2-b563-0e1480f4ca27",
   "metadata": {},
   "outputs": [
    {
     "name": "stdout",
     "output_type": "stream",
     "text": [
      "Epoch 1/15\n",
      "\u001b[1m134/134\u001b[0m \u001b[32m━━━━━━━━━━━━━━━━━━━━\u001b[0m\u001b[37m\u001b[0m \u001b[1m24s\u001b[0m 181ms/step - accuracy: 0.7798 - loss: 0.6127 - val_accuracy: 0.8309 - val_loss: 0.4632 - learning_rate: 0.0010\n",
      "Epoch 2/15\n",
      "\u001b[1m134/134\u001b[0m \u001b[32m━━━━━━━━━━━━━━━━━━━━\u001b[0m\u001b[37m\u001b[0m \u001b[1m23s\u001b[0m 171ms/step - accuracy: 0.7842 - loss: 0.5965 - val_accuracy: 0.8345 - val_loss: 0.4549 - learning_rate: 0.0010\n",
      "Epoch 3/15\n",
      "\u001b[1m134/134\u001b[0m \u001b[32m━━━━━━━━━━━━━━━━━━━━\u001b[0m\u001b[37m\u001b[0m \u001b[1m26s\u001b[0m 192ms/step - accuracy: 0.7904 - loss: 0.5824 - val_accuracy: 0.8290 - val_loss: 0.4646 - learning_rate: 0.0010\n",
      "Epoch 4/15\n",
      "\u001b[1m134/134\u001b[0m \u001b[32m━━━━━━━━━━━━━━━━━━━━\u001b[0m\u001b[37m\u001b[0m \u001b[1m24s\u001b[0m 176ms/step - accuracy: 0.7914 - loss: 0.5876 - val_accuracy: 0.8213 - val_loss: 0.4762 - learning_rate: 0.0010\n",
      "Epoch 5/15\n",
      "\u001b[1m134/134\u001b[0m \u001b[32m━━━━━━━━━━━━━━━━━━━━\u001b[0m\u001b[37m\u001b[0m \u001b[1m25s\u001b[0m 189ms/step - accuracy: 0.7908 - loss: 0.5870 - val_accuracy: 0.8315 - val_loss: 0.4613 - learning_rate: 0.0010\n",
      "Epoch 6/15\n",
      "\u001b[1m134/134\u001b[0m \u001b[32m━━━━━━━━━━━━━━━━━━━━\u001b[0m\u001b[37m\u001b[0m \u001b[1m28s\u001b[0m 208ms/step - accuracy: 0.7908 - loss: 0.5891 - val_accuracy: 0.8365 - val_loss: 0.4552 - learning_rate: 5.0000e-04\n",
      "Epoch 7/15\n",
      "\u001b[1m134/134\u001b[0m \u001b[32m━━━━━━━━━━━━━━━━━━━━\u001b[0m\u001b[37m\u001b[0m \u001b[1m23s\u001b[0m 173ms/step - accuracy: 0.7915 - loss: 0.5756 - val_accuracy: 0.8180 - val_loss: 0.4868 - learning_rate: 5.0000e-04\n"
     ]
    }
   ],
   "source": [
    "history = model.fit(\n",
    "    datagen.flow(X_train,y_train, batch_size =450),\n",
    "    epochs =15,\n",
    "    validation_data =(X_test, y_test),\n",
    "    callbacks = [early_stopping, lr_reduction]\n",
    ")"
   ]
  },
  {
   "cell_type": "markdown",
   "id": "1cb78142-6139-4569-87a3-404d49c399be",
   "metadata": {},
   "source": [
    "# Evaluating the Model"
   ]
  },
  {
   "cell_type": "code",
   "execution_count": 102,
   "id": "566e9444-4b5e-4c7d-81d4-44db516a6fb0",
   "metadata": {},
   "outputs": [
    {
     "name": "stdout",
     "output_type": "stream",
     "text": [
      "\u001b[1m313/313\u001b[0m \u001b[32m━━━━━━━━━━━━━━━━━━━━\u001b[0m\u001b[37m\u001b[0m \u001b[1m1s\u001b[0m 4ms/step\n"
     ]
    }
   ],
   "source": [
    "y_pred = np.argmax(model.predict(X_test), axis = 1)\n",
    "y_test_classes = np.argmax(y_test, axis = 1)"
   ]
  },
  {
   "cell_type": "markdown",
   "id": "7c5804d5-f6a9-4174-80f1-4a86cab3d866",
   "metadata": {},
   "source": [
    "## Printing the accuracy and classification report"
   ]
  },
  {
   "cell_type": "code",
   "execution_count": 103,
   "id": "855ce74b-6efe-4ce3-8e9b-87b6ff4c0288",
   "metadata": {},
   "outputs": [
    {
     "name": "stdout",
     "output_type": "stream",
     "text": [
      "Model Accuracy:  0.8345\n",
      "\n",
      "Classification Report:\n",
      "               precision    recall  f1-score   support\n",
      "\n",
      "           0       0.72      0.86      0.78      1000\n",
      "           1       0.99      0.96      0.97      1000\n",
      "           2       0.75      0.80      0.77      1000\n",
      "           3       0.84      0.83      0.84      1000\n",
      "           4       0.68      0.79      0.73      1000\n",
      "           5       0.92      0.97      0.95      1000\n",
      "           6       0.56      0.32      0.41      1000\n",
      "           7       0.94      0.91      0.92      1000\n",
      "           8       0.94      0.97      0.96      1000\n",
      "           9       0.94      0.94      0.94      1000\n",
      "\n",
      "    accuracy                           0.83     10000\n",
      "   macro avg       0.83      0.83      0.83     10000\n",
      "weighted avg       0.83      0.83      0.83     10000\n",
      "\n"
     ]
    }
   ],
   "source": [
    "accuracy = accuracy_score(y_test_classes, y_pred)\n",
    "print(\"Model Accuracy: \",accuracy)\n",
    "print(\"\\nClassification Report:\\n\" , classification_report(y_test_classes,y_pred))"
   ]
  },
  {
   "cell_type": "markdown",
   "id": "a04f4da2-8049-4f5b-b5ab-237e344cb802",
   "metadata": {},
   "source": [
    "## Plot Training History "
   ]
  },
  {
   "cell_type": "code",
   "execution_count": 104,
   "id": "464ff29f-b1f9-4094-b0ff-575d3a487fd5",
   "metadata": {},
   "outputs": [
    {
     "data": {
      "image/png": "[encoded data removed]",
      "text/plain": [
       "<Figure size 640x480 with 1 Axes>"
      ]
     },
     "metadata": {},
     "output_type": "display_data"
    }
   ],
   "source": [
    "plt.plot(history.history['accuracy'], label = 'Train Accuracy')\n",
    "plt.plot(history.history['val_accuracy'], label ='Validation Accuracy')\n",
    "plt.xlabel('Epochs')\n",
    "plt.ylabel('Accuracy')\n",
    "plt.legend()\n",
    "plt.title('Training and Validation Accuracy')\n",
    "plt.show()"
   ]
  }
 ],
 "metadata": {
  "kernelspec": {
   "display_name": "Python 3 (ipykernel)",
   "language": "python",
   "name": "python3"
  },
  "language_info": {
   "codemirror_mode": {
    "name": "ipython",
    "version": 3
   },
   "file_extension": ".py",
   "mimetype": "text/x-python",
   "name": "python",
   "nbconvert_exporter": "python",
   "pygments_lexer": "ipython3",
   "version": "3.11.5"
  }
 },
 "nbformat": 4,
 "nbformat_minor": 5
}
