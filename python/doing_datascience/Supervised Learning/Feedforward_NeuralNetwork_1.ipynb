{
 "cells": [
  {
   "cell_type": "markdown",
   "id": "0be149be-d538-4bf2-83ea-ca7016ef2fe1",
   "metadata": {},
   "source": [
    "# Importing the Data"
   ]
  },
  {
   "cell_type": "code",
   "execution_count": 12,
   "id": "813ec77b-ff05-4cf5-b621-606412a630a1",
   "metadata": {},
   "outputs": [],
   "source": [
    "import numpy as np\n",
    "import tensorflow as tf\n",
    "from tensorflow.keras.models import Sequential\n",
    "from tensorflow.keras.layers import Dense\n",
    "from tensorflow.keras.utils import to_categorical\n",
    "from sklearn.model_selection import train_test_split\n",
    "from sklearn.datasets import load_iris\n",
    "from sklearn.preprocessing import StandardScaler"
   ]
  },
  {
   "cell_type": "markdown",
   "id": "c460db76-cba5-4d66-95cf-7ceff7df6a6b",
   "metadata": {},
   "source": [
    "# Data Preperation"
   ]
  },
  {
   "cell_type": "markdown",
   "id": "22eacc5c-b05c-4860-8cae-b3566926f0f4",
   "metadata": {},
   "source": [
    "## Loading the Iris dataset"
   ]
  },
  {
   "cell_type": "code",
   "execution_count": 102,
   "id": "9639d828-3cb2-4e39-a680-091e1e595552",
   "metadata": {},
   "outputs": [],
   "source": [
    "data = load_iris()\n",
    "X,y =data.data, data.target"
   ]
  },
  {
   "cell_type": "markdown",
   "id": "fa016b68-f564-446c-a05c-329a1b5eb4e9",
   "metadata": {},
   "source": [
    "## One-hot encode the labels"
   ]
  },
  {
   "cell_type": "code",
   "execution_count": 103,
   "id": "bab6e9e6-385e-4d79-a71b-a11c3b6ccf98",
   "metadata": {},
   "outputs": [],
   "source": [
    "y = to_categorical(y)"
   ]
  },
  {
   "cell_type": "markdown",
   "id": "ec8217ce-ed1e-4c60-b37e-46630f2f7e31",
   "metadata": {},
   "source": [
    "## Splitting the dataset into training and testing sets"
   ]
  },
  {
   "cell_type": "code",
   "execution_count": 126,
   "id": "539cfadf-2225-49aa-8cff-0f9dcecafc97",
   "metadata": {},
   "outputs": [],
   "source": [
    "X_train, X_test, y_train, y_test = train_test_split(X, y, test_size = 0.45, random_state = 35)"
   ]
  },
  {
   "cell_type": "markdown",
   "id": "1b95f9e3-93ff-4fb8-862e-ec5315806edd",
   "metadata": {},
   "source": [
    "## Scaling the feature "
   ]
  },
  {
   "cell_type": "code",
   "execution_count": 127,
   "id": "a40718fa-96b0-47d4-bb1e-89dbf8881616",
   "metadata": {},
   "outputs": [],
   "source": [
    "scaler = StandardScaler()\n",
    "X_train = scaler.fit_transform(X_train)\n",
    "X_test = scaler.transform(X_test)"
   ]
  },
  {
   "cell_type": "markdown",
   "id": "0c15bef1-0b9e-495b-8959-7150977a9488",
   "metadata": {},
   "source": [
    "# Building the Model"
   ]
  },
  {
   "cell_type": "code",
   "execution_count": 128,
   "id": "22cc7c43-5fa6-4f0b-b7cf-741c975fdeab",
   "metadata": {},
   "outputs": [
    {
     "name": "stderr",
     "output_type": "stream",
     "text": [
      "C:\\Users\\furka\\anaconda3\\Lib\\site-packages\\keras\\src\\layers\\core\\dense.py:87: UserWarning: Do not pass an `input_shape`/`input_dim` argument to a layer. When using Sequential models, prefer using an `Input(shape)` object as the first layer in the model instead.\n",
      "  super().__init__(activity_regularizer=activity_regularizer, **kwargs)\n"
     ]
    }
   ],
   "source": [
    "model = Sequential([\n",
    "    Dense(64, input_shape =(X_train.shape[1],), activation ='relu'),\n",
    "    Dense(32, activation='relu'),\n",
    "    Dense(16, activation ='relu'),\n",
    "    Dense(3, activation = 'softmax')\n",
    "])"
   ]
  },
  {
   "cell_type": "markdown",
   "id": "a5d56258-716c-443f-8ea4-f3a768f6bcd0",
   "metadata": {},
   "source": [
    "## Compiling the model"
   ]
  },
  {
   "cell_type": "code",
   "execution_count": 129,
   "id": "0219d671-4b86-466d-987a-62506be5c573",
   "metadata": {},
   "outputs": [],
   "source": [
    "model.compile(optimizer ='adam', loss='categorical_crossentropy', metrics =['accuracy'])"
   ]
  },
  {
   "cell_type": "markdown",
   "id": "201d0e6b-f025-4d93-9844-c86437d403de",
   "metadata": {},
   "source": [
    "## Training the model"
   ]
  },
  {
   "cell_type": "code",
   "execution_count": 130,
   "id": "dab524b7-9f8f-4dea-961d-70dd1a3aaf18",
   "metadata": {
    "scrolled": true
   },
   "outputs": [
    {
     "name": "stdout",
     "output_type": "stream",
     "text": [
      "Epoch 1/25\n",
      "\u001b[1m22/22\u001b[0m \u001b[32m━━━━━━━━━━━━━━━━━━━━\u001b[0m\u001b[37m\u001b[0m \u001b[1m1s\u001b[0m 12ms/step - accuracy: 0.2252 - loss: 1.1044 - val_accuracy: 0.8824 - val_loss: 0.9499\n",
      "Epoch 2/25\n",
      "\u001b[1m22/22\u001b[0m \u001b[32m━━━━━━━━━━━━━━━━━━━━\u001b[0m\u001b[37m\u001b[0m \u001b[1m0s\u001b[0m 4ms/step - accuracy: 0.7965 - loss: 0.9223 - val_accuracy: 0.8824 - val_loss: 0.7807\n",
      "Epoch 3/25\n",
      "\u001b[1m22/22\u001b[0m \u001b[32m━━━━━━━━━━━━━━━━━━━━\u001b[0m\u001b[37m\u001b[0m \u001b[1m0s\u001b[0m 3ms/step - accuracy: 0.7907 - loss: 0.7486 - val_accuracy: 0.8824 - val_loss: 0.6222\n",
      "Epoch 4/25\n",
      "\u001b[1m22/22\u001b[0m \u001b[32m━━━━━━━━━━━━━━━━━━━━\u001b[0m\u001b[37m\u001b[0m \u001b[1m0s\u001b[0m 3ms/step - accuracy: 0.8312 - loss: 0.5970 - val_accuracy: 0.8824 - val_loss: 0.4902\n",
      "Epoch 5/25\n",
      "\u001b[1m22/22\u001b[0m \u001b[32m━━━━━━━━━━━━━━━━━━━━\u001b[0m\u001b[37m\u001b[0m \u001b[1m0s\u001b[0m 4ms/step - accuracy: 0.8554 - loss: 0.4907 - val_accuracy: 0.8824 - val_loss: 0.4003\n",
      "Epoch 6/25\n",
      "\u001b[1m22/22\u001b[0m \u001b[32m━━━━━━━━━━━━━━━━━━━━\u001b[0m\u001b[37m\u001b[0m \u001b[1m0s\u001b[0m 4ms/step - accuracy: 0.9079 - loss: 0.3289 - val_accuracy: 0.8824 - val_loss: 0.3432\n",
      "Epoch 7/25\n",
      "\u001b[1m22/22\u001b[0m \u001b[32m━━━━━━━━━━━━━━━━━━━━\u001b[0m\u001b[37m\u001b[0m \u001b[1m0s\u001b[0m 4ms/step - accuracy: 0.8378 - loss: 0.4247 - val_accuracy: 0.8824 - val_loss: 0.2915\n",
      "Epoch 8/25\n",
      "\u001b[1m22/22\u001b[0m \u001b[32m━━━━━━━━━━━━━━━━━━━━\u001b[0m\u001b[37m\u001b[0m \u001b[1m0s\u001b[0m 4ms/step - accuracy: 0.9140 - loss: 0.2725 - val_accuracy: 0.8824 - val_loss: 0.2529\n",
      "Epoch 9/25\n",
      "\u001b[1m22/22\u001b[0m \u001b[32m━━━━━━━━━━━━━━━━━━━━\u001b[0m\u001b[37m\u001b[0m \u001b[1m0s\u001b[0m 4ms/step - accuracy: 0.9294 - loss: 0.2682 - val_accuracy: 0.9412 - val_loss: 0.2167\n",
      "Epoch 10/25\n",
      "\u001b[1m22/22\u001b[0m \u001b[32m━━━━━━━━━━━━━━━━━━━━\u001b[0m\u001b[37m\u001b[0m \u001b[1m0s\u001b[0m 3ms/step - accuracy: 0.9537 - loss: 0.1650 - val_accuracy: 0.9412 - val_loss: 0.1918\n",
      "Epoch 11/25\n",
      "\u001b[1m22/22\u001b[0m \u001b[32m━━━━━━━━━━━━━━━━━━━━\u001b[0m\u001b[37m\u001b[0m \u001b[1m0s\u001b[0m 5ms/step - accuracy: 0.9531 - loss: 0.1280 - val_accuracy: 0.9412 - val_loss: 0.1669\n",
      "Epoch 12/25\n",
      "\u001b[1m22/22\u001b[0m \u001b[32m━━━━━━━━━━━━━━━━━━━━\u001b[0m\u001b[37m\u001b[0m \u001b[1m0s\u001b[0m 4ms/step - accuracy: 0.9446 - loss: 0.1108 - val_accuracy: 0.9412 - val_loss: 0.1488\n",
      "Epoch 13/25\n",
      "\u001b[1m22/22\u001b[0m \u001b[32m━━━━━━━━━━━━━━━━━━━━\u001b[0m\u001b[37m\u001b[0m \u001b[1m0s\u001b[0m 3ms/step - accuracy: 0.9820 - loss: 0.1287 - val_accuracy: 0.9412 - val_loss: 0.1321\n",
      "Epoch 14/25\n",
      "\u001b[1m22/22\u001b[0m \u001b[32m━━━━━━━━━━━━━━━━━━━━\u001b[0m\u001b[37m\u001b[0m \u001b[1m0s\u001b[0m 3ms/step - accuracy: 0.9930 - loss: 0.0869 - val_accuracy: 0.9412 - val_loss: 0.1177\n",
      "Epoch 15/25\n",
      "\u001b[1m22/22\u001b[0m \u001b[32m━━━━━━━━━━━━━━━━━━━━\u001b[0m\u001b[37m\u001b[0m \u001b[1m0s\u001b[0m 3ms/step - accuracy: 0.9849 - loss: 0.0820 - val_accuracy: 0.9412 - val_loss: 0.1091\n",
      "Epoch 16/25\n",
      "\u001b[1m22/22\u001b[0m \u001b[32m━━━━━━━━━━━━━━━━━━━━\u001b[0m\u001b[37m\u001b[0m \u001b[1m0s\u001b[0m 3ms/step - accuracy: 0.9607 - loss: 0.1035 - val_accuracy: 1.0000 - val_loss: 0.1010\n",
      "Epoch 17/25\n",
      "\u001b[1m22/22\u001b[0m \u001b[32m━━━━━━━━━━━━━━━━━━━━\u001b[0m\u001b[37m\u001b[0m \u001b[1m0s\u001b[0m 3ms/step - accuracy: 0.9783 - loss: 0.0711 - val_accuracy: 1.0000 - val_loss: 0.0951\n",
      "Epoch 18/25\n",
      "\u001b[1m22/22\u001b[0m \u001b[32m━━━━━━━━━━━━━━━━━━━━\u001b[0m\u001b[37m\u001b[0m \u001b[1m0s\u001b[0m 3ms/step - accuracy: 0.9643 - loss: 0.0664 - val_accuracy: 1.0000 - val_loss: 0.0865\n",
      "Epoch 19/25\n",
      "\u001b[1m22/22\u001b[0m \u001b[32m━━━━━━━━━━━━━━━━━━━━\u001b[0m\u001b[37m\u001b[0m \u001b[1m0s\u001b[0m 3ms/step - accuracy: 0.9760 - loss: 0.0632 - val_accuracy: 1.0000 - val_loss: 0.0801\n",
      "Epoch 20/25\n",
      "\u001b[1m22/22\u001b[0m \u001b[32m━━━━━━━━━━━━━━━━━━━━\u001b[0m\u001b[37m\u001b[0m \u001b[1m0s\u001b[0m 3ms/step - accuracy: 0.9985 - loss: 0.0337 - val_accuracy: 1.0000 - val_loss: 0.0770\n",
      "Epoch 21/25\n",
      "\u001b[1m22/22\u001b[0m \u001b[32m━━━━━━━━━━━━━━━━━━━━\u001b[0m\u001b[37m\u001b[0m \u001b[1m0s\u001b[0m 3ms/step - accuracy: 0.9847 - loss: 0.0482 - val_accuracy: 1.0000 - val_loss: 0.0710\n",
      "Epoch 22/25\n",
      "\u001b[1m22/22\u001b[0m \u001b[32m━━━━━━━━━━━━━━━━━━━━\u001b[0m\u001b[37m\u001b[0m \u001b[1m0s\u001b[0m 3ms/step - accuracy: 0.9769 - loss: 0.0447 - val_accuracy: 1.0000 - val_loss: 0.0633\n",
      "Epoch 23/25\n",
      "\u001b[1m22/22\u001b[0m \u001b[32m━━━━━━━━━━━━━━━━━━━━\u001b[0m\u001b[37m\u001b[0m \u001b[1m0s\u001b[0m 3ms/step - accuracy: 1.0000 - loss: 0.0647 - val_accuracy: 1.0000 - val_loss: 0.0785\n",
      "Epoch 24/25\n",
      "\u001b[1m22/22\u001b[0m \u001b[32m━━━━━━━━━━━━━━━━━━━━\u001b[0m\u001b[37m\u001b[0m \u001b[1m0s\u001b[0m 3ms/step - accuracy: 0.9987 - loss: 0.0361 - val_accuracy: 1.0000 - val_loss: 0.0552\n",
      "Epoch 25/25\n",
      "\u001b[1m22/22\u001b[0m \u001b[32m━━━━━━━━━━━━━━━━━━━━\u001b[0m\u001b[37m\u001b[0m \u001b[1m0s\u001b[0m 3ms/step - accuracy: 0.9825 - loss: 0.0482 - val_accuracy: 1.0000 - val_loss: 0.0506\n"
     ]
    }
   ],
   "source": [
    "history = model.fit(X_train,y_train, epochs=25, batch_size =3, validation_split =0.2,verbose =1)"
   ]
  },
  {
   "cell_type": "markdown",
   "id": "0d158f57-bb25-492c-8815-3636bf728b72",
   "metadata": {},
   "source": [
    "# Evaluating the Model"
   ]
  },
  {
   "cell_type": "code",
   "execution_count": 131,
   "id": "e0074817-8b14-45a5-8a73-f286610a29e8",
   "metadata": {},
   "outputs": [
    {
     "name": "stdout",
     "output_type": "stream",
     "text": [
      "Test accuracy: 0.9265\n"
     ]
    }
   ],
   "source": [
    "test_loss, test_accuracy = model.evaluate(X_test, y_test, verbose = 0.15)\n",
    "print(f\"Test accuracy: {test_accuracy:.4f}\")"
   ]
  },
  {
   "cell_type": "markdown",
   "id": "19a9ba53-2d7d-49be-9d3d-9717835dd36a",
   "metadata": {},
   "source": [
    "## Make predictions on test set"
   ]
  },
  {
   "cell_type": "code",
   "execution_count": 132,
   "id": "c1ecd14b-dc51-405c-b8f2-3dbaffb336d4",
   "metadata": {},
   "outputs": [
    {
     "name": "stdout",
     "output_type": "stream",
     "text": [
      "\u001b[1m3/3\u001b[0m \u001b[32m━━━━━━━━━━━━━━━━━━━━\u001b[0m\u001b[37m\u001b[0m \u001b[1m0s\u001b[0m 22ms/step\n"
     ]
    }
   ],
   "source": [
    "predictions = model.predict(X_test)\n",
    "predicted_classes = np.argmax(predictions,axis =1)\n",
    "true_classes = np.argmax(y_test, axis =1)"
   ]
  },
  {
   "cell_type": "markdown",
   "id": "f24fce2e-a479-423b-a0d7-69ef9d05e4bf",
   "metadata": {},
   "source": [
    "## Printing the predictions vs actual labes"
   ]
  },
  {
   "cell_type": "code",
   "execution_count": 133,
   "id": "027684a0-b139-4349-92b8-45df886fa1a2",
   "metadata": {},
   "outputs": [
    {
     "name": "stdout",
     "output_type": "stream",
     "text": [
      "Predicted labels:  [1 1 2 1 0 2 2 1 1 0 1 2 0 2 0 2 1 0 0 0 1 1 2 1 0 0 0 2 0 2 0 2 1 0 1 1 0\n",
      " 2 2 1 1 0 0 1 2 2 0 2 2 1 2 1 1 2 0 1 1 1 0 1 0 2 0 2 1 1 0 0]\n",
      "True labels: [1 1 2 1 0 2 2 1 1 0 1 2 0 2 0 2 1 0 0 0 1 1 2 1 0 0 0 2 0 2 0 1 2 0 1 2 0\n",
      " 2 2 2 1 0 0 1 2 2 0 2 2 1 2 1 1 1 0 1 1 1 0 1 0 2 0 2 1 1 0 0]\n"
     ]
    }
   ],
   "source": [
    "print(\"Predicted labels: \", predicted_classes)\n",
    "print(\"True labels:\",true_classes)"
   ]
  },
  {
   "cell_type": "markdown",
   "id": "5739ba1a-03f1-4a56-ae02-28b12ca432f0",
   "metadata": {},
   "source": [
    "# Comparision"
   ]
  },
  {
   "cell_type": "code",
   "execution_count": 134,
   "id": "354f48ca-3895-40ae-aeeb-fcd557d61589",
   "metadata": {},
   "outputs": [
    {
     "name": "stdout",
     "output_type": "stream",
     "text": [
      "Accuracy: 0.9265\n",
      "\n",
      "Confusion Matrix:\n",
      "[[23  0  0]\n",
      " [ 0 22  2]\n",
      " [ 0  3 18]]\n",
      "\n",
      "Classification Report:\n",
      "              precision    recall  f1-score   support\n",
      "\n",
      "      setosa       1.00      1.00      1.00        23\n",
      "  versicolor       0.88      0.92      0.90        24\n",
      "   virginica       0.90      0.86      0.88        21\n",
      "\n",
      "    accuracy                           0.93        68\n",
      "   macro avg       0.93      0.92      0.93        68\n",
      "weighted avg       0.93      0.93      0.93        68\n",
      "\n"
     ]
    }
   ],
   "source": [
    "from sklearn.metrics import accuracy_score, confusion_matrix, classification_report\n",
    "\n",
    "# Assuming 'predicted_classes' are the predicted labels (from model predictions)\n",
    "# and 'true_classes' are the actual labels\n",
    "\n",
    "# 1. Calculate accuracy\n",
    "accuracy = accuracy_score(true_classes, predicted_classes)\n",
    "print(f\"Accuracy: {accuracy:.4f}\")\n",
    "\n",
    "# 2. Generate confusion matrix\n",
    "conf_matrix = confusion_matrix(true_classes, predicted_classes)\n",
    "print(\"\\nConfusion Matrix:\")\n",
    "print(conf_matrix)\n",
    "\n",
    "# 3. Print classification report\n",
    "class_report = classification_report(true_classes, predicted_classes, target_names=data.target_names)\n",
    "print(\"\\nClassification Report:\")\n",
    "print(class_report)"
   ]
  },
  {
   "cell_type": "code",
   "execution_count": 135,
   "id": "67f1df35-d455-49c0-8bba-b99d05708913",
   "metadata": {},
   "outputs": [
    {
     "data": {
      "image/png": "[encoded data removed]",
      "text/plain": [
       "<Figure size 800x600 with 2 Axes>"
      ]
     },
     "metadata": {},
     "output_type": "display_data"
    }
   ],
   "source": [
    "import numpy as np\n",
    "import matplotlib.pyplot as plt\n",
    "import seaborn as sns\n",
    "\n",
    "# Plot the confusion matrix as a heatmap\n",
    "plt.figure(figsize=(8, 6))\n",
    "sns.heatmap(conf_matrix, annot=True, fmt='d', cmap='Blues', xticklabels=data.target_names, yticklabels=data.target_names)\n",
    "plt.xlabel('Predicted Labels')\n",
    "plt.ylabel('True Labels')\n",
    "plt.title('Confusion Matrix')\n",
    "plt.show()"
   ]
  },
  {
   "cell_type": "code",
   "execution_count": 136,
   "id": "450a2402-36b2-49bc-bdd3-bddafa68e23a",
   "metadata": {},
   "outputs": [
    {
     "name": "stdout",
     "output_type": "stream",
     "text": [
      "X_test:  (68, 4)\n",
      "y_test:  (68, 3)\n",
      "X_train:  (82, 4)\n",
      "y_train:  (82, 3)\n"
     ]
    }
   ],
   "source": [
    "print(\"X_test: \", X_test.shape)\n",
    "print(\"y_test: \", y_test.shape)\n",
    "print(\"X_train: \", X_train.shape)\n",
    "print(\"y_train: \", y_train.shape)"
   ]
  }
 ],
 "metadata": {
  "kernelspec": {
   "display_name": "Python 3 (ipykernel)",
   "language": "python",
   "name": "python3"
  },
  "language_info": {
   "codemirror_mode": {
    "name": "ipython",
    "version": 3
   },
   "file_extension": ".py",
   "mimetype": "text/x-python",
   "name": "python",
   "nbconvert_exporter": "python",
   "pygments_lexer": "ipython3",
   "version": "3.11.5"
  }
 },
 "nbformat": 4,
 "nbformat_minor": 5
}
