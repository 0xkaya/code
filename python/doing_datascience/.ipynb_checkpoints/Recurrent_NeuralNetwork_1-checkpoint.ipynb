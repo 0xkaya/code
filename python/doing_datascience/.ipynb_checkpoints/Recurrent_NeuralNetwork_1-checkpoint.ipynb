{
 "cells": [
  {
   "cell_type": "markdown",
   "id": "f6580125-cbf5-441d-800a-3a7115624c04",
   "metadata": {},
   "source": [
    "# Recurrent Neural Network(RNN)\n",
    "\n",
    "**Purpose:** Designed for sequential data where the order of data points matters. \n",
    "\n",
    "## Key Features:\n",
    "\n",
    "**Recurrent Connections:** Have loops that allow information to persist, making them suitable for time-dependent data.\n",
    "\n",
    "**Types of RNN Cells:** Basic RNN, Long Short-Term Memory (LSTM), and Gated Recurrent Units (GRU) which address issues like vanishing gradients.\n",
    "\n",
    "**Applications:** Natural language processing (NLP), speech recognition, time-series forecasting, and music generation.\n",
    "\n",
    "**Examples:** LSTM, GRU, Seq2Seq."
   ]
  },
  {
   "cell_type": "markdown",
   "id": "38799abf-255a-46bb-9a12-c1884d99d81a",
   "metadata": {},
   "source": [
    "# Importing Packages"
   ]
  },
  {
   "cell_type": "code",
   "execution_count": 28,
   "id": "28b62ab9-c649-4ec0-9bd4-000301f163e0",
   "metadata": {},
   "outputs": [],
   "source": [
    "import numpy as np\n",
    "import tensorflow as tf\n",
    "from tensorflow.keras.datasets import imdb\n",
    "from tensorflow.keras.models import Sequential\n",
    "from tensorflow.keras.layers import Embedding, SimpleRNN, Dense\n",
    "from tensorflow.keras.preprocessing.sequence import pad_sequences\n",
    "import matplotlib.pyplot as plt"
   ]
  },
  {
   "cell_type": "code",
   "execution_count": 3,
   "id": "9e13ce55-05b1-404d-ade3-f121ccb568df",
   "metadata": {},
   "outputs": [],
   "source": [
    "# Data Preperation"
   ]
  },
  {
   "cell_type": "code",
   "execution_count": 4,
   "id": "f64dda24-6e9c-4ffa-9030-b3f17cadef88",
   "metadata": {},
   "outputs": [],
   "source": [
    "## Loading the IMDB dataset"
   ]
  },
  {
   "cell_type": "code",
   "execution_count": 6,
   "id": "1756b8c7-b1f1-48fc-9992-55abc1023ce0",
   "metadata": {},
   "outputs": [],
   "source": [
    "max_features = 10000 # Only consider the top 10,000 words in the dataset\n",
    "maxlen = 200  # Cut reviews after 200 words"
   ]
  },
  {
   "cell_type": "code",
   "execution_count": 7,
   "id": "ddd075ba-5576-43f8-9e78-a431582d7a14",
   "metadata": {},
   "outputs": [
    {
     "name": "stdout",
     "output_type": "stream",
     "text": [
      "Downloading data from https://storage.googleapis.com/tensorflow/tf-keras-datasets/imdb.npz\n",
      "\u001b[1m17464789/17464789\u001b[0m \u001b[32m━━━━━━━━━━━━━━━━━━━━\u001b[0m\u001b[37m\u001b[0m \u001b[1m3s\u001b[0m 0us/step\n"
     ]
    }
   ],
   "source": [
    "(X_train, y_train), (X_test, y_test) = imdb.load_data(num_words = max_features)"
   ]
  },
  {
   "cell_type": "code",
   "execution_count": 8,
   "id": "55b3ccd3-0291-43df-b854-94159236f592",
   "metadata": {},
   "outputs": [],
   "source": [
    "## Pad sequences to ensure each review has the same lenght"
   ]
  },
  {
   "cell_type": "code",
   "execution_count": 9,
   "id": "631f8b6a-a034-4f2e-adaa-c39695986ec9",
   "metadata": {},
   "outputs": [],
   "source": [
    "X_train = pad_sequences(X_train, maxlen = maxlen)\n",
    "X_test = pad_sequences(X_test, maxlen = maxlen)"
   ]
  },
  {
   "cell_type": "code",
   "execution_count": 15,
   "id": "cb594fe1-b6f0-4b20-85b8-d97857920788",
   "metadata": {},
   "outputs": [
    {
     "data": {
      "text/plain": [
       "(25000, 200)"
      ]
     },
     "execution_count": 15,
     "metadata": {},
     "output_type": "execute_result"
    }
   ],
   "source": [
    "X_test.shape"
   ]
  },
  {
   "cell_type": "code",
   "execution_count": 16,
   "id": "62f88249-dba6-4a77-ab39-cf20ef9de627",
   "metadata": {},
   "outputs": [],
   "source": [
    "# Building the RNN Model"
   ]
  },
  {
   "cell_type": "code",
   "execution_count": 17,
   "id": "04daed69-52a8-4068-8f7b-5e553052c0cd",
   "metadata": {},
   "outputs": [
    {
     "name": "stderr",
     "output_type": "stream",
     "text": [
      "C:\\Users\\furka\\anaconda3\\Lib\\site-packages\\keras\\src\\layers\\core\\embedding.py:90: UserWarning: Argument `input_length` is deprecated. Just remove it.\n",
      "  warnings.warn(\n"
     ]
    }
   ],
   "source": [
    "model = Sequential([\n",
    "    Embedding(input_dim = max_features, output_dim =32, input_length = maxlen),\n",
    "    SimpleRNN(units=32, return_sequences = False),\n",
    "    Dense(1, activation ='sigmoid')\n",
    "])"
   ]
  },
  {
   "cell_type": "code",
   "execution_count": 18,
   "id": "c6dc6084-7762-4ac2-9447-55044e3c5615",
   "metadata": {},
   "outputs": [],
   "source": [
    "## Compiling the model"
   ]
  },
  {
   "cell_type": "code",
   "execution_count": 20,
   "id": "cb6af89b-ad02-4ae4-8ab1-5145a099cc87",
   "metadata": {},
   "outputs": [],
   "source": [
    "model.compile(optimizer ='adam', loss = 'binary_crossentropy', metrics=['accuracy'])"
   ]
  },
  {
   "cell_type": "code",
   "execution_count": 21,
   "id": "fb65d2f4-0cdf-4ebb-a679-5d4e55babfc8",
   "metadata": {},
   "outputs": [],
   "source": [
    "## Printting a summary of the model "
   ]
  },
  {
   "cell_type": "code",
   "execution_count": 22,
   "id": "cd2456c5-3b0f-4126-b04c-a881f431dc33",
   "metadata": {},
   "outputs": [
    {
     "data": {
      "text/html": [
       "<pre style=\"white-space:pre;overflow-x:auto;line-height:normal;font-family:Menlo,'DejaVu Sans Mono',consolas,'Courier New',monospace\"><span style=\"font-weight: bold\">Model: \"sequential\"</span>\n",
       "</pre>\n"
      ],
      "text/plain": [
       "\u001b[1mModel: \"sequential\"\u001b[0m\n"
      ]
     },
     "metadata": {},
     "output_type": "display_data"
    },
    {
     "data": {
      "text/html": [
       "<pre style=\"white-space:pre;overflow-x:auto;line-height:normal;font-family:Menlo,'DejaVu Sans Mono',consolas,'Courier New',monospace\">┏━━━━━━━━━━━━━━━━━━━━━━━━━━━━━━━━━┳━━━━━━━━━━━━━━━━━━━━━━━━┳━━━━━━━━━━━━━━━┓\n",
       "┃<span style=\"font-weight: bold\"> Layer (type)                    </span>┃<span style=\"font-weight: bold\"> Output Shape           </span>┃<span style=\"font-weight: bold\">       Param # </span>┃\n",
       "┡━━━━━━━━━━━━━━━━━━━━━━━━━━━━━━━━━╇━━━━━━━━━━━━━━━━━━━━━━━━╇━━━━━━━━━━━━━━━┩\n",
       "│ embedding (<span style=\"color: #0087ff; text-decoration-color: #0087ff\">Embedding</span>)           │ ?                      │   <span style=\"color: #00af00; text-decoration-color: #00af00\">0</span> (unbuilt) │\n",
       "├─────────────────────────────────┼────────────────────────┼───────────────┤\n",
       "│ simple_rnn (<span style=\"color: #0087ff; text-decoration-color: #0087ff\">SimpleRNN</span>)          │ ?                      │   <span style=\"color: #00af00; text-decoration-color: #00af00\">0</span> (unbuilt) │\n",
       "├─────────────────────────────────┼────────────────────────┼───────────────┤\n",
       "│ dense (<span style=\"color: #0087ff; text-decoration-color: #0087ff\">Dense</span>)                   │ ?                      │   <span style=\"color: #00af00; text-decoration-color: #00af00\">0</span> (unbuilt) │\n",
       "└─────────────────────────────────┴────────────────────────┴───────────────┘\n",
       "</pre>\n"
      ],
      "text/plain": [
       "┏━━━━━━━━━━━━━━━━━━━━━━━━━━━━━━━━━┳━━━━━━━━━━━━━━━━━━━━━━━━┳━━━━━━━━━━━━━━━┓\n",
       "┃\u001b[1m \u001b[0m\u001b[1mLayer (type)                   \u001b[0m\u001b[1m \u001b[0m┃\u001b[1m \u001b[0m\u001b[1mOutput Shape          \u001b[0m\u001b[1m \u001b[0m┃\u001b[1m \u001b[0m\u001b[1m      Param #\u001b[0m\u001b[1m \u001b[0m┃\n",
       "┡━━━━━━━━━━━━━━━━━━━━━━━━━━━━━━━━━╇━━━━━━━━━━━━━━━━━━━━━━━━╇━━━━━━━━━━━━━━━┩\n",
       "│ embedding (\u001b[38;5;33mEmbedding\u001b[0m)           │ ?                      │   \u001b[38;5;34m0\u001b[0m (unbuilt) │\n",
       "├─────────────────────────────────┼────────────────────────┼───────────────┤\n",
       "│ simple_rnn (\u001b[38;5;33mSimpleRNN\u001b[0m)          │ ?                      │   \u001b[38;5;34m0\u001b[0m (unbuilt) │\n",
       "├─────────────────────────────────┼────────────────────────┼───────────────┤\n",
       "│ dense (\u001b[38;5;33mDense\u001b[0m)                   │ ?                      │   \u001b[38;5;34m0\u001b[0m (unbuilt) │\n",
       "└─────────────────────────────────┴────────────────────────┴───────────────┘\n"
      ]
     },
     "metadata": {},
     "output_type": "display_data"
    },
    {
     "data": {
      "text/html": [
       "<pre style=\"white-space:pre;overflow-x:auto;line-height:normal;font-family:Menlo,'DejaVu Sans Mono',consolas,'Courier New',monospace\"><span style=\"font-weight: bold\"> Total params: </span><span style=\"color: #00af00; text-decoration-color: #00af00\">0</span> (0.00 B)\n",
       "</pre>\n"
      ],
      "text/plain": [
       "\u001b[1m Total params: \u001b[0m\u001b[38;5;34m0\u001b[0m (0.00 B)\n"
      ]
     },
     "metadata": {},
     "output_type": "display_data"
    },
    {
     "data": {
      "text/html": [
       "<pre style=\"white-space:pre;overflow-x:auto;line-height:normal;font-family:Menlo,'DejaVu Sans Mono',consolas,'Courier New',monospace\"><span style=\"font-weight: bold\"> Trainable params: </span><span style=\"color: #00af00; text-decoration-color: #00af00\">0</span> (0.00 B)\n",
       "</pre>\n"
      ],
      "text/plain": [
       "\u001b[1m Trainable params: \u001b[0m\u001b[38;5;34m0\u001b[0m (0.00 B)\n"
      ]
     },
     "metadata": {},
     "output_type": "display_data"
    },
    {
     "data": {
      "text/html": [
       "<pre style=\"white-space:pre;overflow-x:auto;line-height:normal;font-family:Menlo,'DejaVu Sans Mono',consolas,'Courier New',monospace\"><span style=\"font-weight: bold\"> Non-trainable params: </span><span style=\"color: #00af00; text-decoration-color: #00af00\">0</span> (0.00 B)\n",
       "</pre>\n"
      ],
      "text/plain": [
       "\u001b[1m Non-trainable params: \u001b[0m\u001b[38;5;34m0\u001b[0m (0.00 B)\n"
      ]
     },
     "metadata": {},
     "output_type": "display_data"
    }
   ],
   "source": [
    "model.summary()"
   ]
  },
  {
   "cell_type": "markdown",
   "id": "f3f64470-9ae8-4f04-803d-a272105a80da",
   "metadata": {},
   "source": [
    "## Training the model"
   ]
  },
  {
   "cell_type": "code",
   "execution_count": 37,
   "id": "8928cd27-597f-4a7e-b319-0dabb774855f",
   "metadata": {},
   "outputs": [
    {
     "name": "stdout",
     "output_type": "stream",
     "text": [
      "Epoch 1/10\n",
      "\u001b[1m274/274\u001b[0m \u001b[32m━━━━━━━━━━━━━━━━━━━━\u001b[0m\u001b[37m\u001b[0m \u001b[1m6s\u001b[0m 21ms/step - accuracy: 1.0000 - loss: 6.2808e-04 - val_accuracy: 0.8755 - val_loss: 0.6005\n",
      "Epoch 2/10\n",
      "\u001b[1m274/274\u001b[0m \u001b[32m━━━━━━━━━━━━━━━━━━━━\u001b[0m\u001b[37m\u001b[0m \u001b[1m7s\u001b[0m 24ms/step - accuracy: 1.0000 - loss: 4.8597e-04 - val_accuracy: 0.8755 - val_loss: 0.6161\n",
      "Epoch 3/10\n",
      "\u001b[1m274/274\u001b[0m \u001b[32m━━━━━━━━━━━━━━━━━━━━\u001b[0m\u001b[37m\u001b[0m \u001b[1m7s\u001b[0m 25ms/step - accuracy: 1.0000 - loss: 3.8042e-04 - val_accuracy: 0.8752 - val_loss: 0.6311\n",
      "Epoch 4/10\n",
      "\u001b[1m274/274\u001b[0m \u001b[32m━━━━━━━━━━━━━━━━━━━━\u001b[0m\u001b[37m\u001b[0m \u001b[1m6s\u001b[0m 22ms/step - accuracy: 1.0000 - loss: 2.9994e-04 - val_accuracy: 0.8747 - val_loss: 0.6430\n",
      "Epoch 5/10\n",
      "\u001b[1m274/274\u001b[0m \u001b[32m━━━━━━━━━━━━━━━━━━━━\u001b[0m\u001b[37m\u001b[0m \u001b[1m6s\u001b[0m 20ms/step - accuracy: 1.0000 - loss: 2.4031e-04 - val_accuracy: 0.8752 - val_loss: 0.6546\n",
      "Epoch 6/10\n",
      "\u001b[1m274/274\u001b[0m \u001b[32m━━━━━━━━━━━━━━━━━━━━\u001b[0m\u001b[37m\u001b[0m \u001b[1m7s\u001b[0m 24ms/step - accuracy: 1.0000 - loss: 1.9614e-04 - val_accuracy: 0.8740 - val_loss: 0.6659\n",
      "Epoch 7/10\n",
      "\u001b[1m274/274\u001b[0m \u001b[32m━━━━━━━━━━━━━━━━━━━━\u001b[0m\u001b[37m\u001b[0m \u001b[1m6s\u001b[0m 22ms/step - accuracy: 1.0000 - loss: 1.5861e-04 - val_accuracy: 0.8729 - val_loss: 0.6770\n",
      "Epoch 8/10\n",
      "\u001b[1m274/274\u001b[0m \u001b[32m━━━━━━━━━━━━━━━━━━━━\u001b[0m\u001b[37m\u001b[0m \u001b[1m7s\u001b[0m 24ms/step - accuracy: 1.0000 - loss: 1.2997e-04 - val_accuracy: 0.8725 - val_loss: 0.6892\n",
      "Epoch 9/10\n",
      "\u001b[1m274/274\u001b[0m \u001b[32m━━━━━━━━━━━━━━━━━━━━\u001b[0m\u001b[37m\u001b[0m \u001b[1m7s\u001b[0m 24ms/step - accuracy: 1.0000 - loss: 1.0742e-04 - val_accuracy: 0.8721 - val_loss: 0.6998\n",
      "Epoch 10/10\n",
      "\u001b[1m274/274\u001b[0m \u001b[32m━━━━━━━━━━━━━━━━━━━━\u001b[0m\u001b[37m\u001b[0m \u001b[1m8s\u001b[0m 28ms/step - accuracy: 1.0000 - loss: 9.1597e-05 - val_accuracy: 0.8724 - val_loss: 0.7105\n"
     ]
    }
   ],
   "source": [
    "history = model.fit(X_train, y_train, epochs = 10, batch_size =64, validation_split =0.2)"
   ]
  },
  {
   "cell_type": "markdown",
   "id": "da2f8ed6-e6e7-4190-be46-006a6c3136da",
   "metadata": {},
   "source": [
    "# Evulating the model on the test set"
   ]
  },
  {
   "cell_type": "code",
   "execution_count": 38,
   "id": "4562004a-7b67-48c0-b9b6-f6738ac8b517",
   "metadata": {},
   "outputs": [
    {
     "name": "stdout",
     "output_type": "stream",
     "text": [
      "\u001b[1m782/782\u001b[0m \u001b[32m━━━━━━━━━━━━━━━━━━━━\u001b[0m\u001b[37m\u001b[0m \u001b[1m5s\u001b[0m 6ms/step - accuracy: 0.8098 - loss: 1.0701\n",
      "Test accuracy: 0.8139\n"
     ]
    }
   ],
   "source": [
    "test_loss, test_accuracy= model.evaluate(X_test, y_test)\n",
    "print(f\"Test accuracy: {test_accuracy:.4f}\")"
   ]
  },
  {
   "cell_type": "markdown",
   "id": "c60524f1-7dde-4da2-9b0a-71428cf78040",
   "metadata": {},
   "source": [
    "## Plotting the training & validation accuracy values"
   ]
  },
  {
   "cell_type": "code",
   "execution_count": 39,
   "id": "9857a6cf-06f6-480d-8a99-d1c070b158f1",
   "metadata": {},
   "outputs": [
    {
     "data": {
      "image/png": "[encoded data removed]",
      "text/plain": [
       "<Figure size 1200x500 with 2 Axes>"
      ]
     },
     "metadata": {},
     "output_type": "display_data"
    }
   ],
   "source": [
    "# Plot training & validation accuracy values \n",
    "plt.figure(figsize =(12,5))\n",
    "\n",
    "# Accuracy Plot\n",
    "plt.subplot(1,2,1)\n",
    "plt.plot(history.history['accuracy'], label ='Training Accuracy')\n",
    "plt.plot(history.history['val_accuracy'], label ='Validation Accuracy')\n",
    "plt.title('Model Accuracy')\n",
    "plt.xlabel('Epoch')\n",
    "plt.ylabel('Accuracy')\n",
    "plt.legend(loc ='lower right')\n",
    "\n",
    "plt.subplot(1,2,2)\n",
    "plt.plot(history.history['loss'], label='Training Loss')\n",
    "plt.plot(history.history['val_loss'], label ='Validation Loss')\n",
    "plt.title('Model Loss')\n",
    "plt.xlabel('Epoch')\n",
    "plt.ylabel('Loss')\n",
    "plt.legend(loc='upper right')\n",
    "\n",
    "plt.tight_layout()\n",
    "plt.show()"
   ]
  }
 ],
 "metadata": {
  "kernelspec": {
   "display_name": "Python 3 (ipykernel)",
   "language": "python",
   "name": "python3"
  },
  "language_info": {
   "codemirror_mode": {
    "name": "ipython",
    "version": 3
   },
   "file_extension": ".py",
   "mimetype": "text/x-python",
   "name": "python",
   "nbconvert_exporter": "python",
   "pygments_lexer": "ipython3",
   "version": "3.7.1"
  }
 },
 "nbformat": 4,
 "nbformat_minor": 5
}
