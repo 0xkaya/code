{
 "cells": [
  {
   "cell_type": "markdown",
   "id": "644443d7",
   "metadata": {},
   "source": [
    "# Importing Packages "
   ]
  },
  {
   "cell_type": "code",
   "execution_count": 3,
   "id": "e16a499f",
   "metadata": {},
   "outputs": [],
   "source": [
    "import numpy as np\n",
    "import pandas as pd\n",
    "from sklearn.model_selection import train_test_split\n",
    "from sklearn.preprocessing import StandardScaler\n",
    "from sklearn.metrics import f1_score\n",
    "from scipy.stats import multivariate_normal"
   ]
  },
  {
   "cell_type": "markdown",
   "id": "3b00ef30",
   "metadata": {},
   "source": [
    "# Functions"
   ]
  },
  {
   "cell_type": "code",
   "execution_count": 5,
   "id": "ce82a6d2",
   "metadata": {},
   "outputs": [],
   "source": [
    "# Step 1: Load and preprocess the dataset\n",
    "def load_data():\n",
    "    # Use KDD Cup 1999 dataset (subset) for demonstration, which can be downloaded from UCI ML repository\n",
    "    data = pd.read_csv(\"http://kdd.ics.uci.edu/databases/kddcup99/kddcup.data_10_percent.gz\", header=None)\n",
    "    \n",
    "    # Select only numerical features for simplicity and drop the target label\n",
    "    X = data.iloc[:, :-1].select_dtypes(include=[np.number])\n",
    "    return X"
   ]
  },
  {
   "cell_type": "code",
   "execution_count": 7,
   "id": "2780ffa2",
   "metadata": {},
   "outputs": [],
   "source": [
    "# Step 2: Estimate Gaussian parameters\n",
    "def estimate_gaussian(X):\n",
    "    mu = 1 / m * np.sum(X, axis = 0)\n",
    "    sigma2 = 1 / m * np.sum((X - mu) ** 2, axis =0) \n",
    "    return mu, sigma2"
   ]
  },
  {
   "cell_type": "code",
   "execution_count": 50,
   "id": "32dc41f7",
   "metadata": {},
   "outputs": [],
   "source": [
    "# Step 3: Calculate probability densities using the multivariate Gaussian\n",
    "def multivariate_gaussian(X, mu, sigma2, epsilon=1e-4):\n",
    "    # Convert sigma2 into a covariance matrix if needed\n",
    "    if sigma2.ndim == 1:\n",
    "        sigma2 = np.diag(sigma2 + epsilon)  # Adding epsilon to the diagonal to avoid singular matrix\n",
    "    # Calculate probability density\n",
    "    return multivariate_normal(mean=mu, cov=sigma2, allow_singular=True).pdf(X)"
   ]
  },
  {
   "cell_type": "code",
   "execution_count": 51,
   "id": "4e713d86",
   "metadata": {},
   "outputs": [],
   "source": [
    "# Step 4: Find the best threshold\n",
    "def select_threshold(y_val, p_val):\n",
    "    best_epsilon = 0\n",
    "    best_F1 = 0\n",
    "    F1 = 0\n",
    "    \n",
    "    step_size = (max(p_val) - min(p_val)) / 1000\n",
    "    \n",
    "    for epsilon in np.arange(min(p_val), max(p_val), step_size):\n",
    "    \n",
    "        ### START CODE HERE ### \n",
    "        predictions = (p_val < epsilon) # Calculating predictions for each example using epsilon as threshold\n",
    "        \n",
    "        tp = np.sum((predictions == 1) & (y_val == 1))  # Calculating number of true positives\n",
    "        fp = sum((predictions == 1) & (y_val == 0)) # Calculating number of false positives\n",
    "        fn = fn = np.sum((predictions == 0) & (y_val == 1)) # Calculating number of false negatives\n",
    "        \n",
    "        prec = tp / (tp + fp) # Calculating precision\n",
    "        rec = tp / (tp + fn) # Calculating recall\n",
    "        \n",
    "        F1 = 2 * prec * rec / (prec + rec) # Calculating F1\n",
    "          \n",
    "        \n",
    "        ### END CODE HERE ### \n",
    "        \n",
    "        if F1 > best_F1:\n",
    "            best_F1 = F1\n",
    "            best_epsilon = epsilon\n",
    "    return best_epsilon, best_f1"
   ]
  },
  {
   "cell_type": "markdown",
   "id": "96b6c81a",
   "metadata": {},
   "source": [
    "# Data Preperation\n",
    "\n",
    "## Load dataset and preprocess"
   ]
  },
  {
   "cell_type": "code",
   "execution_count": 52,
   "id": "f03404fb",
   "metadata": {},
   "outputs": [],
   "source": [
    "X = load_data()"
   ]
  },
  {
   "cell_type": "code",
   "execution_count": 53,
   "id": "2a30838c",
   "metadata": {},
   "outputs": [],
   "source": [
    "# Split data into training, cross-validation, and test sets\n",
    "X_train, X_temp = train_test_split(X, test_size=0.3, random_state=42)\n",
    "X_val, X_test = train_test_split(X_temp, test_size=0.5, random_state=42)"
   ]
  },
  {
   "cell_type": "code",
   "execution_count": 54,
   "id": "14be14aa",
   "metadata": {},
   "outputs": [],
   "source": [
    "# Standardize the features\n",
    "scaler = StandardScaler()\n",
    "X_train = scaler.fit_transform(X_train)\n",
    "X_val = scaler.transform(X_val)\n",
    "X_test = scaler.transform(X_test)"
   ]
  },
  {
   "cell_type": "code",
   "execution_count": 55,
   "id": "1c8a6039",
   "metadata": {},
   "outputs": [],
   "source": [
    "# Step 5: Estimate Gaussian parameters on training data\n",
    "mu, sigma2 = estimate_gaussian(X_train)"
   ]
  },
  {
   "cell_type": "code",
   "execution_count": 56,
   "id": "35fa4225",
   "metadata": {},
   "outputs": [],
   "source": [
    "# Step 6: Calculate probabilities for training, validation, and test sets\n",
    "p_train = multivariate_gaussian(X_train, mu, sigma2)\n",
    "p_val = multivariate_gaussian(X_val, mu, sigma2)\n",
    "p_test = multivariate_gaussian(X_test, mu, sigma2)"
   ]
  },
  {
   "cell_type": "code",
   "execution_count": 57,
   "id": "65ccfcc2",
   "metadata": {},
   "outputs": [],
   "source": [
    "# Assume labels for validation set (1 = anomaly, 0 = normal); you would typically have this from your data source\n",
    "y_val = (p_val < np.percentile(p_val, 1)).astype(int)  # Assume 1% are anomalies"
   ]
  },
  {
   "cell_type": "code",
   "execution_count": 58,
   "id": "5125139c",
   "metadata": {
    "scrolled": true
   },
   "outputs": [
    {
     "name": "stdout",
     "output_type": "stream",
     "text": [
      "Best epsilon found using cross-validation: 1.877636812899861e-15\n",
      "Best F1 on Cross Validation Set: 0.0558545673529301\n"
     ]
    }
   ],
   "source": [
    "# Step 7: Find the best threshold using the validation set\n",
    "epsilon, F1 = select_threshold(y_val, p_val)\n",
    "print(\"Best epsilon found using cross-validation:\", epsilon)\n",
    "print(\"Best F1 on Cross Validation Set:\", F1)"
   ]
  },
  {
   "cell_type": "code",
   "execution_count": 59,
   "id": "ba9ab47b",
   "metadata": {},
   "outputs": [
    {
     "name": "stdout",
     "output_type": "stream",
     "text": [
      "Number of anomalies found in test set: 25690\n"
     ]
    }
   ],
   "source": [
    "# Step 8: Detect anomalies on the test set\n",
    "anomalies = p_test < epsilon\n",
    "print(\"Number of anomalies found in test set:\", np.sum(anomalies))"
   ]
  },
  {
   "cell_type": "code",
   "execution_count": 62,
   "id": "128de286",
   "metadata": {},
   "outputs": [
    {
     "data": {
      "image/png": "[encoded data removed]",
      "text/plain": [
       "<Figure size 1000x600 with 1 Axes>"
      ]
     },
     "metadata": {},
     "output_type": "display_data"
    },
    {
     "name": "stdout",
     "output_type": "stream",
     "text": [
      "Number of anomalies found in test set: 25690\n"
     ]
    }
   ],
   "source": [
    "import matplotlib.pyplot as plt\n",
    "##\n",
    "### Step 1: Calculate probabilities for the training, validation, and test sets\n",
    "##p_train = multivariate_gaussian(X_train, mu, sigma2)\n",
    "##p_val = multivariate_gaussian(X_val, mu, sigma2)\n",
    "##p_test = multivariate_gaussian(X_test, mu, sigma2)\n",
    "##\n",
    "### Step 2: Find the optimal threshold (epsilon) based on F1 score\n",
    "##epsilon, F1 = select_threshold(y_val, p_val)\n",
    "\n",
    "# Step 3: Plot histogram of the test set probabilities\n",
    "plt.figure(figsize=(10, 6))\n",
    "plt.hist(p_test, bins=50, color='b', alpha=0.7, label=\"Probability Distribution (Test Set)\")\n",
    "plt.axvline(x=epsilon, color='r', linestyle='--', label=f'Threshold (epsilon) = {epsilon:.2e}')\n",
    "plt.xlabel(\"Probability Density\")\n",
    "plt.ylabel(\"Frequency\")\n",
    "plt.title(\"Histogram of Test Set Probability Densities with Anomaly Threshold\")\n",
    "plt.legend()\n",
    "plt.show()\n",
    "\n",
    "# Step 4: Count anomalies based on threshold\n",
    "anomalies_test = p_test < epsilon\n",
    "num_anomalies_test = np.sum(anomalies_test)\n",
    "print(f\"Number of anomalies found in test set: {num_anomalies_test}\")\n"
   ]
  }
 ],
 "metadata": {
  "kernelspec": {
   "display_name": "Python 3 (ipykernel)",
   "language": "python",
   "name": "python3"
  },
  "language_info": {
   "codemirror_mode": {
    "name": "ipython",
    "version": 3
   },
   "file_extension": ".py",
   "mimetype": "text/x-python",
   "name": "python",
   "nbconvert_exporter": "python",
   "pygments_lexer": "ipython3",
   "version": "3.7.1"
  }
 },
 "nbformat": 4,
 "nbformat_minor": 5
}
