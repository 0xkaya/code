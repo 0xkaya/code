{
 "cells": [
  {
   "cell_type": "markdown",
   "id": "a14a096e",
   "metadata": {},
   "source": [
    "# Importing Packages "
   ]
  },
  {
   "cell_type": "code",
   "execution_count": 3,
   "id": "682f4ac7",
   "metadata": {},
   "outputs": [],
   "source": [
    "import numpy as np\n",
    "import pandas as pd\n",
    "from sklearn.model_selection import train_test_split\n",
    "from sklearn.preprocessing import StandardScaler\n",
    "from sklearn.metrics import f1_score\n",
    "from scipy.stats import multivariate_normal"
   ]
  },
  {
   "cell_type": "markdown",
   "id": "995eed2f",
   "metadata": {},
   "source": [
    "# Functions"
   ]
  },
  {
   "cell_type": "code",
   "execution_count": 5,
   "id": "6dadeaa2",
   "metadata": {},
   "outputs": [],
   "source": [
    "# Step 1: Load and preprocess the dataset\n",
    "def load_data():\n",
    "    # Use KDD Cup 1999 dataset (subset) for demonstration, which can be downloaded from UCI ML repository\n",
    "    data = pd.read_csv(\"http://kdd.ics.uci.edu/databases/kddcup99/kddcup.data_10_percent.gz\", header=None)\n",
    "    \n",
    "    # Select only numerical features for simplicity and drop the target label\n",
    "    X = data.iloc[:, :-1].select_dtypes(include=[np.number])\n",
    "    return X"
   ]
  },
  {
   "cell_type": "code",
   "execution_count": 70,
   "id": "9c985fba",
   "metadata": {},
   "outputs": [],
   "source": [
    "# Step 2: Estimate Gaussian parameters\n",
    "def estimate_gaussian(X):\n",
    "    \n",
    "    m, n = X.shape\n",
    "    \n",
    "    mu = 1 / m * np.sum(X, axis = 0)\n",
    "    sigma2 = 1 / m * np.sum((X - mu) ** 2, axis =0) \n",
    "    return mu, sigma2"
   ]
  },
  {
   "cell_type": "code",
   "execution_count": 92,
   "id": "72301614",
   "metadata": {},
   "outputs": [],
   "source": [
    "# Step 3: Calculate Probability Densities\n",
    "def multivariate_gaussian(X, mu, sigma2):\n",
    "    p = multivariate_normal(mean=mu, cov=np.diag(sigma2)).pdf(X)\n",
    "    return p"
   ]
  },
  {
   "cell_type": "code",
   "execution_count": 81,
   "id": "26b5e6f1",
   "metadata": {},
   "outputs": [],
   "source": [
    "# Step 4: Find the best threshold\n",
    "def select_threshold(y_val, p_val):\n",
    "    best_epsilon = 0\n",
    "    best_F1 = 0\n",
    "    F1 = 0\n",
    "    \n",
    "    step_size = (max(p_val) - min(p_val)) / 1000\n",
    "    \n",
    "    for epsilon in np.arange(min(p_val), max(p_val), step_size):\n",
    "    \n",
    "        ### START CODE HERE ### \n",
    "        predictions = (p_val < epsilon) # Calculating predictions for each example using epsilon as threshold\n",
    "        \n",
    "        tp = np.sum((predictions == 1) & (y_val == 1))  # Calculating number of true positives\n",
    "        fp = sum((predictions == 1) & (y_val == 0)) # Calculating number of false positives\n",
    "        fn = fn = np.sum((predictions == 0) & (y_val == 1)) # Calculating number of false negatives\n",
    "        \n",
    "        prec = tp / (tp + fp) # Calculating precision\n",
    "        rec = tp / (tp + fn) # Calculating recall\n",
    "        \n",
    "        F1 = 2 * prec * rec / (prec + rec) # Calculating F1\n",
    "          \n",
    "        \n",
    "        ### END CODE HERE ### \n",
    "        \n",
    "        if F1 > best_F1:\n",
    "            best_f1 = F1\n",
    "            best_epsilon = epsilon\n",
    "    return best_epsilon, best_f1"
   ]
  },
  {
   "cell_type": "markdown",
   "id": "9a7a608a",
   "metadata": {},
   "source": [
    "# Data Preperation\n",
    "\n",
    "## Load dataset and preprocess"
   ]
  },
  {
   "cell_type": "code",
   "execution_count": 66,
   "id": "17e3f19f",
   "metadata": {},
   "outputs": [],
   "source": [
    "X = load_data()"
   ]
  },
  {
   "cell_type": "code",
   "execution_count": 67,
   "id": "97706b06",
   "metadata": {},
   "outputs": [],
   "source": [
    "# Split data into training, cross-validation, and test sets\n",
    "X_train, X_temp = train_test_split(X, test_size=0.4, random_state=42)\n",
    "X_val, X_test = train_test_split(X_temp, test_size=0.5, random_state=42)"
   ]
  },
  {
   "cell_type": "code",
   "execution_count": 68,
   "id": "8f40ae14",
   "metadata": {},
   "outputs": [],
   "source": [
    "# Standardize the features\n",
    "scaler = StandardScaler()\n",
    "X_train = scaler.fit_transform(X_train)\n",
    "X_val = scaler.transform(X_val)\n",
    "X_test = scaler.transform(X_test)"
   ]
  },
  {
   "cell_type": "code",
   "execution_count": 71,
   "id": "34b0bb2b",
   "metadata": {},
   "outputs": [],
   "source": [
    "# Step 5: Estimate Gaussian parameters on training data\n",
    "mu, sigma2 = estimate_gaussian(X_train)"
   ]
  },
  {
   "cell_type": "code",
   "execution_count": 72,
   "id": "87722553",
   "metadata": {},
   "outputs": [],
   "source": [
    "# Step 6: Calculate probabilities for training, validation, and test sets\n",
    "p_train = multivariate_gaussian(X_train, mu, sigma2)\n",
    "p_val = multivariate_gaussian(X_val, mu, sigma2)\n",
    "p_test = multivariate_gaussian(X_test, mu, sigma2)"
   ]
  },
  {
   "cell_type": "code",
   "execution_count": 73,
   "id": "dc62725c",
   "metadata": {},
   "outputs": [],
   "source": [
    "# Assume labels for validation set (1 = anomaly, 0 = normal); you would typically have this from your data source\n",
    "y_val = (p_val < np.percentile(p_val, 1)).astype(int)  # Assume 1% are anomalies"
   ]
  },
  {
   "cell_type": "code",
   "execution_count": 93,
   "id": "295a334c",
   "metadata": {
    "scrolled": true
   },
   "outputs": [
    {
     "name": "stdout",
     "output_type": "stream",
     "text": [
      "Best epsilon found using cross-validation: 0.15094987422454298\n",
      "Best F1 on Cross Validation Set: 0.6206896551724138\n"
     ]
    },
    {
     "name": "stderr",
     "output_type": "stream",
     "text": [
      "C:\\Users\\furka\\miniconda3\\envs\\coding01\\lib\\site-packages\\ipykernel_launcher.py:18: RuntimeWarning: invalid value encountered in long_scalars\n"
     ]
    }
   ],
   "source": [
    "# Step 7: Find the best threshold using the validation set\n",
    "epsilon, F1 = select_threshold(y_val, p_val)\n",
    "print(\"Best epsilon found using cross-validation:\", epsilon)\n",
    "print(\"Best F1 on Cross Validation Set:\", F1)"
   ]
  },
  {
   "cell_type": "code",
   "execution_count": 94,
   "id": "20db3892",
   "metadata": {},
   "outputs": [
    {
     "name": "stdout",
     "output_type": "stream",
     "text": [
      "Number of anomalies found in test set: 74104\n"
     ]
    }
   ],
   "source": [
    "# Step 8: Detect anomalies on the test set\n",
    "anomalies = p_test < epsilon\n",
    "print(\"Number of anomalies found in test set:\", np.sum(anomalies))"
   ]
  },
  {
   "cell_type": "code",
   "execution_count": null,
   "id": "0f946a61",
   "metadata": {},
   "outputs": [],
   "source": [
    "import matplotlib.pyplot as plt\n",
    "##\n",
    "### Step 1: Calculate probabilities for the training, validation, and test sets\n",
    "##p_train = multivariate_gaussian(X_train, mu, sigma2)\n",
    "##p_val = multivariate_gaussian(X_val, mu, sigma2)\n",
    "##p_test = multivariate_gaussian(X_test, mu, sigma2)\n",
    "##\n",
    "### Step 2: Find the optimal threshold (epsilon) based on F1 score\n",
    "##epsilon, F1 = select_threshold(y_val, p_val)\n",
    "\n",
    "# Step 3: Plot histogram of the test set probabilities\n",
    "plt.figure(figsize=(10, 6))\n",
    "plt.hist(p_test, bins=50, color='b', alpha=0.7, label=\"Probability Distribution (Test Set)\")\n",
    "plt.axvline(x=epsilon, color='r', linestyle='--', label=f'Threshold (epsilon) = {epsilon:.2e}')\n",
    "plt.xlabel(\"Probability Density\")\n",
    "plt.ylabel(\"Frequency\")\n",
    "plt.title(\"Histogram of Test Set Probability Densities with Anomaly Threshold\")\n",
    "plt.legend()\n",
    "plt.show()\n",
    "\n",
    "# Step 4: Count anomalies based on threshold\n",
    "anomalies_test = p_test < epsilon\n",
    "num_anomalies_test = np.sum(anomalies_test)\n",
    "print(f\"Number of anomalies found in test set: {num_anomalies_test}\")\n"
   ]
  },
  {
   "cell_type": "markdown",
   "id": "099c5633",
   "metadata": {},
   "source": [
    "# Random Data"
   ]
  },
  {
   "cell_type": "code",
   "execution_count": 100,
   "id": "29f2b273",
   "metadata": {},
   "outputs": [
    {
     "name": "stderr",
     "output_type": "stream",
     "text": [
      "C:\\Users\\furka\\miniconda3\\envs\\coding01\\lib\\site-packages\\ipykernel_launcher.py:18: RuntimeWarning: invalid value encountered in long_scalars\n"
     ]
    },
    {
     "data": {
      "image/png": "[encoded data removed]",
      "text/plain": [
       "<Figure size 800x600 with 1 Axes>"
      ]
     },
     "metadata": {},
     "output_type": "display_data"
    },
    {
     "name": "stdout",
     "output_type": "stream",
     "text": [
      "Best epsilon found: 0.15966079635405486\n",
      "Best F1 score on Cross Validation Set: 0.6896551724137931\n",
      "Number of anomalies found: 38\n"
     ]
    }
   ],
   "source": [
    "# Step 1: Generate Synthetic Dataset\n",
    "np.random.seed()\n",
    "\n",
    "# Generate 2D normal data\n",
    "X_train = np.random.normal(0, 1, (100, 2))  # Normal data points\n",
    "X_outliers = np.random.uniform(low=-5, high=5, size=(10, 2))  # Outliers\n",
    "X = np.vstack([X_train, X_outliers])\n",
    "\n",
    "# Split data into training and cross-validation sets\n",
    "X_train, X_val = X[:90], X[90:]\n",
    "y_val = np.array([0]*10 + [1]*10)  # True labels for cross-validation (0: normal, 1: anomaly)\n",
    "\n",
    "mu, sigma2 = estimate_gaussian(X_train)\n",
    "\n",
    "\n",
    "# Calculate probabilities for training and cross-validation sets\n",
    "p_train = multivariate_gaussian(X_train, mu, sigma2)\n",
    "p_val = multivariate_gaussian(X_val, mu, sigma2)\n",
    "\n",
    "\n",
    "epsilon, best_f1 = select_threshold(y_val, p_val)\n",
    "\n",
    "# Step 5: Identify Outliers in the Training Set\n",
    "outliers = X_train[p_train < epsilon/2]\n",
    "\n",
    "# Step 6: Plot the Data\n",
    "plt.figure(figsize=(8, 6))\n",
    "plt.scatter(X_train[:, 0], X_train[:, 1], marker='o', label=\"Normal Points\")\n",
    "plt.scatter(X_val[:, 0], X_val[:, 1], marker='o', label=\"Validation Points\")\n",
    "plt.scatter(outliers[:, 0], outliers[:, 1], marker='x', color='r', s=100, linewidth=2, label=\"Anomalies\")\n",
    "plt.title(\"Anomaly Detection using Gaussian Distribution\")\n",
    "plt.xlabel(\"Feature 1\")\n",
    "plt.ylabel(\"Feature 2\")\n",
    "plt.legend()\n",
    "plt.show()\n",
    "\n",
    "# Print Results\n",
    "print(\"Best epsilon found:\", epsilon)\n",
    "print(\"Best F1 score on Cross Validation Set:\", best_f1)\n",
    "print(\"Number of anomalies found:\", len(outliers))\n"
   ]
  }
 ],
 "metadata": {
  "kernelspec": {
   "display_name": "Python 3 (ipykernel)",
   "language": "python",
   "name": "python3"
  },
  "language_info": {
   "codemirror_mode": {
    "name": "ipython",
    "version": 3
   },
   "file_extension": ".py",
   "mimetype": "text/x-python",
   "name": "python",
   "nbconvert_exporter": "python",
   "pygments_lexer": "ipython3",
   "version": "3.7.1"
  }
 },
 "nbformat": 4,
 "nbformat_minor": 5
}
