{
 "cells": [
  {
   "cell_type": "markdown",
   "id": "c3e01c3a",
   "metadata": {},
   "source": [
    "# Importing Packages"
   ]
  },
  {
   "cell_type": "code",
   "execution_count": 2,
   "id": "86e86c91",
   "metadata": {},
   "outputs": [],
   "source": [
    "import tensorflow as tf\n",
    "from tensorflow.keras.models import Sequential\n",
    "from tensorflow.keras.layers import Embedding, LSTM, Dense, Dropout\n",
    "from tensorflow.keras.preprocessing.sequence import pad_sequences \n",
    "from tensorflow.keras.datasets import reuters\n",
    "from sklearn.metrics import classification_report, confusion_matrix\n",
    "import numpy as np\n",
    "import matplotlib.pyplot as plt\n",
    "import seaborn as sns"
   ]
  },
  {
   "cell_type": "code",
   "execution_count": 3,
   "id": "4c7b44c7",
   "metadata": {},
   "outputs": [],
   "source": [
    "# Data preperation"
   ]
  },
  {
   "cell_type": "code",
   "execution_count": 5,
   "id": "8a51fa63",
   "metadata": {},
   "outputs": [],
   "source": [
    "(X_train, y_train), (X_test, y_test) = reuters.load_data(num_words = 10000)"
   ]
  },
  {
   "cell_type": "code",
   "execution_count": 6,
   "id": "6d10a7c7",
   "metadata": {},
   "outputs": [],
   "source": [
    "## Pad Sequences to ensure uniform length"
   ]
  },
  {
   "cell_type": "code",
   "execution_count": 14,
   "id": "e6e649d2",
   "metadata": {},
   "outputs": [],
   "source": [
    "max_length = 100\n",
    "X_train = pad_sequences(X_train, maxlen=max_lenght)\n",
    "X_test = pad_sequences(X_test, maxlen =max_lenght)"
   ]
  },
  {
   "cell_type": "code",
   "execution_count": 8,
   "id": "90197d01",
   "metadata": {},
   "outputs": [],
   "source": [
    "## Number of classes in the Reuters dataset"
   ]
  },
  {
   "cell_type": "code",
   "execution_count": 9,
   "id": "a1e60f03",
   "metadata": {},
   "outputs": [],
   "source": [
    "num_classes = np.max(y_train) + 1"
   ]
  },
  {
   "cell_type": "code",
   "execution_count": null,
   "id": "e48f0a3e",
   "metadata": {},
   "outputs": [],
   "source": [
    "# Building the Model"
   ]
  },
  {
   "cell_type": "code",
   "execution_count": 11,
   "id": "bbdcacb6",
   "metadata": {},
   "outputs": [],
   "source": [
    "## Defining the RNN model"
   ]
  },
  {
   "cell_type": "code",
   "execution_count": 22,
   "id": "7e0d99bf",
   "metadata": {},
   "outputs": [],
   "source": [
    "model = Sequential([\n",
    "    Embedding(input_dim = 10000, output_dim=64, input_length = max_length),\n",
    "    LSTM(64, return_sequences = True),\n",
    "    Dropout(0.3),\n",
    "    \n",
    "    LSTM(32),\n",
    "    Dropout(0.3),\n",
    "    Dense(num_classes, activation ='softmax')\n",
    "])"
   ]
  },
  {
   "cell_type": "code",
   "execution_count": 17,
   "id": "fe4ae567",
   "metadata": {},
   "outputs": [],
   "source": [
    "## Compiling the Model"
   ]
  },
  {
   "cell_type": "code",
   "execution_count": 26,
   "id": "1f6cd5e2",
   "metadata": {},
   "outputs": [],
   "source": [
    "model.compile(optimizer ='adam', loss='sparse_categorical_crossentropy', metrics=['accuracy'])"
   ]
  },
  {
   "cell_type": "code",
   "execution_count": 27,
   "id": "5915dd65",
   "metadata": {},
   "outputs": [
    {
     "name": "stdout",
     "output_type": "stream",
     "text": [
      "Model: \"sequential_2\"\n",
      "_________________________________________________________________\n",
      " Layer (type)                Output Shape              Param #   \n",
      "=================================================================\n",
      " embedding_2 (Embedding)     (None, 100, 64)           640000    \n",
      "                                                                 \n",
      " lstm_5 (LSTM)               (None, 100, 64)           33024     \n",
      "                                                                 \n",
      " dropout_4 (Dropout)         (None, 100, 64)           0         \n",
      "                                                                 \n",
      " lstm_6 (LSTM)               (None, 32)                12416     \n",
      "                                                                 \n",
      " dropout_5 (Dropout)         (None, 32)                0         \n",
      "                                                                 \n",
      " dense_2 (Dense)             (None, 46)                1518      \n",
      "                                                                 \n",
      "=================================================================\n",
      "Total params: 686,958\n",
      "Trainable params: 686,958\n",
      "Non-trainable params: 0\n",
      "_________________________________________________________________\n"
     ]
    }
   ],
   "source": [
    "model.summary()"
   ]
  },
  {
   "cell_type": "code",
   "execution_count": null,
   "id": "b7519faa",
   "metadata": {},
   "outputs": [],
   "source": [
    "## Training the model"
   ]
  },
  {
   "cell_type": "code",
   "execution_count": null,
   "id": "dea4292f",
   "metadata": {},
   "outputs": [
    {
     "name": "stdout",
     "output_type": "stream",
     "text": [
      "Epoch 1/10\n",
      "113/113 [==============================] - 18s 156ms/step - loss: 0.6690 - accuracy: 0.8299 - val_loss: 1.6875 - val_accuracy: 0.6439\n",
      "Epoch 2/10\n",
      "113/113 [==============================] - 17s 154ms/step - loss: 0.6331 - accuracy: 0.8405 - val_loss: 1.6899 - val_accuracy: 0.6544\n",
      "Epoch 3/10\n",
      "113/113 [==============================] - 17s 151ms/step - loss: 0.6007 - accuracy: 0.8501 - val_loss: 1.7167 - val_accuracy: 0.6516\n",
      "Epoch 4/10\n",
      "113/113 [==============================] - 18s 156ms/step - loss: 0.5858 - accuracy: 0.8512 - val_loss: 1.8007 - val_accuracy: 0.6388\n",
      "Epoch 5/10\n",
      "113/113 [==============================] - 18s 155ms/step - loss: 0.5606 - accuracy: 0.8557 - val_loss: 1.7543 - val_accuracy: 0.6366\n",
      "Epoch 6/10\n",
      "113/113 [==============================] - 18s 157ms/step - loss: 0.5282 - accuracy: 0.8675 - val_loss: 1.8155 - val_accuracy: 0.6450\n",
      "Epoch 7/10\n",
      "113/113 [==============================] - 18s 156ms/step - loss: 0.5020 - accuracy: 0.8752 - val_loss: 1.7856 - val_accuracy: 0.6477\n",
      "Epoch 8/10\n",
      " 47/113 [===========>..................] - ETA: 9s - loss: 0.4702 - accuracy: 0.8833"
     ]
    }
   ],
   "source": [
    "history = model.fit(X_train,y_train, epochs = 10, batch_size=64, validation_split=0.2)"
   ]
  },
  {
   "cell_type": "code",
   "execution_count": null,
   "id": "cbecc465",
   "metadata": {},
   "outputs": [],
   "source": [
    "# Model Evaluation"
   ]
  },
  {
   "cell_type": "code",
   "execution_count": null,
   "id": "22477086",
   "metadata": {},
   "outputs": [],
   "source": [
    "test_loss , test_accuracy = model.evaluate(X_test,y_test)\n",
    "print(f\"\\nTest accuracy: {test_accuracy*100:.2f}%\")"
   ]
  },
  {
   "cell_type": "code",
   "execution_count": null,
   "id": "6855e6dc",
   "metadata": {},
   "outputs": [],
   "source": [
    "## Predictions for evulation"
   ]
  },
  {
   "cell_type": "code",
   "execution_count": null,
   "id": "64e71467",
   "metadata": {},
   "outputs": [],
   "source": [
    "y_pred = model.predict(X_test)\n",
    "y_pred_classes = np.argmax(y_pred, axis=1)"
   ]
  },
  {
   "cell_type": "code",
   "execution_count": null,
   "id": "0b10bf3b",
   "metadata": {},
   "outputs": [],
   "source": [
    "## Classification Report"
   ]
  },
  {
   "cell_type": "code",
   "execution_count": null,
   "id": "ddbd69b8",
   "metadata": {},
   "outputs": [],
   "source": [
    "print(\"\\nClassification Report: \")\n",
    "print(classification_report(y_test, y_pred_classes)"
   ]
  },
  {
   "cell_type": "code",
   "execution_count": null,
   "id": "173f1144",
   "metadata": {},
   "outputs": [],
   "source": [
    "## Confusion Matrix "
   ]
  },
  {
   "cell_type": "code",
   "execution_count": null,
   "id": "89ba50f8",
   "metadata": {},
   "outputs": [],
   "source": [
    "conf_matrix = confusion_matrix(y_test,y_pred_classes)"
   ]
  },
  {
   "cell_type": "code",
   "execution_count": null,
   "id": "939e0b53",
   "metadata": {},
   "outputs": [],
   "source": [
    "# Plotting Results"
   ]
  },
  {
   "cell_type": "code",
   "execution_count": null,
   "id": "6db46f87",
   "metadata": {},
   "outputs": [],
   "source": [
    "plt.figure(figsize=(12,5))\n",
    "plt.subplot(1,2,1)\n",
    "plt.plot(history.history['accuracy'], label ='Train Accuracy')\n",
    "plt.plot(history.history['val_accuracy'], label ='Validation Accuracy')\n",
    "plt.xlabel('Epochs')\n",
    "plt.ylabel('Accuracy')\n",
    "plt.legend()\n",
    "plt.title('Training and Validation Accuracy')\n",
    "\n",
    "\n",
    "plt.subplot(1, 2, 2)\n",
    "plt.plot(history.history['loss'], label='Train Loss')\n",
    "plt.plot(history.history['val_loss'], label='Validation Loss')\n",
    "plt.xlabel('Epochs')\n",
    "plt.ylabel('Loss')\n",
    "plt.legend()\n",
    "plt.title('Training and Validation Loss')\n",
    "plt.show()\n",
    "\n",
    "# Confusion Matrix Visualization\n",
    "plt.figure(figsize=(15, 12))\n",
    "sns.heatmap(conf_matrix, annot=False, cmap=\"Blues\", fmt=\"d\")\n",
    "plt.xlabel('Predicted')\n",
    "plt.ylabel('True')\n",
    "plt.title('Confusion Matrix')\n",
    "plt.show()"
   ]
  },
  {
   "cell_type": "markdown",
   "id": "241fc346",
   "metadata": {},
   "source": [
    "***Data Loading and Preprocessing:***\n",
    "\n",
    "The reuters dataset has news articles classified into 46 different categories.\n",
    "We limit the vocabulary to the 10,000 most common words and pad each input sequence to a maximum length (max_length) of 100 to ensure all input sequences have the same size.\n",
    "\n",
    "\n",
    "***Model Architecture:***\n",
    "\n",
    "**Embedding Layer:** Maps words into a 64-dimensional vector space, allowing the model to learn a dense representation of words.\n",
    "\n",
    "**LSTM Layers:** We use two LSTM layers. The first LSTM layer has return_sequences=True to feed the entire sequence to the next LSTM layer, adding complexity to the model.\n",
    "\n",
    "**Dropout Layers:** Dropout regularization helps prevent overfitting.\n",
    "\n",
    "**Output Layer:** A Dense layer with softmax activation for multiclass classification (46 categories).\n",
    "\n",
    "\n",
    "***Model Compilation and Training:***\n",
    "\n",
    "We use sparse_categorical_crossentropy as the loss function since the labels are integer-encoded.\n",
    "accuracy is chosen as a metric to evaluate the model's performance."
   ]
  }
 ],
 "metadata": {
  "kernelspec": {
   "display_name": "Python 3 (ipykernel)",
   "language": "python",
   "name": "python3"
  },
  "language_info": {
   "codemirror_mode": {
    "name": "ipython",
    "version": 3
   },
   "file_extension": ".py",
   "mimetype": "text/x-python",
   "name": "python",
   "nbconvert_exporter": "python",
   "pygments_lexer": "ipython3",
   "version": "3.7.1"
  }
 },
 "nbformat": 4,
 "nbformat_minor": 5
}
