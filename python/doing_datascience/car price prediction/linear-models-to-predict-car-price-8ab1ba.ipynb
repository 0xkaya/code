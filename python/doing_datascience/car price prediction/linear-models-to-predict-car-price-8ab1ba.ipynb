{
 "cells": [
  {
   "cell_type": "code",
   "execution_count": 1,
   "metadata": {
    "_cell_guid": "b1076dfc-b9ad-4769-8c92-a6c4dae69d19",
    "_uuid": "8f2839f25d086af736a60e9eeb907d3b93b6e0e5",
    "execution": {
     "iopub.execute_input": "2021-05-30T15:02:11.692438Z",
     "iopub.status.busy": "2021-05-30T15:02:11.691934Z",
     "iopub.status.idle": "2021-05-30T15:02:11.713994Z",
     "shell.execute_reply": "2021-05-30T15:02:11.712805Z",
     "shell.execute_reply.started": "2021-05-30T15:02:11.692311Z"
    }
   },
   "outputs": [],
   "source": [
    "# This Python 3 environment comes with many helpful analytics libraries installed\n",
    "# It is defined by the kaggle/python Docker image: https://github.com/kaggle/docker-python\n",
    "# For example, here's several helpful packages to load\n",
    "\n",
    "import numpy as np # linear algebra\n",
    "import pandas as pd # data processing, CSV file I/O (e.g. pd.read_csv)\n",
    "\n",
    "# Input data files are available in the read-only \"../input/\" directory\n",
    "# For example, running this (by clicking run or pressing Shift+Enter) will list all files under the input directory\n",
    "\n",
    "import os\n",
    "for dirname, _, filenames in os.walk('/kaggle/input'):\n",
    "    for filename in filenames:\n",
    "        print(os.path.join(dirname, filename))\n",
    "\n",
    "# You can write up to 20GB to the current directory (/kaggle/working/) that gets preserved as output when you create a version using \"Save & Run All\" \n",
    "# You can also write temporary files to /kaggle/temp/, but they won't be saved outside of the current session"
   ]
  },
  {
   "cell_type": "markdown",
   "metadata": {},
   "source": [
    "Import necessary libraries for the project"
   ]
  },
  {
   "cell_type": "code",
   "execution_count": 2,
   "metadata": {
    "execution": {
     "iopub.execute_input": "2021-05-30T15:02:15.615122Z",
     "iopub.status.busy": "2021-05-30T15:02:15.614713Z",
     "iopub.status.idle": "2021-05-30T15:02:16.84618Z",
     "shell.execute_reply": "2021-05-30T15:02:16.845016Z",
     "shell.execute_reply.started": "2021-05-30T15:02:15.615087Z"
    }
   },
   "outputs": [],
   "source": [
    "#matplotlib and seaborn are imported for visualization\n",
    "import matplotlib.pyplot as plt\n",
    "import seaborn as sns\n",
    "%matplotlib inline\n",
    "\n",
    "#splitting the dataset into train & test data\n",
    "from sklearn.model_selection import train_test_split\n",
    "\n",
    "#GridSearchCV is used for hyperparameter tuning in Lasso & Ridge\n",
    "from sklearn.model_selection import GridSearchCV\n",
    "\n",
    "#three linear models used in the project\n",
    "from sklearn.linear_model import LinearRegression\n",
    "from sklearn.linear_model import Ridge\n",
    "from sklearn.linear_model import Lasso\n",
    "\n",
    "#StandardScaler for preprocessing the dataset\n",
    "from sklearn.preprocessing import StandardScaler\n",
    "\n",
    "#metrics to evaluate the linear regression\n",
    "from sklearn.metrics import mean_squared_error\n",
    "from sklearn.metrics import r2_score\n",
    "from sklearn.metrics import mean_absolute_error\n",
    "\n",
    "#import warnings to ignore any warnings during execution\n",
    "import warnings\n",
    "warnings.filterwarnings('ignore')"
   ]
  },
  {
   "cell_type": "markdown",
   "metadata": {},
   "source": []
  },
  {
   "cell_type": "markdown",
   "metadata": {},
   "source": [
    "**EXPLORATORY DATA ANALYSIS(EDA)**"
   ]
  },
  {
   "cell_type": "markdown",
   "metadata": {},
   "source": [
    "load the csv file "
   ]
  },
  {
   "cell_type": "code",
   "execution_count": 5,
   "metadata": {
    "execution": {
     "iopub.execute_input": "2021-05-30T15:02:16.848504Z",
     "iopub.status.busy": "2021-05-30T15:02:16.848135Z",
     "iopub.status.idle": "2021-05-30T15:02:16.866765Z",
     "shell.execute_reply": "2021-05-30T15:02:16.865673Z",
     "shell.execute_reply.started": "2021-05-30T15:02:16.848466Z"
    }
   },
   "outputs": [],
   "source": [
    "data=pd.read_csv(\"C:/Users/furka/Desktop/developer/code/python/data_prof/datascience_projects/car prediction/CarPrice.csv\")\n"
   ]
  },
  {
   "cell_type": "markdown",
   "metadata": {},
   "source": [
    "display the first five entries of data"
   ]
  },
  {
   "cell_type": "code",
   "execution_count": 6,
   "metadata": {
    "execution": {
     "iopub.execute_input": "2021-05-30T15:02:16.974458Z",
     "iopub.status.busy": "2021-05-30T15:02:16.974043Z",
     "iopub.status.idle": "2021-05-30T15:02:17.029987Z",
     "shell.execute_reply": "2021-05-30T15:02:17.028812Z",
     "shell.execute_reply.started": "2021-05-30T15:02:16.974418Z"
    }
   },
   "outputs": [
    {
     "data": {
      "text/html": [
       "<div>\n",
       "<style scoped>\n",
       "    .dataframe tbody tr th:only-of-type {\n",
       "        vertical-align: middle;\n",
       "    }\n",
       "\n",
       "    .dataframe tbody tr th {\n",
       "        vertical-align: top;\n",
       "    }\n",
       "\n",
       "    .dataframe thead th {\n",
       "        text-align: right;\n",
       "    }\n",
       "</style>\n",
       "<table border=\"1\" class=\"dataframe\">\n",
       "  <thead>\n",
       "    <tr style=\"text-align: right;\">\n",
       "      <th></th>\n",
       "      <th>car_ID</th>\n",
       "      <th>symboling</th>\n",
       "      <th>CarName</th>\n",
       "      <th>fueltype</th>\n",
       "      <th>aspiration</th>\n",
       "      <th>doornumber</th>\n",
       "      <th>carbody</th>\n",
       "      <th>drivewheel</th>\n",
       "      <th>enginelocation</th>\n",
       "      <th>wheelbase</th>\n",
       "      <th>...</th>\n",
       "      <th>enginesize</th>\n",
       "      <th>fuelsystem</th>\n",
       "      <th>boreratio</th>\n",
       "      <th>stroke</th>\n",
       "      <th>compressionratio</th>\n",
       "      <th>horsepower</th>\n",
       "      <th>peakrpm</th>\n",
       "      <th>citympg</th>\n",
       "      <th>highwaympg</th>\n",
       "      <th>price</th>\n",
       "    </tr>\n",
       "  </thead>\n",
       "  <tbody>\n",
       "    <tr>\n",
       "      <th>0</th>\n",
       "      <td>1</td>\n",
       "      <td>3</td>\n",
       "      <td>alfa-romero giulia</td>\n",
       "      <td>gas</td>\n",
       "      <td>std</td>\n",
       "      <td>two</td>\n",
       "      <td>convertible</td>\n",
       "      <td>rwd</td>\n",
       "      <td>front</td>\n",
       "      <td>88.6</td>\n",
       "      <td>...</td>\n",
       "      <td>130</td>\n",
       "      <td>mpfi</td>\n",
       "      <td>3.47</td>\n",
       "      <td>2.68</td>\n",
       "      <td>9.0</td>\n",
       "      <td>111</td>\n",
       "      <td>5000</td>\n",
       "      <td>21</td>\n",
       "      <td>27</td>\n",
       "      <td>13495.0</td>\n",
       "    </tr>\n",
       "    <tr>\n",
       "      <th>1</th>\n",
       "      <td>2</td>\n",
       "      <td>3</td>\n",
       "      <td>alfa-romero stelvio</td>\n",
       "      <td>gas</td>\n",
       "      <td>std</td>\n",
       "      <td>two</td>\n",
       "      <td>convertible</td>\n",
       "      <td>rwd</td>\n",
       "      <td>front</td>\n",
       "      <td>88.6</td>\n",
       "      <td>...</td>\n",
       "      <td>130</td>\n",
       "      <td>mpfi</td>\n",
       "      <td>3.47</td>\n",
       "      <td>2.68</td>\n",
       "      <td>9.0</td>\n",
       "      <td>111</td>\n",
       "      <td>5000</td>\n",
       "      <td>21</td>\n",
       "      <td>27</td>\n",
       "      <td>16500.0</td>\n",
       "    </tr>\n",
       "    <tr>\n",
       "      <th>2</th>\n",
       "      <td>3</td>\n",
       "      <td>1</td>\n",
       "      <td>alfa-romero Quadrifoglio</td>\n",
       "      <td>gas</td>\n",
       "      <td>std</td>\n",
       "      <td>two</td>\n",
       "      <td>hatchback</td>\n",
       "      <td>rwd</td>\n",
       "      <td>front</td>\n",
       "      <td>94.5</td>\n",
       "      <td>...</td>\n",
       "      <td>152</td>\n",
       "      <td>mpfi</td>\n",
       "      <td>2.68</td>\n",
       "      <td>3.47</td>\n",
       "      <td>9.0</td>\n",
       "      <td>154</td>\n",
       "      <td>5000</td>\n",
       "      <td>19</td>\n",
       "      <td>26</td>\n",
       "      <td>16500.0</td>\n",
       "    </tr>\n",
       "    <tr>\n",
       "      <th>3</th>\n",
       "      <td>4</td>\n",
       "      <td>2</td>\n",
       "      <td>audi 100 ls</td>\n",
       "      <td>gas</td>\n",
       "      <td>std</td>\n",
       "      <td>four</td>\n",
       "      <td>sedan</td>\n",
       "      <td>fwd</td>\n",
       "      <td>front</td>\n",
       "      <td>99.8</td>\n",
       "      <td>...</td>\n",
       "      <td>109</td>\n",
       "      <td>mpfi</td>\n",
       "      <td>3.19</td>\n",
       "      <td>3.40</td>\n",
       "      <td>10.0</td>\n",
       "      <td>102</td>\n",
       "      <td>5500</td>\n",
       "      <td>24</td>\n",
       "      <td>30</td>\n",
       "      <td>13950.0</td>\n",
       "    </tr>\n",
       "    <tr>\n",
       "      <th>4</th>\n",
       "      <td>5</td>\n",
       "      <td>2</td>\n",
       "      <td>audi 100ls</td>\n",
       "      <td>gas</td>\n",
       "      <td>std</td>\n",
       "      <td>four</td>\n",
       "      <td>sedan</td>\n",
       "      <td>4wd</td>\n",
       "      <td>front</td>\n",
       "      <td>99.4</td>\n",
       "      <td>...</td>\n",
       "      <td>136</td>\n",
       "      <td>mpfi</td>\n",
       "      <td>3.19</td>\n",
       "      <td>3.40</td>\n",
       "      <td>8.0</td>\n",
       "      <td>115</td>\n",
       "      <td>5500</td>\n",
       "      <td>18</td>\n",
       "      <td>22</td>\n",
       "      <td>17450.0</td>\n",
       "    </tr>\n",
       "  </tbody>\n",
       "</table>\n",
       "<p>5 rows × 26 columns</p>\n",
       "</div>"
      ],
      "text/plain": [
       "   car_ID  symboling                   CarName fueltype aspiration doornumber  \\\n",
       "0       1          3        alfa-romero giulia      gas        std        two   \n",
       "1       2          3       alfa-romero stelvio      gas        std        two   \n",
       "2       3          1  alfa-romero Quadrifoglio      gas        std        two   \n",
       "3       4          2               audi 100 ls      gas        std       four   \n",
       "4       5          2                audi 100ls      gas        std       four   \n",
       "\n",
       "       carbody drivewheel enginelocation  wheelbase  ...  enginesize  \\\n",
       "0  convertible        rwd          front       88.6  ...         130   \n",
       "1  convertible        rwd          front       88.6  ...         130   \n",
       "2    hatchback        rwd          front       94.5  ...         152   \n",
       "3        sedan        fwd          front       99.8  ...         109   \n",
       "4        sedan        4wd          front       99.4  ...         136   \n",
       "\n",
       "   fuelsystem  boreratio  stroke compressionratio horsepower  peakrpm citympg  \\\n",
       "0        mpfi       3.47    2.68              9.0        111     5000      21   \n",
       "1        mpfi       3.47    2.68              9.0        111     5000      21   \n",
       "2        mpfi       2.68    3.47              9.0        154     5000      19   \n",
       "3        mpfi       3.19    3.40             10.0        102     5500      24   \n",
       "4        mpfi       3.19    3.40              8.0        115     5500      18   \n",
       "\n",
       "   highwaympg    price  \n",
       "0          27  13495.0  \n",
       "1          27  16500.0  \n",
       "2          26  16500.0  \n",
       "3          30  13950.0  \n",
       "4          22  17450.0  \n",
       "\n",
       "[5 rows x 26 columns]"
      ]
     },
     "execution_count": 6,
     "metadata": {},
     "output_type": "execute_result"
    }
   ],
   "source": [
    "data.head()"
   ]
  },
  {
   "cell_type": "markdown",
   "metadata": {},
   "source": [
    "The dataset contains 205 rows with 26 features"
   ]
  },
  {
   "cell_type": "code",
   "execution_count": 7,
   "metadata": {
    "execution": {
     "iopub.execute_input": "2021-05-30T15:02:17.499706Z",
     "iopub.status.busy": "2021-05-30T15:02:17.49931Z",
     "iopub.status.idle": "2021-05-30T15:02:17.506635Z",
     "shell.execute_reply": "2021-05-30T15:02:17.505353Z",
     "shell.execute_reply.started": "2021-05-30T15:02:17.499668Z"
    }
   },
   "outputs": [
    {
     "data": {
      "text/plain": [
       "(205, 26)"
      ]
     },
     "execution_count": 7,
     "metadata": {},
     "output_type": "execute_result"
    }
   ],
   "source": [
    "data.shape"
   ]
  },
  {
   "cell_type": "markdown",
   "metadata": {},
   "source": [
    "The features in the dataset does not contain any null values"
   ]
  },
  {
   "cell_type": "markdown",
   "metadata": {},
   "source": []
  },
  {
   "cell_type": "code",
   "execution_count": 8,
   "metadata": {
    "execution": {
     "iopub.execute_input": "2021-05-30T15:02:17.887551Z",
     "iopub.status.busy": "2021-05-30T15:02:17.887117Z",
     "iopub.status.idle": "2021-05-30T15:02:17.897258Z",
     "shell.execute_reply": "2021-05-30T15:02:17.896336Z",
     "shell.execute_reply.started": "2021-05-30T15:02:17.8875Z"
    }
   },
   "outputs": [
    {
     "data": {
      "text/plain": [
       "car_ID              0\n",
       "symboling           0\n",
       "CarName             0\n",
       "fueltype            0\n",
       "aspiration          0\n",
       "doornumber          0\n",
       "carbody             0\n",
       "drivewheel          0\n",
       "enginelocation      0\n",
       "wheelbase           0\n",
       "carlength           0\n",
       "carwidth            0\n",
       "carheight           0\n",
       "curbweight          0\n",
       "enginetype          0\n",
       "cylindernumber      0\n",
       "enginesize          0\n",
       "fuelsystem          0\n",
       "boreratio           0\n",
       "stroke              0\n",
       "compressionratio    0\n",
       "horsepower          0\n",
       "peakrpm             0\n",
       "citympg             0\n",
       "highwaympg          0\n",
       "price               0\n",
       "dtype: int64"
      ]
     },
     "execution_count": 8,
     "metadata": {},
     "output_type": "execute_result"
    }
   ],
   "source": [
    "data.isnull().sum()"
   ]
  },
  {
   "cell_type": "markdown",
   "metadata": {},
   "source": [
    "info() will return the informations of columns(features),count of non-null values and datatype of individual columns"
   ]
  },
  {
   "cell_type": "code",
   "execution_count": 9,
   "metadata": {
    "execution": {
     "iopub.execute_input": "2021-05-30T15:02:18.257848Z",
     "iopub.status.busy": "2021-05-30T15:02:18.257287Z",
     "iopub.status.idle": "2021-05-30T15:02:18.281372Z",
     "shell.execute_reply": "2021-05-30T15:02:18.280302Z",
     "shell.execute_reply.started": "2021-05-30T15:02:18.257811Z"
    }
   },
   "outputs": [
    {
     "name": "stdout",
     "output_type": "stream",
     "text": [
      "<class 'pandas.core.frame.DataFrame'>\n",
      "RangeIndex: 205 entries, 0 to 204\n",
      "Data columns (total 26 columns):\n",
      " #   Column            Non-Null Count  Dtype  \n",
      "---  ------            --------------  -----  \n",
      " 0   car_ID            205 non-null    int64  \n",
      " 1   symboling         205 non-null    int64  \n",
      " 2   CarName           205 non-null    object \n",
      " 3   fueltype          205 non-null    object \n",
      " 4   aspiration        205 non-null    object \n",
      " 5   doornumber        205 non-null    object \n",
      " 6   carbody           205 non-null    object \n",
      " 7   drivewheel        205 non-null    object \n",
      " 8   enginelocation    205 non-null    object \n",
      " 9   wheelbase         205 non-null    float64\n",
      " 10  carlength         205 non-null    float64\n",
      " 11  carwidth          205 non-null    float64\n",
      " 12  carheight         205 non-null    float64\n",
      " 13  curbweight        205 non-null    int64  \n",
      " 14  enginetype        205 non-null    object \n",
      " 15  cylindernumber    205 non-null    object \n",
      " 16  enginesize        205 non-null    int64  \n",
      " 17  fuelsystem        205 non-null    object \n",
      " 18  boreratio         205 non-null    float64\n",
      " 19  stroke            205 non-null    float64\n",
      " 20  compressionratio  205 non-null    float64\n",
      " 21  horsepower        205 non-null    int64  \n",
      " 22  peakrpm           205 non-null    int64  \n",
      " 23  citympg           205 non-null    int64  \n",
      " 24  highwaympg        205 non-null    int64  \n",
      " 25  price             205 non-null    float64\n",
      "dtypes: float64(8), int64(8), object(10)\n",
      "memory usage: 41.8+ KB\n"
     ]
    }
   ],
   "source": [
    "data.info()"
   ]
  },
  {
   "cell_type": "markdown",
   "metadata": {},
   "source": [
    "**describe()** describes the features of the dataframe by & default it will show the description of only int and float features but by specifying **include=\"all\"** we will be able to get the description of all features irrespective of its datatypes"
   ]
  },
  {
   "cell_type": "code",
   "execution_count": 10,
   "metadata": {
    "execution": {
     "iopub.execute_input": "2021-05-30T15:02:21.778489Z",
     "iopub.status.busy": "2021-05-30T15:02:21.777979Z",
     "iopub.status.idle": "2021-05-30T15:02:21.890561Z",
     "shell.execute_reply": "2021-05-30T15:02:21.889295Z",
     "shell.execute_reply.started": "2021-05-30T15:02:21.778453Z"
    }
   },
   "outputs": [
    {
     "data": {
      "text/html": [
       "<div>\n",
       "<style scoped>\n",
       "    .dataframe tbody tr th:only-of-type {\n",
       "        vertical-align: middle;\n",
       "    }\n",
       "\n",
       "    .dataframe tbody tr th {\n",
       "        vertical-align: top;\n",
       "    }\n",
       "\n",
       "    .dataframe thead th {\n",
       "        text-align: right;\n",
       "    }\n",
       "</style>\n",
       "<table border=\"1\" class=\"dataframe\">\n",
       "  <thead>\n",
       "    <tr style=\"text-align: right;\">\n",
       "      <th></th>\n",
       "      <th>car_ID</th>\n",
       "      <th>symboling</th>\n",
       "      <th>CarName</th>\n",
       "      <th>fueltype</th>\n",
       "      <th>aspiration</th>\n",
       "      <th>doornumber</th>\n",
       "      <th>carbody</th>\n",
       "      <th>drivewheel</th>\n",
       "      <th>enginelocation</th>\n",
       "      <th>wheelbase</th>\n",
       "      <th>...</th>\n",
       "      <th>enginesize</th>\n",
       "      <th>fuelsystem</th>\n",
       "      <th>boreratio</th>\n",
       "      <th>stroke</th>\n",
       "      <th>compressionratio</th>\n",
       "      <th>horsepower</th>\n",
       "      <th>peakrpm</th>\n",
       "      <th>citympg</th>\n",
       "      <th>highwaympg</th>\n",
       "      <th>price</th>\n",
       "    </tr>\n",
       "  </thead>\n",
       "  <tbody>\n",
       "    <tr>\n",
       "      <th>count</th>\n",
       "      <td>205.000000</td>\n",
       "      <td>205.000000</td>\n",
       "      <td>205</td>\n",
       "      <td>205</td>\n",
       "      <td>205</td>\n",
       "      <td>205</td>\n",
       "      <td>205</td>\n",
       "      <td>205</td>\n",
       "      <td>205</td>\n",
       "      <td>205.000000</td>\n",
       "      <td>...</td>\n",
       "      <td>205.000000</td>\n",
       "      <td>205</td>\n",
       "      <td>205.000000</td>\n",
       "      <td>205.000000</td>\n",
       "      <td>205.000000</td>\n",
       "      <td>205.000000</td>\n",
       "      <td>205.000000</td>\n",
       "      <td>205.000000</td>\n",
       "      <td>205.000000</td>\n",
       "      <td>205.000000</td>\n",
       "    </tr>\n",
       "    <tr>\n",
       "      <th>unique</th>\n",
       "      <td>NaN</td>\n",
       "      <td>NaN</td>\n",
       "      <td>147</td>\n",
       "      <td>2</td>\n",
       "      <td>2</td>\n",
       "      <td>2</td>\n",
       "      <td>5</td>\n",
       "      <td>3</td>\n",
       "      <td>2</td>\n",
       "      <td>NaN</td>\n",
       "      <td>...</td>\n",
       "      <td>NaN</td>\n",
       "      <td>8</td>\n",
       "      <td>NaN</td>\n",
       "      <td>NaN</td>\n",
       "      <td>NaN</td>\n",
       "      <td>NaN</td>\n",
       "      <td>NaN</td>\n",
       "      <td>NaN</td>\n",
       "      <td>NaN</td>\n",
       "      <td>NaN</td>\n",
       "    </tr>\n",
       "    <tr>\n",
       "      <th>top</th>\n",
       "      <td>NaN</td>\n",
       "      <td>NaN</td>\n",
       "      <td>toyota corona</td>\n",
       "      <td>gas</td>\n",
       "      <td>std</td>\n",
       "      <td>four</td>\n",
       "      <td>sedan</td>\n",
       "      <td>fwd</td>\n",
       "      <td>front</td>\n",
       "      <td>NaN</td>\n",
       "      <td>...</td>\n",
       "      <td>NaN</td>\n",
       "      <td>mpfi</td>\n",
       "      <td>NaN</td>\n",
       "      <td>NaN</td>\n",
       "      <td>NaN</td>\n",
       "      <td>NaN</td>\n",
       "      <td>NaN</td>\n",
       "      <td>NaN</td>\n",
       "      <td>NaN</td>\n",
       "      <td>NaN</td>\n",
       "    </tr>\n",
       "    <tr>\n",
       "      <th>freq</th>\n",
       "      <td>NaN</td>\n",
       "      <td>NaN</td>\n",
       "      <td>6</td>\n",
       "      <td>185</td>\n",
       "      <td>168</td>\n",
       "      <td>115</td>\n",
       "      <td>96</td>\n",
       "      <td>120</td>\n",
       "      <td>202</td>\n",
       "      <td>NaN</td>\n",
       "      <td>...</td>\n",
       "      <td>NaN</td>\n",
       "      <td>94</td>\n",
       "      <td>NaN</td>\n",
       "      <td>NaN</td>\n",
       "      <td>NaN</td>\n",
       "      <td>NaN</td>\n",
       "      <td>NaN</td>\n",
       "      <td>NaN</td>\n",
       "      <td>NaN</td>\n",
       "      <td>NaN</td>\n",
       "    </tr>\n",
       "    <tr>\n",
       "      <th>mean</th>\n",
       "      <td>103.000000</td>\n",
       "      <td>0.834146</td>\n",
       "      <td>NaN</td>\n",
       "      <td>NaN</td>\n",
       "      <td>NaN</td>\n",
       "      <td>NaN</td>\n",
       "      <td>NaN</td>\n",
       "      <td>NaN</td>\n",
       "      <td>NaN</td>\n",
       "      <td>98.756585</td>\n",
       "      <td>...</td>\n",
       "      <td>126.907317</td>\n",
       "      <td>NaN</td>\n",
       "      <td>3.329756</td>\n",
       "      <td>3.255415</td>\n",
       "      <td>10.142537</td>\n",
       "      <td>104.117073</td>\n",
       "      <td>5125.121951</td>\n",
       "      <td>25.219512</td>\n",
       "      <td>30.751220</td>\n",
       "      <td>13276.710571</td>\n",
       "    </tr>\n",
       "    <tr>\n",
       "      <th>std</th>\n",
       "      <td>59.322565</td>\n",
       "      <td>1.245307</td>\n",
       "      <td>NaN</td>\n",
       "      <td>NaN</td>\n",
       "      <td>NaN</td>\n",
       "      <td>NaN</td>\n",
       "      <td>NaN</td>\n",
       "      <td>NaN</td>\n",
       "      <td>NaN</td>\n",
       "      <td>6.021776</td>\n",
       "      <td>...</td>\n",
       "      <td>41.642693</td>\n",
       "      <td>NaN</td>\n",
       "      <td>0.270844</td>\n",
       "      <td>0.313597</td>\n",
       "      <td>3.972040</td>\n",
       "      <td>39.544167</td>\n",
       "      <td>476.985643</td>\n",
       "      <td>6.542142</td>\n",
       "      <td>6.886443</td>\n",
       "      <td>7988.852332</td>\n",
       "    </tr>\n",
       "    <tr>\n",
       "      <th>min</th>\n",
       "      <td>1.000000</td>\n",
       "      <td>-2.000000</td>\n",
       "      <td>NaN</td>\n",
       "      <td>NaN</td>\n",
       "      <td>NaN</td>\n",
       "      <td>NaN</td>\n",
       "      <td>NaN</td>\n",
       "      <td>NaN</td>\n",
       "      <td>NaN</td>\n",
       "      <td>86.600000</td>\n",
       "      <td>...</td>\n",
       "      <td>61.000000</td>\n",
       "      <td>NaN</td>\n",
       "      <td>2.540000</td>\n",
       "      <td>2.070000</td>\n",
       "      <td>7.000000</td>\n",
       "      <td>48.000000</td>\n",
       "      <td>4150.000000</td>\n",
       "      <td>13.000000</td>\n",
       "      <td>16.000000</td>\n",
       "      <td>5118.000000</td>\n",
       "    </tr>\n",
       "    <tr>\n",
       "      <th>25%</th>\n",
       "      <td>52.000000</td>\n",
       "      <td>0.000000</td>\n",
       "      <td>NaN</td>\n",
       "      <td>NaN</td>\n",
       "      <td>NaN</td>\n",
       "      <td>NaN</td>\n",
       "      <td>NaN</td>\n",
       "      <td>NaN</td>\n",
       "      <td>NaN</td>\n",
       "      <td>94.500000</td>\n",
       "      <td>...</td>\n",
       "      <td>97.000000</td>\n",
       "      <td>NaN</td>\n",
       "      <td>3.150000</td>\n",
       "      <td>3.110000</td>\n",
       "      <td>8.600000</td>\n",
       "      <td>70.000000</td>\n",
       "      <td>4800.000000</td>\n",
       "      <td>19.000000</td>\n",
       "      <td>25.000000</td>\n",
       "      <td>7788.000000</td>\n",
       "    </tr>\n",
       "    <tr>\n",
       "      <th>50%</th>\n",
       "      <td>103.000000</td>\n",
       "      <td>1.000000</td>\n",
       "      <td>NaN</td>\n",
       "      <td>NaN</td>\n",
       "      <td>NaN</td>\n",
       "      <td>NaN</td>\n",
       "      <td>NaN</td>\n",
       "      <td>NaN</td>\n",
       "      <td>NaN</td>\n",
       "      <td>97.000000</td>\n",
       "      <td>...</td>\n",
       "      <td>120.000000</td>\n",
       "      <td>NaN</td>\n",
       "      <td>3.310000</td>\n",
       "      <td>3.290000</td>\n",
       "      <td>9.000000</td>\n",
       "      <td>95.000000</td>\n",
       "      <td>5200.000000</td>\n",
       "      <td>24.000000</td>\n",
       "      <td>30.000000</td>\n",
       "      <td>10295.000000</td>\n",
       "    </tr>\n",
       "    <tr>\n",
       "      <th>75%</th>\n",
       "      <td>154.000000</td>\n",
       "      <td>2.000000</td>\n",
       "      <td>NaN</td>\n",
       "      <td>NaN</td>\n",
       "      <td>NaN</td>\n",
       "      <td>NaN</td>\n",
       "      <td>NaN</td>\n",
       "      <td>NaN</td>\n",
       "      <td>NaN</td>\n",
       "      <td>102.400000</td>\n",
       "      <td>...</td>\n",
       "      <td>141.000000</td>\n",
       "      <td>NaN</td>\n",
       "      <td>3.580000</td>\n",
       "      <td>3.410000</td>\n",
       "      <td>9.400000</td>\n",
       "      <td>116.000000</td>\n",
       "      <td>5500.000000</td>\n",
       "      <td>30.000000</td>\n",
       "      <td>34.000000</td>\n",
       "      <td>16503.000000</td>\n",
       "    </tr>\n",
       "    <tr>\n",
       "      <th>max</th>\n",
       "      <td>205.000000</td>\n",
       "      <td>3.000000</td>\n",
       "      <td>NaN</td>\n",
       "      <td>NaN</td>\n",
       "      <td>NaN</td>\n",
       "      <td>NaN</td>\n",
       "      <td>NaN</td>\n",
       "      <td>NaN</td>\n",
       "      <td>NaN</td>\n",
       "      <td>120.900000</td>\n",
       "      <td>...</td>\n",
       "      <td>326.000000</td>\n",
       "      <td>NaN</td>\n",
       "      <td>3.940000</td>\n",
       "      <td>4.170000</td>\n",
       "      <td>23.000000</td>\n",
       "      <td>288.000000</td>\n",
       "      <td>6600.000000</td>\n",
       "      <td>49.000000</td>\n",
       "      <td>54.000000</td>\n",
       "      <td>45400.000000</td>\n",
       "    </tr>\n",
       "  </tbody>\n",
       "</table>\n",
       "<p>11 rows × 26 columns</p>\n",
       "</div>"
      ],
      "text/plain": [
       "            car_ID   symboling        CarName fueltype aspiration doornumber  \\\n",
       "count   205.000000  205.000000            205      205        205        205   \n",
       "unique         NaN         NaN            147        2          2          2   \n",
       "top            NaN         NaN  toyota corona      gas        std       four   \n",
       "freq           NaN         NaN              6      185        168        115   \n",
       "mean    103.000000    0.834146            NaN      NaN        NaN        NaN   \n",
       "std      59.322565    1.245307            NaN      NaN        NaN        NaN   \n",
       "min       1.000000   -2.000000            NaN      NaN        NaN        NaN   \n",
       "25%      52.000000    0.000000            NaN      NaN        NaN        NaN   \n",
       "50%     103.000000    1.000000            NaN      NaN        NaN        NaN   \n",
       "75%     154.000000    2.000000            NaN      NaN        NaN        NaN   \n",
       "max     205.000000    3.000000            NaN      NaN        NaN        NaN   \n",
       "\n",
       "       carbody drivewheel enginelocation   wheelbase  ...  enginesize  \\\n",
       "count      205        205            205  205.000000  ...  205.000000   \n",
       "unique       5          3              2         NaN  ...         NaN   \n",
       "top      sedan        fwd          front         NaN  ...         NaN   \n",
       "freq        96        120            202         NaN  ...         NaN   \n",
       "mean       NaN        NaN            NaN   98.756585  ...  126.907317   \n",
       "std        NaN        NaN            NaN    6.021776  ...   41.642693   \n",
       "min        NaN        NaN            NaN   86.600000  ...   61.000000   \n",
       "25%        NaN        NaN            NaN   94.500000  ...   97.000000   \n",
       "50%        NaN        NaN            NaN   97.000000  ...  120.000000   \n",
       "75%        NaN        NaN            NaN  102.400000  ...  141.000000   \n",
       "max        NaN        NaN            NaN  120.900000  ...  326.000000   \n",
       "\n",
       "        fuelsystem   boreratio      stroke compressionratio  horsepower  \\\n",
       "count          205  205.000000  205.000000       205.000000  205.000000   \n",
       "unique           8         NaN         NaN              NaN         NaN   \n",
       "top           mpfi         NaN         NaN              NaN         NaN   \n",
       "freq            94         NaN         NaN              NaN         NaN   \n",
       "mean           NaN    3.329756    3.255415        10.142537  104.117073   \n",
       "std            NaN    0.270844    0.313597         3.972040   39.544167   \n",
       "min            NaN    2.540000    2.070000         7.000000   48.000000   \n",
       "25%            NaN    3.150000    3.110000         8.600000   70.000000   \n",
       "50%            NaN    3.310000    3.290000         9.000000   95.000000   \n",
       "75%            NaN    3.580000    3.410000         9.400000  116.000000   \n",
       "max            NaN    3.940000    4.170000        23.000000  288.000000   \n",
       "\n",
       "            peakrpm     citympg  highwaympg         price  \n",
       "count    205.000000  205.000000  205.000000    205.000000  \n",
       "unique          NaN         NaN         NaN           NaN  \n",
       "top             NaN         NaN         NaN           NaN  \n",
       "freq            NaN         NaN         NaN           NaN  \n",
       "mean    5125.121951   25.219512   30.751220  13276.710571  \n",
       "std      476.985643    6.542142    6.886443   7988.852332  \n",
       "min     4150.000000   13.000000   16.000000   5118.000000  \n",
       "25%     4800.000000   19.000000   25.000000   7788.000000  \n",
       "50%     5200.000000   24.000000   30.000000  10295.000000  \n",
       "75%     5500.000000   30.000000   34.000000  16503.000000  \n",
       "max     6600.000000   49.000000   54.000000  45400.000000  \n",
       "\n",
       "[11 rows x 26 columns]"
      ]
     },
     "execution_count": 10,
     "metadata": {},
     "output_type": "execute_result"
    }
   ],
   "source": [
    "data.describe(include=\"all\")"
   ]
  },
  {
   "cell_type": "markdown",
   "metadata": {},
   "source": [
    "I have dropped two features **car_ID** & **CarName** because they does not effect the price of the car in the dataset."
   ]
  },
  {
   "cell_type": "code",
   "execution_count": 11,
   "metadata": {
    "execution": {
     "iopub.execute_input": "2021-05-30T15:02:22.194555Z",
     "iopub.status.busy": "2021-05-30T15:02:22.19417Z",
     "iopub.status.idle": "2021-05-30T15:02:22.201048Z",
     "shell.execute_reply": "2021-05-30T15:02:22.19945Z",
     "shell.execute_reply.started": "2021-05-30T15:02:22.194522Z"
    }
   },
   "outputs": [],
   "source": [
    "#data.drop(axis=0) by default so its important to specify the axis=1 else you can specify \n",
    "#columns=[\"car_ID\",\"CarName\"]\n",
    "df_car=data.drop([\"car_ID\",\"CarName\"],\n",
    "         axis=1\n",
    "         )"
   ]
  },
  {
   "cell_type": "markdown",
   "metadata": {},
   "source": [
    "We are now able to see the remaining columns in the dataset after dropping **car_ID** and **CarName**"
   ]
  },
  {
   "cell_type": "code",
   "execution_count": 12,
   "metadata": {
    "execution": {
     "iopub.execute_input": "2021-05-30T15:02:22.680041Z",
     "iopub.status.busy": "2021-05-30T15:02:22.679688Z",
     "iopub.status.idle": "2021-05-30T15:02:22.687405Z",
     "shell.execute_reply": "2021-05-30T15:02:22.686163Z",
     "shell.execute_reply.started": "2021-05-30T15:02:22.680011Z"
    }
   },
   "outputs": [
    {
     "data": {
      "text/plain": [
       "Index(['symboling', 'fueltype', 'aspiration', 'doornumber', 'carbody',\n",
       "       'drivewheel', 'enginelocation', 'wheelbase', 'carlength', 'carwidth',\n",
       "       'carheight', 'curbweight', 'enginetype', 'cylindernumber', 'enginesize',\n",
       "       'fuelsystem', 'boreratio', 'stroke', 'compressionratio', 'horsepower',\n",
       "       'peakrpm', 'citympg', 'highwaympg', 'price'],\n",
       "      dtype='object')"
      ]
     },
     "execution_count": 12,
     "metadata": {},
     "output_type": "execute_result"
    }
   ],
   "source": [
    "df_car.columns"
   ]
  },
  {
   "cell_type": "markdown",
   "metadata": {},
   "source": []
  },
  {
   "cell_type": "markdown",
   "metadata": {},
   "source": [
    "Display the first five entries of dataframe"
   ]
  },
  {
   "cell_type": "code",
   "execution_count": 13,
   "metadata": {
    "execution": {
     "iopub.execute_input": "2021-05-30T15:02:23.072678Z",
     "iopub.status.busy": "2021-05-30T15:02:23.072189Z",
     "iopub.status.idle": "2021-05-30T15:02:23.105522Z",
     "shell.execute_reply": "2021-05-30T15:02:23.104377Z",
     "shell.execute_reply.started": "2021-05-30T15:02:23.072584Z"
    }
   },
   "outputs": [
    {
     "data": {
      "text/html": [
       "<div>\n",
       "<style scoped>\n",
       "    .dataframe tbody tr th:only-of-type {\n",
       "        vertical-align: middle;\n",
       "    }\n",
       "\n",
       "    .dataframe tbody tr th {\n",
       "        vertical-align: top;\n",
       "    }\n",
       "\n",
       "    .dataframe thead th {\n",
       "        text-align: right;\n",
       "    }\n",
       "</style>\n",
       "<table border=\"1\" class=\"dataframe\">\n",
       "  <thead>\n",
       "    <tr style=\"text-align: right;\">\n",
       "      <th></th>\n",
       "      <th>symboling</th>\n",
       "      <th>fueltype</th>\n",
       "      <th>aspiration</th>\n",
       "      <th>doornumber</th>\n",
       "      <th>carbody</th>\n",
       "      <th>drivewheel</th>\n",
       "      <th>enginelocation</th>\n",
       "      <th>wheelbase</th>\n",
       "      <th>carlength</th>\n",
       "      <th>carwidth</th>\n",
       "      <th>...</th>\n",
       "      <th>enginesize</th>\n",
       "      <th>fuelsystem</th>\n",
       "      <th>boreratio</th>\n",
       "      <th>stroke</th>\n",
       "      <th>compressionratio</th>\n",
       "      <th>horsepower</th>\n",
       "      <th>peakrpm</th>\n",
       "      <th>citympg</th>\n",
       "      <th>highwaympg</th>\n",
       "      <th>price</th>\n",
       "    </tr>\n",
       "  </thead>\n",
       "  <tbody>\n",
       "    <tr>\n",
       "      <th>0</th>\n",
       "      <td>3</td>\n",
       "      <td>gas</td>\n",
       "      <td>std</td>\n",
       "      <td>two</td>\n",
       "      <td>convertible</td>\n",
       "      <td>rwd</td>\n",
       "      <td>front</td>\n",
       "      <td>88.6</td>\n",
       "      <td>168.8</td>\n",
       "      <td>64.1</td>\n",
       "      <td>...</td>\n",
       "      <td>130</td>\n",
       "      <td>mpfi</td>\n",
       "      <td>3.47</td>\n",
       "      <td>2.68</td>\n",
       "      <td>9.0</td>\n",
       "      <td>111</td>\n",
       "      <td>5000</td>\n",
       "      <td>21</td>\n",
       "      <td>27</td>\n",
       "      <td>13495.0</td>\n",
       "    </tr>\n",
       "    <tr>\n",
       "      <th>1</th>\n",
       "      <td>3</td>\n",
       "      <td>gas</td>\n",
       "      <td>std</td>\n",
       "      <td>two</td>\n",
       "      <td>convertible</td>\n",
       "      <td>rwd</td>\n",
       "      <td>front</td>\n",
       "      <td>88.6</td>\n",
       "      <td>168.8</td>\n",
       "      <td>64.1</td>\n",
       "      <td>...</td>\n",
       "      <td>130</td>\n",
       "      <td>mpfi</td>\n",
       "      <td>3.47</td>\n",
       "      <td>2.68</td>\n",
       "      <td>9.0</td>\n",
       "      <td>111</td>\n",
       "      <td>5000</td>\n",
       "      <td>21</td>\n",
       "      <td>27</td>\n",
       "      <td>16500.0</td>\n",
       "    </tr>\n",
       "    <tr>\n",
       "      <th>2</th>\n",
       "      <td>1</td>\n",
       "      <td>gas</td>\n",
       "      <td>std</td>\n",
       "      <td>two</td>\n",
       "      <td>hatchback</td>\n",
       "      <td>rwd</td>\n",
       "      <td>front</td>\n",
       "      <td>94.5</td>\n",
       "      <td>171.2</td>\n",
       "      <td>65.5</td>\n",
       "      <td>...</td>\n",
       "      <td>152</td>\n",
       "      <td>mpfi</td>\n",
       "      <td>2.68</td>\n",
       "      <td>3.47</td>\n",
       "      <td>9.0</td>\n",
       "      <td>154</td>\n",
       "      <td>5000</td>\n",
       "      <td>19</td>\n",
       "      <td>26</td>\n",
       "      <td>16500.0</td>\n",
       "    </tr>\n",
       "    <tr>\n",
       "      <th>3</th>\n",
       "      <td>2</td>\n",
       "      <td>gas</td>\n",
       "      <td>std</td>\n",
       "      <td>four</td>\n",
       "      <td>sedan</td>\n",
       "      <td>fwd</td>\n",
       "      <td>front</td>\n",
       "      <td>99.8</td>\n",
       "      <td>176.6</td>\n",
       "      <td>66.2</td>\n",
       "      <td>...</td>\n",
       "      <td>109</td>\n",
       "      <td>mpfi</td>\n",
       "      <td>3.19</td>\n",
       "      <td>3.40</td>\n",
       "      <td>10.0</td>\n",
       "      <td>102</td>\n",
       "      <td>5500</td>\n",
       "      <td>24</td>\n",
       "      <td>30</td>\n",
       "      <td>13950.0</td>\n",
       "    </tr>\n",
       "    <tr>\n",
       "      <th>4</th>\n",
       "      <td>2</td>\n",
       "      <td>gas</td>\n",
       "      <td>std</td>\n",
       "      <td>four</td>\n",
       "      <td>sedan</td>\n",
       "      <td>4wd</td>\n",
       "      <td>front</td>\n",
       "      <td>99.4</td>\n",
       "      <td>176.6</td>\n",
       "      <td>66.4</td>\n",
       "      <td>...</td>\n",
       "      <td>136</td>\n",
       "      <td>mpfi</td>\n",
       "      <td>3.19</td>\n",
       "      <td>3.40</td>\n",
       "      <td>8.0</td>\n",
       "      <td>115</td>\n",
       "      <td>5500</td>\n",
       "      <td>18</td>\n",
       "      <td>22</td>\n",
       "      <td>17450.0</td>\n",
       "    </tr>\n",
       "  </tbody>\n",
       "</table>\n",
       "<p>5 rows × 24 columns</p>\n",
       "</div>"
      ],
      "text/plain": [
       "   symboling fueltype aspiration doornumber      carbody drivewheel  \\\n",
       "0          3      gas        std        two  convertible        rwd   \n",
       "1          3      gas        std        two  convertible        rwd   \n",
       "2          1      gas        std        two    hatchback        rwd   \n",
       "3          2      gas        std       four        sedan        fwd   \n",
       "4          2      gas        std       four        sedan        4wd   \n",
       "\n",
       "  enginelocation  wheelbase  carlength  carwidth  ...  enginesize  fuelsystem  \\\n",
       "0          front       88.6      168.8      64.1  ...         130        mpfi   \n",
       "1          front       88.6      168.8      64.1  ...         130        mpfi   \n",
       "2          front       94.5      171.2      65.5  ...         152        mpfi   \n",
       "3          front       99.8      176.6      66.2  ...         109        mpfi   \n",
       "4          front       99.4      176.6      66.4  ...         136        mpfi   \n",
       "\n",
       "  boreratio stroke  compressionratio horsepower  peakrpm  citympg  highwaympg  \\\n",
       "0      3.47   2.68               9.0        111     5000       21          27   \n",
       "1      3.47   2.68               9.0        111     5000       21          27   \n",
       "2      2.68   3.47               9.0        154     5000       19          26   \n",
       "3      3.19   3.40              10.0        102     5500       24          30   \n",
       "4      3.19   3.40               8.0        115     5500       18          22   \n",
       "\n",
       "     price  \n",
       "0  13495.0  \n",
       "1  16500.0  \n",
       "2  16500.0  \n",
       "3  13950.0  \n",
       "4  17450.0  \n",
       "\n",
       "[5 rows x 24 columns]"
      ]
     },
     "execution_count": 13,
     "metadata": {},
     "output_type": "execute_result"
    }
   ],
   "source": [
    "df_car.head()"
   ]
  },
  {
   "cell_type": "markdown",
   "metadata": {},
   "source": [
    "Split the dataset into **dependent(y)** & **independent(X)** variables,\n",
    "\n",
    "Dependent variable is also called the target variable which is **price** of the car in our case"
   ]
  },
  {
   "cell_type": "code",
   "execution_count": 16,
   "metadata": {
    "execution": {
     "iopub.execute_input": "2021-05-30T15:02:23.440878Z",
     "iopub.status.busy": "2021-05-30T15:02:23.440358Z",
     "iopub.status.idle": "2021-05-30T15:02:23.447475Z",
     "shell.execute_reply": "2021-05-30T15:02:23.446556Z",
     "shell.execute_reply.started": "2021-05-30T15:02:23.440844Z"
    }
   },
   "outputs": [],
   "source": [
    "X=df_car.drop(columns=[\"price\"])\n",
    "y=df_car[\"price\"]"
   ]
  },
  {
   "cell_type": "markdown",
   "metadata": {},
   "source": [
    "Specify two empty lists **cat_col** & **num_col** to store **categorical** and **numerical** columns respectively"
   ]
  },
  {
   "cell_type": "code",
   "execution_count": 17,
   "metadata": {
    "execution": {
     "iopub.execute_input": "2021-05-30T15:02:23.792627Z",
     "iopub.status.busy": "2021-05-30T15:02:23.792024Z",
     "iopub.status.idle": "2021-05-30T15:02:23.799697Z",
     "shell.execute_reply": "2021-05-30T15:02:23.798895Z",
     "shell.execute_reply.started": "2021-05-30T15:02:23.792568Z"
    }
   },
   "outputs": [],
   "source": [
    "cat_col=[]#will store categorical features\n",
    "num_col=[]#will store numerical features\n",
    "\n",
    "#iterating thourgh all columns in X\n",
    "for col in X:\n",
    "    #append the features whose datatype is object in cat_col\n",
    "    if df_car[col].dtype==\"O\":\n",
    "        cat_col.append(col)\n",
    "    #append those features whose datatype is other than object in num_col    \n",
    "    else:\n",
    "        num_col.append(col)"
   ]
  },
  {
   "cell_type": "markdown",
   "metadata": {},
   "source": [
    "Create dataFrames **df_cat** & **df_num** to store the features with datatypes **object** and **numerical** respectively"
   ]
  },
  {
   "cell_type": "markdown",
   "metadata": {},
   "source": [
    "By dividing the dataframe into **numerical** & **categorical** features seperately, it will allow an ease handling of numerical and categorical features in their respective dataframes."
   ]
  },
  {
   "cell_type": "markdown",
   "metadata": {},
   "source": []
  },
  {
   "cell_type": "code",
   "execution_count": 18,
   "metadata": {
    "execution": {
     "iopub.execute_input": "2021-05-30T15:02:24.422456Z",
     "iopub.status.busy": "2021-05-30T15:02:24.421818Z",
     "iopub.status.idle": "2021-05-30T15:02:24.429648Z",
     "shell.execute_reply": "2021-05-30T15:02:24.428509Z",
     "shell.execute_reply.started": "2021-05-30T15:02:24.422405Z"
    }
   },
   "outputs": [],
   "source": [
    "#dataframe to store the categorical features\n",
    "df_cat=pd.DataFrame(\n",
    "    data=df_car,\n",
    "    #we will use the column names from the cat_col list\n",
    "    columns=cat_col\n",
    ")\n",
    "\n",
    "#dataframe to store the categorical features\n",
    "df_num=pd.DataFrame(\n",
    "    data=df_car,\n",
    "    #we will use the column names from the num_col list\n",
    "    columns=num_col\n",
    ")"
   ]
  },
  {
   "cell_type": "markdown",
   "metadata": {},
   "source": [
    "Display head of Dataframe with numerical features"
   ]
  },
  {
   "cell_type": "code",
   "execution_count": 19,
   "metadata": {
    "execution": {
     "iopub.execute_input": "2021-05-30T15:02:24.753085Z",
     "iopub.status.busy": "2021-05-30T15:02:24.752695Z",
     "iopub.status.idle": "2021-05-30T15:02:24.78564Z",
     "shell.execute_reply": "2021-05-30T15:02:24.784396Z",
     "shell.execute_reply.started": "2021-05-30T15:02:24.753046Z"
    }
   },
   "outputs": [
    {
     "data": {
      "text/html": [
       "<div>\n",
       "<style scoped>\n",
       "    .dataframe tbody tr th:only-of-type {\n",
       "        vertical-align: middle;\n",
       "    }\n",
       "\n",
       "    .dataframe tbody tr th {\n",
       "        vertical-align: top;\n",
       "    }\n",
       "\n",
       "    .dataframe thead th {\n",
       "        text-align: right;\n",
       "    }\n",
       "</style>\n",
       "<table border=\"1\" class=\"dataframe\">\n",
       "  <thead>\n",
       "    <tr style=\"text-align: right;\">\n",
       "      <th></th>\n",
       "      <th>symboling</th>\n",
       "      <th>wheelbase</th>\n",
       "      <th>carlength</th>\n",
       "      <th>carwidth</th>\n",
       "      <th>carheight</th>\n",
       "      <th>curbweight</th>\n",
       "      <th>enginesize</th>\n",
       "      <th>boreratio</th>\n",
       "      <th>stroke</th>\n",
       "      <th>compressionratio</th>\n",
       "      <th>horsepower</th>\n",
       "      <th>peakrpm</th>\n",
       "      <th>citympg</th>\n",
       "      <th>highwaympg</th>\n",
       "    </tr>\n",
       "  </thead>\n",
       "  <tbody>\n",
       "    <tr>\n",
       "      <th>0</th>\n",
       "      <td>3</td>\n",
       "      <td>88.6</td>\n",
       "      <td>168.8</td>\n",
       "      <td>64.1</td>\n",
       "      <td>48.8</td>\n",
       "      <td>2548</td>\n",
       "      <td>130</td>\n",
       "      <td>3.47</td>\n",
       "      <td>2.68</td>\n",
       "      <td>9.0</td>\n",
       "      <td>111</td>\n",
       "      <td>5000</td>\n",
       "      <td>21</td>\n",
       "      <td>27</td>\n",
       "    </tr>\n",
       "    <tr>\n",
       "      <th>1</th>\n",
       "      <td>3</td>\n",
       "      <td>88.6</td>\n",
       "      <td>168.8</td>\n",
       "      <td>64.1</td>\n",
       "      <td>48.8</td>\n",
       "      <td>2548</td>\n",
       "      <td>130</td>\n",
       "      <td>3.47</td>\n",
       "      <td>2.68</td>\n",
       "      <td>9.0</td>\n",
       "      <td>111</td>\n",
       "      <td>5000</td>\n",
       "      <td>21</td>\n",
       "      <td>27</td>\n",
       "    </tr>\n",
       "    <tr>\n",
       "      <th>2</th>\n",
       "      <td>1</td>\n",
       "      <td>94.5</td>\n",
       "      <td>171.2</td>\n",
       "      <td>65.5</td>\n",
       "      <td>52.4</td>\n",
       "      <td>2823</td>\n",
       "      <td>152</td>\n",
       "      <td>2.68</td>\n",
       "      <td>3.47</td>\n",
       "      <td>9.0</td>\n",
       "      <td>154</td>\n",
       "      <td>5000</td>\n",
       "      <td>19</td>\n",
       "      <td>26</td>\n",
       "    </tr>\n",
       "    <tr>\n",
       "      <th>3</th>\n",
       "      <td>2</td>\n",
       "      <td>99.8</td>\n",
       "      <td>176.6</td>\n",
       "      <td>66.2</td>\n",
       "      <td>54.3</td>\n",
       "      <td>2337</td>\n",
       "      <td>109</td>\n",
       "      <td>3.19</td>\n",
       "      <td>3.40</td>\n",
       "      <td>10.0</td>\n",
       "      <td>102</td>\n",
       "      <td>5500</td>\n",
       "      <td>24</td>\n",
       "      <td>30</td>\n",
       "    </tr>\n",
       "    <tr>\n",
       "      <th>4</th>\n",
       "      <td>2</td>\n",
       "      <td>99.4</td>\n",
       "      <td>176.6</td>\n",
       "      <td>66.4</td>\n",
       "      <td>54.3</td>\n",
       "      <td>2824</td>\n",
       "      <td>136</td>\n",
       "      <td>3.19</td>\n",
       "      <td>3.40</td>\n",
       "      <td>8.0</td>\n",
       "      <td>115</td>\n",
       "      <td>5500</td>\n",
       "      <td>18</td>\n",
       "      <td>22</td>\n",
       "    </tr>\n",
       "  </tbody>\n",
       "</table>\n",
       "</div>"
      ],
      "text/plain": [
       "   symboling  wheelbase  carlength  carwidth  carheight  curbweight  \\\n",
       "0          3       88.6      168.8      64.1       48.8        2548   \n",
       "1          3       88.6      168.8      64.1       48.8        2548   \n",
       "2          1       94.5      171.2      65.5       52.4        2823   \n",
       "3          2       99.8      176.6      66.2       54.3        2337   \n",
       "4          2       99.4      176.6      66.4       54.3        2824   \n",
       "\n",
       "   enginesize  boreratio  stroke  compressionratio  horsepower  peakrpm  \\\n",
       "0         130       3.47    2.68               9.0         111     5000   \n",
       "1         130       3.47    2.68               9.0         111     5000   \n",
       "2         152       2.68    3.47               9.0         154     5000   \n",
       "3         109       3.19    3.40              10.0         102     5500   \n",
       "4         136       3.19    3.40               8.0         115     5500   \n",
       "\n",
       "   citympg  highwaympg  \n",
       "0       21          27  \n",
       "1       21          27  \n",
       "2       19          26  \n",
       "3       24          30  \n",
       "4       18          22  "
      ]
     },
     "execution_count": 19,
     "metadata": {},
     "output_type": "execute_result"
    }
   ],
   "source": [
    "df_num.head()"
   ]
  },
  {
   "cell_type": "markdown",
   "metadata": {},
   "source": [
    "Display head of Dataframe with categorical features"
   ]
  },
  {
   "cell_type": "code",
   "execution_count": 20,
   "metadata": {
    "execution": {
     "iopub.execute_input": "2021-05-30T15:02:25.086543Z",
     "iopub.status.busy": "2021-05-30T15:02:25.08583Z",
     "iopub.status.idle": "2021-05-30T15:02:25.107466Z",
     "shell.execute_reply": "2021-05-30T15:02:25.106509Z",
     "shell.execute_reply.started": "2021-05-30T15:02:25.086493Z"
    }
   },
   "outputs": [
    {
     "data": {
      "text/html": [
       "<div>\n",
       "<style scoped>\n",
       "    .dataframe tbody tr th:only-of-type {\n",
       "        vertical-align: middle;\n",
       "    }\n",
       "\n",
       "    .dataframe tbody tr th {\n",
       "        vertical-align: top;\n",
       "    }\n",
       "\n",
       "    .dataframe thead th {\n",
       "        text-align: right;\n",
       "    }\n",
       "</style>\n",
       "<table border=\"1\" class=\"dataframe\">\n",
       "  <thead>\n",
       "    <tr style=\"text-align: right;\">\n",
       "      <th></th>\n",
       "      <th>fueltype</th>\n",
       "      <th>aspiration</th>\n",
       "      <th>doornumber</th>\n",
       "      <th>carbody</th>\n",
       "      <th>drivewheel</th>\n",
       "      <th>enginelocation</th>\n",
       "      <th>enginetype</th>\n",
       "      <th>cylindernumber</th>\n",
       "      <th>fuelsystem</th>\n",
       "    </tr>\n",
       "  </thead>\n",
       "  <tbody>\n",
       "    <tr>\n",
       "      <th>0</th>\n",
       "      <td>gas</td>\n",
       "      <td>std</td>\n",
       "      <td>two</td>\n",
       "      <td>convertible</td>\n",
       "      <td>rwd</td>\n",
       "      <td>front</td>\n",
       "      <td>dohc</td>\n",
       "      <td>four</td>\n",
       "      <td>mpfi</td>\n",
       "    </tr>\n",
       "    <tr>\n",
       "      <th>1</th>\n",
       "      <td>gas</td>\n",
       "      <td>std</td>\n",
       "      <td>two</td>\n",
       "      <td>convertible</td>\n",
       "      <td>rwd</td>\n",
       "      <td>front</td>\n",
       "      <td>dohc</td>\n",
       "      <td>four</td>\n",
       "      <td>mpfi</td>\n",
       "    </tr>\n",
       "    <tr>\n",
       "      <th>2</th>\n",
       "      <td>gas</td>\n",
       "      <td>std</td>\n",
       "      <td>two</td>\n",
       "      <td>hatchback</td>\n",
       "      <td>rwd</td>\n",
       "      <td>front</td>\n",
       "      <td>ohcv</td>\n",
       "      <td>six</td>\n",
       "      <td>mpfi</td>\n",
       "    </tr>\n",
       "    <tr>\n",
       "      <th>3</th>\n",
       "      <td>gas</td>\n",
       "      <td>std</td>\n",
       "      <td>four</td>\n",
       "      <td>sedan</td>\n",
       "      <td>fwd</td>\n",
       "      <td>front</td>\n",
       "      <td>ohc</td>\n",
       "      <td>four</td>\n",
       "      <td>mpfi</td>\n",
       "    </tr>\n",
       "    <tr>\n",
       "      <th>4</th>\n",
       "      <td>gas</td>\n",
       "      <td>std</td>\n",
       "      <td>four</td>\n",
       "      <td>sedan</td>\n",
       "      <td>4wd</td>\n",
       "      <td>front</td>\n",
       "      <td>ohc</td>\n",
       "      <td>five</td>\n",
       "      <td>mpfi</td>\n",
       "    </tr>\n",
       "  </tbody>\n",
       "</table>\n",
       "</div>"
      ],
      "text/plain": [
       "  fueltype aspiration doornumber      carbody drivewheel enginelocation  \\\n",
       "0      gas        std        two  convertible        rwd          front   \n",
       "1      gas        std        two  convertible        rwd          front   \n",
       "2      gas        std        two    hatchback        rwd          front   \n",
       "3      gas        std       four        sedan        fwd          front   \n",
       "4      gas        std       four        sedan        4wd          front   \n",
       "\n",
       "  enginetype cylindernumber fuelsystem  \n",
       "0       dohc           four       mpfi  \n",
       "1       dohc           four       mpfi  \n",
       "2       ohcv            six       mpfi  \n",
       "3        ohc           four       mpfi  \n",
       "4        ohc           five       mpfi  "
      ]
     },
     "execution_count": 20,
     "metadata": {},
     "output_type": "execute_result"
    }
   ],
   "source": [
    "df_cat.head()"
   ]
  },
  {
   "cell_type": "markdown",
   "metadata": {},
   "source": [
    "Print the **labels** of each columns in **df_cat**"
   ]
  },
  {
   "cell_type": "markdown",
   "metadata": {},
   "source": []
  },
  {
   "cell_type": "code",
   "execution_count": 21,
   "metadata": {
    "execution": {
     "iopub.execute_input": "2021-05-30T15:02:25.681486Z",
     "iopub.status.busy": "2021-05-30T15:02:25.680906Z",
     "iopub.status.idle": "2021-05-30T15:02:25.6971Z",
     "shell.execute_reply": "2021-05-30T15:02:25.696158Z",
     "shell.execute_reply.started": "2021-05-30T15:02:25.681438Z"
    }
   },
   "outputs": [
    {
     "name": "stdout",
     "output_type": "stream",
     "text": [
      "fueltype  contains : 2  labels\n",
      "aspiration  contains : 2  labels\n",
      "doornumber  contains : 2  labels\n",
      "carbody  contains : 5  labels\n",
      "drivewheel  contains : 3  labels\n",
      "enginelocation  contains : 2  labels\n",
      "enginetype  contains : 7  labels\n",
      "cylindernumber  contains : 7  labels\n",
      "fuelsystem  contains : 8  labels\n"
     ]
    }
   ],
   "source": [
    "for cols in df_cat:\n",
    "    print(cols,\" contains :\",df_cat[cols].nunique(),\" labels\")"
   ]
  },
  {
   "cell_type": "markdown",
   "metadata": {},
   "source": [
    "Since the dataset does not contain any null values hence the df_num & df_cat will also have no null values, however we are intrested in df_cat whose datatype is object.\n",
    "\n",
    "To feed our data to the Machine Learning Models the data values must be converted into numerical values.\n",
    "\n"
   ]
  },
  {
   "cell_type": "markdown",
   "metadata": {},
   "source": [
    "Perform **one-hot encoding** to the categorical features, using **pd.get_dummies()**\n",
    "\n"
   ]
  },
  {
   "cell_type": "markdown",
   "metadata": {},
   "source": []
  },
  {
   "cell_type": "code",
   "execution_count": 22,
   "metadata": {
    "execution": {
     "iopub.execute_input": "2021-05-30T15:02:26.349441Z",
     "iopub.status.busy": "2021-05-30T15:02:26.348826Z",
     "iopub.status.idle": "2021-05-30T15:02:26.364588Z",
     "shell.execute_reply": "2021-05-30T15:02:26.36335Z",
     "shell.execute_reply.started": "2021-05-30T15:02:26.349405Z"
    }
   },
   "outputs": [],
   "source": [
    "df_cat=pd.get_dummies(\n",
    "    data=df_cat,\n",
    "    drop_first=True\n",
    ")"
   ]
  },
  {
   "cell_type": "markdown",
   "metadata": {},
   "source": [
    "Display the head of **one-hot encoded** dataframe"
   ]
  },
  {
   "cell_type": "code",
   "execution_count": 23,
   "metadata": {
    "execution": {
     "iopub.execute_input": "2021-05-30T15:02:26.639577Z",
     "iopub.status.busy": "2021-05-30T15:02:26.639187Z",
     "iopub.status.idle": "2021-05-30T15:02:26.662704Z",
     "shell.execute_reply": "2021-05-30T15:02:26.661801Z",
     "shell.execute_reply.started": "2021-05-30T15:02:26.639545Z"
    }
   },
   "outputs": [
    {
     "data": {
      "text/html": [
       "<div>\n",
       "<style scoped>\n",
       "    .dataframe tbody tr th:only-of-type {\n",
       "        vertical-align: middle;\n",
       "    }\n",
       "\n",
       "    .dataframe tbody tr th {\n",
       "        vertical-align: top;\n",
       "    }\n",
       "\n",
       "    .dataframe thead th {\n",
       "        text-align: right;\n",
       "    }\n",
       "</style>\n",
       "<table border=\"1\" class=\"dataframe\">\n",
       "  <thead>\n",
       "    <tr style=\"text-align: right;\">\n",
       "      <th></th>\n",
       "      <th>fueltype_gas</th>\n",
       "      <th>aspiration_turbo</th>\n",
       "      <th>doornumber_two</th>\n",
       "      <th>carbody_hardtop</th>\n",
       "      <th>carbody_hatchback</th>\n",
       "      <th>carbody_sedan</th>\n",
       "      <th>carbody_wagon</th>\n",
       "      <th>drivewheel_fwd</th>\n",
       "      <th>drivewheel_rwd</th>\n",
       "      <th>enginelocation_rear</th>\n",
       "      <th>...</th>\n",
       "      <th>cylindernumber_three</th>\n",
       "      <th>cylindernumber_twelve</th>\n",
       "      <th>cylindernumber_two</th>\n",
       "      <th>fuelsystem_2bbl</th>\n",
       "      <th>fuelsystem_4bbl</th>\n",
       "      <th>fuelsystem_idi</th>\n",
       "      <th>fuelsystem_mfi</th>\n",
       "      <th>fuelsystem_mpfi</th>\n",
       "      <th>fuelsystem_spdi</th>\n",
       "      <th>fuelsystem_spfi</th>\n",
       "    </tr>\n",
       "  </thead>\n",
       "  <tbody>\n",
       "    <tr>\n",
       "      <th>0</th>\n",
       "      <td>1</td>\n",
       "      <td>0</td>\n",
       "      <td>1</td>\n",
       "      <td>0</td>\n",
       "      <td>0</td>\n",
       "      <td>0</td>\n",
       "      <td>0</td>\n",
       "      <td>0</td>\n",
       "      <td>1</td>\n",
       "      <td>0</td>\n",
       "      <td>...</td>\n",
       "      <td>0</td>\n",
       "      <td>0</td>\n",
       "      <td>0</td>\n",
       "      <td>0</td>\n",
       "      <td>0</td>\n",
       "      <td>0</td>\n",
       "      <td>0</td>\n",
       "      <td>1</td>\n",
       "      <td>0</td>\n",
       "      <td>0</td>\n",
       "    </tr>\n",
       "    <tr>\n",
       "      <th>1</th>\n",
       "      <td>1</td>\n",
       "      <td>0</td>\n",
       "      <td>1</td>\n",
       "      <td>0</td>\n",
       "      <td>0</td>\n",
       "      <td>0</td>\n",
       "      <td>0</td>\n",
       "      <td>0</td>\n",
       "      <td>1</td>\n",
       "      <td>0</td>\n",
       "      <td>...</td>\n",
       "      <td>0</td>\n",
       "      <td>0</td>\n",
       "      <td>0</td>\n",
       "      <td>0</td>\n",
       "      <td>0</td>\n",
       "      <td>0</td>\n",
       "      <td>0</td>\n",
       "      <td>1</td>\n",
       "      <td>0</td>\n",
       "      <td>0</td>\n",
       "    </tr>\n",
       "    <tr>\n",
       "      <th>2</th>\n",
       "      <td>1</td>\n",
       "      <td>0</td>\n",
       "      <td>1</td>\n",
       "      <td>0</td>\n",
       "      <td>1</td>\n",
       "      <td>0</td>\n",
       "      <td>0</td>\n",
       "      <td>0</td>\n",
       "      <td>1</td>\n",
       "      <td>0</td>\n",
       "      <td>...</td>\n",
       "      <td>0</td>\n",
       "      <td>0</td>\n",
       "      <td>0</td>\n",
       "      <td>0</td>\n",
       "      <td>0</td>\n",
       "      <td>0</td>\n",
       "      <td>0</td>\n",
       "      <td>1</td>\n",
       "      <td>0</td>\n",
       "      <td>0</td>\n",
       "    </tr>\n",
       "    <tr>\n",
       "      <th>3</th>\n",
       "      <td>1</td>\n",
       "      <td>0</td>\n",
       "      <td>0</td>\n",
       "      <td>0</td>\n",
       "      <td>0</td>\n",
       "      <td>1</td>\n",
       "      <td>0</td>\n",
       "      <td>1</td>\n",
       "      <td>0</td>\n",
       "      <td>0</td>\n",
       "      <td>...</td>\n",
       "      <td>0</td>\n",
       "      <td>0</td>\n",
       "      <td>0</td>\n",
       "      <td>0</td>\n",
       "      <td>0</td>\n",
       "      <td>0</td>\n",
       "      <td>0</td>\n",
       "      <td>1</td>\n",
       "      <td>0</td>\n",
       "      <td>0</td>\n",
       "    </tr>\n",
       "    <tr>\n",
       "      <th>4</th>\n",
       "      <td>1</td>\n",
       "      <td>0</td>\n",
       "      <td>0</td>\n",
       "      <td>0</td>\n",
       "      <td>0</td>\n",
       "      <td>1</td>\n",
       "      <td>0</td>\n",
       "      <td>0</td>\n",
       "      <td>0</td>\n",
       "      <td>0</td>\n",
       "      <td>...</td>\n",
       "      <td>0</td>\n",
       "      <td>0</td>\n",
       "      <td>0</td>\n",
       "      <td>0</td>\n",
       "      <td>0</td>\n",
       "      <td>0</td>\n",
       "      <td>0</td>\n",
       "      <td>1</td>\n",
       "      <td>0</td>\n",
       "      <td>0</td>\n",
       "    </tr>\n",
       "  </tbody>\n",
       "</table>\n",
       "<p>5 rows × 29 columns</p>\n",
       "</div>"
      ],
      "text/plain": [
       "   fueltype_gas  aspiration_turbo  doornumber_two  carbody_hardtop  \\\n",
       "0             1                 0               1                0   \n",
       "1             1                 0               1                0   \n",
       "2             1                 0               1                0   \n",
       "3             1                 0               0                0   \n",
       "4             1                 0               0                0   \n",
       "\n",
       "   carbody_hatchback  carbody_sedan  carbody_wagon  drivewheel_fwd  \\\n",
       "0                  0              0              0               0   \n",
       "1                  0              0              0               0   \n",
       "2                  1              0              0               0   \n",
       "3                  0              1              0               1   \n",
       "4                  0              1              0               0   \n",
       "\n",
       "   drivewheel_rwd  enginelocation_rear  ...  cylindernumber_three  \\\n",
       "0               1                    0  ...                     0   \n",
       "1               1                    0  ...                     0   \n",
       "2               1                    0  ...                     0   \n",
       "3               0                    0  ...                     0   \n",
       "4               0                    0  ...                     0   \n",
       "\n",
       "   cylindernumber_twelve  cylindernumber_two  fuelsystem_2bbl  \\\n",
       "0                      0                   0                0   \n",
       "1                      0                   0                0   \n",
       "2                      0                   0                0   \n",
       "3                      0                   0                0   \n",
       "4                      0                   0                0   \n",
       "\n",
       "   fuelsystem_4bbl  fuelsystem_idi  fuelsystem_mfi  fuelsystem_mpfi  \\\n",
       "0                0               0               0                1   \n",
       "1                0               0               0                1   \n",
       "2                0               0               0                1   \n",
       "3                0               0               0                1   \n",
       "4                0               0               0                1   \n",
       "\n",
       "   fuelsystem_spdi  fuelsystem_spfi  \n",
       "0                0                0  \n",
       "1                0                0  \n",
       "2                0                0  \n",
       "3                0                0  \n",
       "4                0                0  \n",
       "\n",
       "[5 rows x 29 columns]"
      ]
     },
     "execution_count": 23,
     "metadata": {},
     "output_type": "execute_result"
    }
   ],
   "source": [
    "df_cat.head()"
   ]
  },
  {
   "cell_type": "markdown",
   "metadata": {},
   "source": [
    "Now we have converted categorical features into **numerical** values by perfoming **one-hot** encoding & now we have all the features on both **df_num** & **df_cat** in numerical form so we **concatenate** them to get the final desired dataframe."
   ]
  },
  {
   "cell_type": "code",
   "execution_count": 24,
   "metadata": {
    "execution": {
     "iopub.execute_input": "2021-05-30T15:02:27.00606Z",
     "iopub.status.busy": "2021-05-30T15:02:27.005685Z",
     "iopub.status.idle": "2021-05-30T15:02:27.015133Z",
     "shell.execute_reply": "2021-05-30T15:02:27.013865Z",
     "shell.execute_reply.started": "2021-05-30T15:02:27.006029Z"
    }
   },
   "outputs": [],
   "source": [
    "car_final=pd.concat(\n",
    "    [df_num,df_cat,y],\n",
    "    axis=1\n",
    ")"
   ]
  },
  {
   "cell_type": "markdown",
   "metadata": {},
   "source": [
    "Split the data into **dependent(y)** and **independent(X)** variables"
   ]
  },
  {
   "cell_type": "code",
   "execution_count": 25,
   "metadata": {
    "execution": {
     "iopub.execute_input": "2021-05-30T15:02:27.507675Z",
     "iopub.status.busy": "2021-05-30T15:02:27.507299Z",
     "iopub.status.idle": "2021-05-30T15:02:27.515121Z",
     "shell.execute_reply": "2021-05-30T15:02:27.513755Z",
     "shell.execute_reply.started": "2021-05-30T15:02:27.507638Z"
    }
   },
   "outputs": [],
   "source": [
    "X=car_final.drop(\"price\",\n",
    "                axis=1)\n",
    "y=car_final[\"price\"]"
   ]
  },
  {
   "cell_type": "markdown",
   "metadata": {},
   "source": [
    "Split the data into **training** and **testing** data, with **test data** of size of **20%** of total dataset."
   ]
  },
  {
   "cell_type": "code",
   "execution_count": 26,
   "metadata": {
    "execution": {
     "iopub.execute_input": "2021-05-30T15:02:27.712375Z",
     "iopub.status.busy": "2021-05-30T15:02:27.711969Z",
     "iopub.status.idle": "2021-05-30T15:02:27.72204Z",
     "shell.execute_reply": "2021-05-30T15:02:27.720849Z",
     "shell.execute_reply.started": "2021-05-30T15:02:27.712338Z"
    }
   },
   "outputs": [],
   "source": [
    "X_train,X_test,y_train,y_test=train_test_split(\n",
    "    X,\n",
    "    y,\n",
    "    random_state=42,\n",
    "    test_size=0.2\n",
    ")"
   ]
  },
  {
   "cell_type": "markdown",
   "metadata": {},
   "source": [
    "Perform preprocessing on the **X_train** and **X_test** using **StandardScaler()**\n",
    "\n",
    "It will scale the data values in such a way that the **mean is zero** and a **variance of one**"
   ]
  },
  {
   "cell_type": "code",
   "execution_count": 27,
   "metadata": {
    "execution": {
     "iopub.execute_input": "2021-05-30T15:02:28.290358Z",
     "iopub.status.busy": "2021-05-30T15:02:28.289951Z",
     "iopub.status.idle": "2021-05-30T15:02:28.307722Z",
     "shell.execute_reply": "2021-05-30T15:02:28.306533Z",
     "shell.execute_reply.started": "2021-05-30T15:02:28.290321Z"
    }
   },
   "outputs": [],
   "source": [
    "scaler=StandardScaler()\n",
    "\n",
    "X_train_scaled=scaler.fit_transform(X_train)\n",
    "X_test_scaled=scaler.transform(X_test)"
   ]
  },
  {
   "cell_type": "markdown",
   "metadata": {},
   "source": [
    "Since I am comparing three linear models namely **LinearRegression() Ridge() & Lasso()**, I will have to write the same codes again and again for individual linear models so I have used **functions** that would perform the same job for all three regression models to **ease** and **shorten** my work"
   ]
  },
  {
   "cell_type": "markdown",
   "metadata": {},
   "source": [
    "The function is used to fit the models in given linear model and return **training** and **testing** **scores**\n",
    "\n"
   ]
  },
  {
   "cell_type": "code",
   "execution_count": 28,
   "metadata": {
    "execution": {
     "iopub.execute_input": "2021-05-30T15:02:29.012942Z",
     "iopub.status.busy": "2021-05-30T15:02:29.012541Z",
     "iopub.status.idle": "2021-05-30T15:02:29.0223Z",
     "shell.execute_reply": "2021-05-30T15:02:29.020468Z",
     "shell.execute_reply.started": "2021-05-30T15:02:29.012908Z"
    }
   },
   "outputs": [],
   "source": [
    "#the function takes model, train & test split as an argument\n",
    "def fit_model_getScores(model,X_train,y_train,X_test,y_test):\n",
    "    #fit the model with training dataset\n",
    "    model.fit(X_train,y_train)\n",
    "    \n",
    "    #score the training data\n",
    "    train_score=model.score(X_train,y_train)\n",
    "    #score the test data\n",
    "    test_score=model.score(X_test,y_test)\n",
    "    \n",
    "    #Display the scores\n",
    "    print(\"Scores of {}\".format(model),\"\\n\")\n",
    "    print(\"Training Score:{:.2f}\".format(train_score))\n",
    "    print(\"Testing Score:{:.2f}\".format(test_score))"
   ]
  },
  {
   "cell_type": "markdown",
   "metadata": {},
   "source": [
    "The function given below will help return the **metrics** used for **evaluating linear models** & that includes **mse,mae,rmse,r2_score**"
   ]
  },
  {
   "cell_type": "markdown",
   "metadata": {},
   "source": []
  },
  {
   "cell_type": "code",
   "execution_count": 29,
   "metadata": {
    "execution": {
     "iopub.execute_input": "2021-05-30T15:02:29.66536Z",
     "iopub.status.busy": "2021-05-30T15:02:29.664966Z",
     "iopub.status.idle": "2021-05-30T15:02:29.672033Z",
     "shell.execute_reply": "2021-05-30T15:02:29.671127Z",
     "shell.execute_reply.started": "2021-05-30T15:02:29.665322Z"
    }
   },
   "outputs": [],
   "source": [
    "#function takes model,and test data split as an argument \n",
    "def get_metrics(model,X_test,y_test):\n",
    "    #calculate the predicted value of y \n",
    "    y_pred=model.predict(X_test)\n",
    "    mse=mean_squared_error(y_test,y_pred)#mse\n",
    "    r2__score=r2_score(y_test,y_pred)#r2_score\n",
    "    mae=mean_absolute_error(y_test,y_pred)#mae\n",
    "    rmse=mean_squared_error(y_test,y_pred,squared=False)#rmse\n",
    "    \n",
    "    #print the metrics \n",
    "    print(\"The Metrics for {}:\".format(model))\n",
    "    print(\"----------------------------\")\n",
    "    print(\"Mean Squared Error:{:.2f}\".format(mse))\n",
    "    print(\"Root Mean Squared Error:{:.2f}\".format(rmse))\n",
    "    print(\"Mean Absolute Error:{:.2f}\".format(mae))\n",
    "    print(\"r2_score:{:.2f}\".format(r2__score))\n"
   ]
  },
  {
   "cell_type": "markdown",
   "metadata": {},
   "source": [
    "This function will calculate the **coefficient** of a given **linear model** and will return the **series of coefficient** with **independent features(columns) as an index**.\n",
    "\n",
    "**Note**: In a linear model the **numbers(count) of coefficient** is always **equal** to **the number of independent features** present in the dataset "
   ]
  },
  {
   "cell_type": "code",
   "execution_count": 30,
   "metadata": {
    "execution": {
     "iopub.execute_input": "2021-05-30T15:02:29.917164Z",
     "iopub.status.busy": "2021-05-30T15:02:29.916646Z",
     "iopub.status.idle": "2021-05-30T15:02:29.92144Z",
     "shell.execute_reply": "2021-05-30T15:02:29.920659Z",
     "shell.execute_reply.started": "2021-05-30T15:02:29.917128Z"
    }
   },
   "outputs": [],
   "source": [
    "#the function takes model and independent dataframe as an argument\n",
    "def return_coef_series(model,X):\n",
    "    #it will give the coefficeint pertaining to a specific linear model\n",
    "    coef=model.coef_\n",
    "    \n",
    "    #make a series out of coefficient with columns of X as an index \n",
    "    coef_series=pd.Series(\n",
    "        data=coef,\n",
    "        index=X.columns\n",
    "    )\n",
    "    \n",
    "    #return the series\n",
    "    return coef_series\n",
    "    "
   ]
  },
  {
   "cell_type": "markdown",
   "metadata": {},
   "source": [
    "The **plot_coef**() will help **visualize** the **coefficient** of a particular **linear model**"
   ]
  },
  {
   "cell_type": "code",
   "execution_count": 31,
   "metadata": {
    "execution": {
     "iopub.execute_input": "2021-05-30T15:02:30.320438Z",
     "iopub.status.busy": "2021-05-30T15:02:30.319893Z",
     "iopub.status.idle": "2021-05-30T15:02:30.32493Z",
     "shell.execute_reply": "2021-05-30T15:02:30.324077Z",
     "shell.execute_reply.started": "2021-05-30T15:02:30.320402Z"
    }
   },
   "outputs": [],
   "source": [
    "#takes coefficient of linear_model as an argument\n",
    "def plot_coef(model_coef):\n",
    "    fig=plt.figure(figsize=(12,8))\n",
    "    model_coef.plot(\n",
    "        kind=\"bar\"\n",
    "    )\n",
    "    plt.xticks(rotation=90)"
   ]
  },
  {
   "cell_type": "markdown",
   "metadata": {},
   "source": [
    "The below given function is used to perform h**yper-parameter tuning** for **Ridge()** and **Lasso()** regression.\n",
    "\n",
    "**GridSearchCV** is used for **hypertuning** and return the **best parameters fitting the linear model.**"
   ]
  },
  {
   "cell_type": "markdown",
   "metadata": {},
   "source": []
  },
  {
   "cell_type": "code",
   "execution_count": 32,
   "metadata": {
    "execution": {
     "iopub.execute_input": "2021-05-30T15:02:30.970373Z",
     "iopub.status.busy": "2021-05-30T15:02:30.969827Z",
     "iopub.status.idle": "2021-05-30T15:02:30.975202Z",
     "shell.execute_reply": "2021-05-30T15:02:30.974257Z",
     "shell.execute_reply.started": "2021-05-30T15:02:30.970335Z"
    }
   },
   "outputs": [],
   "source": [
    "#takes model, user-defined hyper-parameters, train & test data splits as argument \n",
    "def gridSearch(model,params,X_train,y_train):\n",
    "    grid=GridSearchCV(\n",
    "        estimator=model,\n",
    "        param_grid=params,\n",
    "        cv=5\n",
    "    )\n",
    "    grid.fit(X_train,y_train)\n",
    "   \n",
    "    return grid.best_params_"
   ]
  },
  {
   "cell_type": "markdown",
   "metadata": {},
   "source": [
    "**BUILDING LINEAR MODELS**"
   ]
  },
  {
   "cell_type": "markdown",
   "metadata": {},
   "source": [
    "**1-LinearRegression() Model**\n",
    "\n",
    "**LinearRegression(aka ordinary least squares):** Simplest & most classic linear method for regression. It finds the parameters w & b that minimize the mean squard error between predicted value and true value.\n",
    "\n",
    "y=wx + b\n",
    "\n",
    "w->Weights associated with individual independent features(Slope of a line)\n",
    "\n",
    "b->y intercept\n",
    "\n"
   ]
  },
  {
   "cell_type": "code",
   "execution_count": 33,
   "metadata": {
    "execution": {
     "iopub.execute_input": "2021-05-30T15:02:31.371846Z",
     "iopub.status.busy": "2021-05-30T15:02:31.37144Z",
     "iopub.status.idle": "2021-05-30T15:02:31.375312Z",
     "shell.execute_reply": "2021-05-30T15:02:31.374419Z",
     "shell.execute_reply.started": "2021-05-30T15:02:31.371811Z"
    }
   },
   "outputs": [],
   "source": [
    "#initializing the model\n",
    "linear_model=LinearRegression()"
   ]
  },
  {
   "cell_type": "markdown",
   "metadata": {},
   "source": [
    "Lets fit the LinearRegression and fetch **training** and **testing** scores"
   ]
  },
  {
   "cell_type": "code",
   "execution_count": 34,
   "metadata": {
    "execution": {
     "iopub.execute_input": "2021-05-30T15:02:31.974981Z",
     "iopub.status.busy": "2021-05-30T15:02:31.97448Z",
     "iopub.status.idle": "2021-05-30T15:02:32.002838Z",
     "shell.execute_reply": "2021-05-30T15:02:32.000577Z",
     "shell.execute_reply.started": "2021-05-30T15:02:31.974948Z"
    }
   },
   "outputs": [
    {
     "name": "stdout",
     "output_type": "stream",
     "text": [
      "Scores of LinearRegression() \n",
      "\n",
      "Training Score:0.95\n",
      "Testing Score:0.89\n"
     ]
    }
   ],
   "source": [
    "fit_model_getScores(linear_model,\n",
    "                    X_train_scaled,y_train,\n",
    "                    X_test_scaled,y_test\n",
    "                   )"
   ]
  },
  {
   "cell_type": "markdown",
   "metadata": {},
   "source": [
    "Get the **metrics** to evaluate LinearRegression"
   ]
  },
  {
   "cell_type": "code",
   "execution_count": 35,
   "metadata": {
    "execution": {
     "iopub.execute_input": "2021-05-30T15:02:32.250082Z",
     "iopub.status.busy": "2021-05-30T15:02:32.249715Z",
     "iopub.status.idle": "2021-05-30T15:02:32.258692Z",
     "shell.execute_reply": "2021-05-30T15:02:32.257359Z",
     "shell.execute_reply.started": "2021-05-30T15:02:32.250051Z"
    }
   },
   "outputs": [
    {
     "name": "stdout",
     "output_type": "stream",
     "text": [
      "The Metrics for LinearRegression():\n",
      "----------------------------\n",
      "Mean Squared Error:8482008.48\n",
      "Root Mean Squared Error:2912.39\n",
      "Mean Absolute Error:2089.38\n",
      "r2_score:0.89\n"
     ]
    }
   ],
   "source": [
    "get_metrics(linear_model,\n",
    "            X_test_scaled,y_test\n",
    "           )"
   ]
  },
  {
   "cell_type": "markdown",
   "metadata": {},
   "source": [
    "The function **return_coef_series** will return the series of **coefficient** along with **features** as its **index**."
   ]
  },
  {
   "cell_type": "code",
   "execution_count": 36,
   "metadata": {
    "execution": {
     "iopub.execute_input": "2021-05-30T15:02:32.880139Z",
     "iopub.status.busy": "2021-05-30T15:02:32.879611Z",
     "iopub.status.idle": "2021-05-30T15:02:32.89156Z",
     "shell.execute_reply": "2021-05-30T15:02:32.890333Z",
     "shell.execute_reply.started": "2021-05-30T15:02:32.880088Z"
    }
   },
   "outputs": [
    {
     "data": {
      "text/plain": [
       "cylindernumber_four     -3.435686e+03\n",
       "cylindernumber_six      -2.430446e+03\n",
       "citympg                 -1.451442e+03\n",
       "cylindernumber_five     -1.410610e+03\n",
       "stroke                  -1.228048e+03\n",
       "carbody_hatchback       -1.213306e+03\n",
       "compressionratio        -1.050933e+03\n",
       "carbody_wagon           -1.033287e+03\n",
       "enginetype_ohcv         -1.018035e+03\n",
       "carlength               -9.896359e+02\n",
       "cylindernumber_twelve   -9.407505e+02\n",
       "carbody_sedan           -8.096386e+02\n",
       "fueltype_gas            -7.345397e+02\n",
       "carbody_hardtop         -6.523898e+02\n",
       "boreratio               -5.667758e+02\n",
       "enginetype_l            -5.223946e+02\n",
       "enginetype_dohcv        -4.499925e+02\n",
       "fuelsystem_spdi         -4.235337e+02\n",
       "fuelsystem_mfi          -2.108288e+02\n",
       "doornumber_two          -1.535763e+02\n",
       "drivewheel_fwd          -1.158464e+02\n",
       "fuelsystem_4bbl         -7.565888e+01\n",
       "fuelsystem_spfi         -3.942311e+01\n",
       "cylindernumber_three     3.979039e-13\n",
       "enginetype_rotor         3.790469e+00\n",
       "cylindernumber_two       3.790469e+00\n",
       "fuelsystem_2bbl          6.984852e+01\n",
       "horsepower               7.060068e+01\n",
       "fuelsystem_mpfi          1.160045e+02\n",
       "symboling                1.206925e+02\n",
       "enginetype_ohcf          1.504805e+02\n",
       "carheight                2.750156e+02\n",
       "drivewheel_rwd           4.140833e+02\n",
       "wheelbase                6.436797e+02\n",
       "aspiration_turbo         7.029353e+02\n",
       "fuelsystem_idi           7.345397e+02\n",
       "peakrpm                  9.718378e+02\n",
       "enginetype_ohc           1.000059e+03\n",
       "carwidth                 1.209908e+03\n",
       "highwaympg               1.245482e+03\n",
       "enginelocation_rear      1.450177e+03\n",
       "curbweight               1.925829e+03\n",
       "enginesize               4.998792e+03\n",
       "dtype: float64"
      ]
     },
     "execution_count": 36,
     "metadata": {},
     "output_type": "execute_result"
    }
   ],
   "source": [
    "linear_coef=return_coef_series(linear_model,X).sort_values()\n",
    "linear_coef"
   ]
  },
  {
   "cell_type": "markdown",
   "metadata": {},
   "source": [
    "Lets visualize the coefficient of LinearRegression() model"
   ]
  },
  {
   "cell_type": "code",
   "execution_count": 37,
   "metadata": {
    "execution": {
     "iopub.execute_input": "2021-05-30T15:02:33.124933Z",
     "iopub.status.busy": "2021-05-30T15:02:33.124391Z",
     "iopub.status.idle": "2021-05-30T15:02:33.681631Z",
     "shell.execute_reply": "2021-05-30T15:02:33.680784Z",
     "shell.execute_reply.started": "2021-05-30T15:02:33.124895Z"
    }
   },
   "outputs": [
    {
     "data": {
      "image/png": "[encoded data removed]",
      "text/plain": [
       "<Figure size 1200x800 with 1 Axes>"
      ]
     },
     "metadata": {},
     "output_type": "display_data"
    }
   ],
   "source": [
    "plot_coef(linear_coef)"
   ]
  },
  {
   "cell_type": "markdown",
   "metadata": {},
   "source": [
    "**2-Ridge():** It is a linear model which uses **L2 regularization** technique.\n",
    "\n",
    "**L2 Regularization:** Regularization techniques explicitly restricts a model to aviod overfitting.\n",
    "\n",
    "**LinearRegression()** does not allow us to control its complexity so its very likely that it will **overfit** the models when the dataset is **relatively small**.\n",
    "\n",
    "**l2 regularization** reduces the cofficient of the independent features to small magnitude as possible i.e all entries of **w should be close to zero**\n",
    "\n",
    "**Ridge** have **alpha parameter** which makes a trade-off between the simplicity of the model and its perfomance on training set & hence tuning it will yeild different model performance."
   ]
  },
  {
   "cell_type": "code",
   "execution_count": 38,
   "metadata": {
    "execution": {
     "iopub.execute_input": "2021-05-30T15:02:33.683967Z",
     "iopub.status.busy": "2021-05-30T15:02:33.683378Z",
     "iopub.status.idle": "2021-05-30T15:02:33.688465Z",
     "shell.execute_reply": "2021-05-30T15:02:33.687323Z",
     "shell.execute_reply.started": "2021-05-30T15:02:33.683928Z"
    }
   },
   "outputs": [],
   "source": [
    "ridge_model=Ridge()"
   ]
  },
  {
   "cell_type": "markdown",
   "metadata": {},
   "source": [
    "Lets perform Hyperparameter tuning and fit the ridge model with the best parameters generated by GridSeachCV hypertuning method"
   ]
  },
  {
   "cell_type": "markdown",
   "metadata": {},
   "source": [
    "GridSeachCV gave us **alpha=1** and **max_iter=1000** as the best parameters for the model"
   ]
  },
  {
   "cell_type": "code",
   "execution_count": 39,
   "metadata": {
    "execution": {
     "iopub.execute_input": "2021-05-30T15:02:34.618664Z",
     "iopub.status.busy": "2021-05-30T15:02:34.6183Z",
     "iopub.status.idle": "2021-05-30T15:02:35.159579Z",
     "shell.execute_reply": "2021-05-30T15:02:35.158346Z",
     "shell.execute_reply.started": "2021-05-30T15:02:34.618632Z"
    }
   },
   "outputs": [
    {
     "data": {
      "text/plain": [
       "{'alpha': 1, 'max_iter': 1000.0}"
      ]
     },
     "execution_count": 39,
     "metadata": {},
     "output_type": "execute_result"
    }
   ],
   "source": [
    "params={\n",
    "    \"alpha\":[1e-9,1e-6,1e-3,1,100,1000,10000],\n",
    "    \"max_iter\":[1e3,1e4,1e5,1e6]#maximum number of iterations to run\n",
    "}\n",
    "\n",
    "ridge_best_params=gridSearch(ridge_model,params,X_train_scaled,y_train)\n",
    "ridge_best_params"
   ]
  },
  {
   "cell_type": "markdown",
   "metadata": {},
   "source": [
    "Fit ridge model with best parameters"
   ]
  },
  {
   "cell_type": "code",
   "execution_count": 40,
   "metadata": {
    "execution": {
     "iopub.execute_input": "2021-05-30T15:02:35.169136Z",
     "iopub.status.busy": "2021-05-30T15:02:35.165826Z",
     "iopub.status.idle": "2021-05-30T15:02:35.177922Z",
     "shell.execute_reply": "2021-05-30T15:02:35.176178Z",
     "shell.execute_reply.started": "2021-05-30T15:02:35.169055Z"
    }
   },
   "outputs": [],
   "source": [
    "ridge1_model=Ridge(**ridge_best_params)"
   ]
  },
  {
   "cell_type": "markdown",
   "metadata": {},
   "source": [
    "Fit the ridge model and return the **test** and **train** scores\n",
    "\n",
    "Fitting the model we get scores equivalent to the LinearRegression()"
   ]
  },
  {
   "cell_type": "markdown",
   "metadata": {},
   "source": []
  },
  {
   "cell_type": "code",
   "execution_count": 41,
   "metadata": {
    "execution": {
     "iopub.execute_input": "2021-05-30T15:02:35.43053Z",
     "iopub.status.busy": "2021-05-30T15:02:35.430133Z",
     "iopub.status.idle": "2021-05-30T15:02:35.444419Z",
     "shell.execute_reply": "2021-05-30T15:02:35.443291Z",
     "shell.execute_reply.started": "2021-05-30T15:02:35.430494Z"
    }
   },
   "outputs": [
    {
     "name": "stdout",
     "output_type": "stream",
     "text": [
      "Scores of Ridge(alpha=1, max_iter=1000.0) \n",
      "\n",
      "Training Score:0.95\n",
      "Testing Score:0.89\n"
     ]
    }
   ],
   "source": [
    "fit_model_getScores(ridge1_model,\n",
    "                    X_train_scaled,y_train,\n",
    "                    X_test_scaled,y_test\n",
    "                   )"
   ]
  },
  {
   "cell_type": "markdown",
   "metadata": {},
   "source": [
    "Get the metrics to evaluate ridge model"
   ]
  },
  {
   "cell_type": "code",
   "execution_count": 42,
   "metadata": {
    "execution": {
     "iopub.execute_input": "2021-05-30T15:02:36.075685Z",
     "iopub.status.busy": "2021-05-30T15:02:36.075322Z",
     "iopub.status.idle": "2021-05-30T15:02:36.084313Z",
     "shell.execute_reply": "2021-05-30T15:02:36.083104Z",
     "shell.execute_reply.started": "2021-05-30T15:02:36.075653Z"
    }
   },
   "outputs": [
    {
     "name": "stdout",
     "output_type": "stream",
     "text": [
      "The Metrics for Ridge(alpha=1, max_iter=1000.0):\n",
      "----------------------------\n",
      "Mean Squared Error:8998554.91\n",
      "Root Mean Squared Error:2999.76\n",
      "Mean Absolute Error:2104.38\n",
      "r2_score:0.89\n"
     ]
    }
   ],
   "source": [
    "get_metrics(ridge1_model,\n",
    "            X_test_scaled,y_test\n",
    "           )"
   ]
  },
  {
   "cell_type": "markdown",
   "metadata": {},
   "source": [
    "Get the coefficeint series of ridge model\n",
    "\n",
    "From the values returned in series, we can see that the **coefficients** have been **reduced** to the fractions of its original value.\n",
    "\n",
    "**L2 regularization** technique in Ridge reduces the coefficient the features **as close to zero.**\n"
   ]
  },
  {
   "cell_type": "markdown",
   "metadata": {},
   "source": []
  },
  {
   "cell_type": "code",
   "execution_count": 43,
   "metadata": {
    "execution": {
     "iopub.execute_input": "2021-05-30T15:02:36.727504Z",
     "iopub.status.busy": "2021-05-30T15:02:36.727084Z",
     "iopub.status.idle": "2021-05-30T15:02:36.737039Z",
     "shell.execute_reply": "2021-05-30T15:02:36.735875Z",
     "shell.execute_reply.started": "2021-05-30T15:02:36.727465Z"
    }
   },
   "outputs": [
    {
     "data": {
      "text/plain": [
       "cylindernumber_four     -2736.884258\n",
       "cylindernumber_six      -1996.504245\n",
       "carbody_hatchback       -1184.197681\n",
       "stroke                  -1176.472164\n",
       "cylindernumber_five     -1113.246884\n",
       "carbody_wagon            -984.618424\n",
       "citympg                  -957.255446\n",
       "carlength                -935.891048\n",
       "cylindernumber_twelve    -878.150089\n",
       "enginetype_ohcv          -838.829223\n",
       "carbody_sedan            -706.976155\n",
       "compressionratio         -630.934737\n",
       "carbody_hardtop          -605.228562\n",
       "enginetype_l             -586.918819\n",
       "boreratio                -568.334137\n",
       "fueltype_gas             -477.024836\n",
       "fuelsystem_spdi          -416.691487\n",
       "enginetype_dohcv         -319.679379\n",
       "fuelsystem_mfi           -218.312850\n",
       "doornumber_two           -128.609039\n",
       "drivewheel_fwd           -124.551536\n",
       "fuelsystem_4bbl          -101.644272\n",
       "fuelsystem_spfi           -67.405985\n",
       "fuelsystem_mpfi           -14.645269\n",
       "cylindernumber_three        0.000000\n",
       "fuelsystem_2bbl             5.196358\n",
       "enginetype_ohcf            77.077992\n",
       "cylindernumber_two         90.100488\n",
       "enginetype_rotor           90.100488\n",
       "symboling                 191.588614\n",
       "carheight                 236.927621\n",
       "horsepower                258.663991\n",
       "drivewheel_rwd            420.840821\n",
       "fuelsystem_idi            477.024836\n",
       "aspiration_turbo          615.426719\n",
       "highwaympg                674.781406\n",
       "wheelbase                 737.152789\n",
       "peakrpm                   812.500756\n",
       "enginetype_ohc            939.733709\n",
       "carwidth                 1273.404582\n",
       "enginelocation_rear      1562.583944\n",
       "curbweight               1871.067811\n",
       "enginesize               4714.864044\n",
       "dtype: float64"
      ]
     },
     "execution_count": 43,
     "metadata": {},
     "output_type": "execute_result"
    }
   ],
   "source": [
    "ridge_coef=return_coef_series(ridge1_model,X).sort_values()\n",
    "ridge_coef"
   ]
  },
  {
   "cell_type": "markdown",
   "metadata": {},
   "source": [
    "Visualize the coefficient series of ridge model\n",
    "\n",
    "We can see that the upper & lower x-limmits have been reduced."
   ]
  },
  {
   "cell_type": "markdown",
   "metadata": {},
   "source": []
  },
  {
   "cell_type": "code",
   "execution_count": 44,
   "metadata": {
    "execution": {
     "iopub.execute_input": "2021-05-30T15:02:37.420471Z",
     "iopub.status.busy": "2021-05-30T15:02:37.420066Z",
     "iopub.status.idle": "2021-05-30T15:02:38.20084Z",
     "shell.execute_reply": "2021-05-30T15:02:38.199694Z",
     "shell.execute_reply.started": "2021-05-30T15:02:37.420433Z"
    }
   },
   "outputs": [
    {
     "data": {
      "image/png": "[encoded data removed]",
      "text/plain": [
       "<Figure size 1200x800 with 1 Axes>"
      ]
     },
     "metadata": {},
     "output_type": "display_data"
    }
   ],
   "source": [
    "plot_coef(ridge_coef)"
   ]
  },
  {
   "cell_type": "markdown",
   "metadata": {
    "execution": {
     "iopub.execute_input": "2021-05-30T09:04:06.840528Z",
     "iopub.status.busy": "2021-05-30T09:04:06.840186Z",
     "iopub.status.idle": "2021-05-30T09:04:06.845909Z",
     "shell.execute_reply": "2021-05-30T09:04:06.844644Z",
     "shell.execute_reply.started": "2021-05-30T09:04:06.840499Z"
    }
   },
   "source": [
    "**3-Lasso():** It is a linear model which uses **L1 regularization** technique.\n",
    "\n",
    "**l1 regularization** also reduces the coefficient magnitude however unlike Ridge it **reduces magnitude of some of the features to zero**. Hence it **neglects** some of the features completely.\n",
    "\n",
    "Hence it is also used for **automatic feature selection** as it ignores some of the features.\n",
    "\n",
    "**Lasso** also have **alpha parameter** which makes a trade-off between the simplicity of the model and its perfomance on training set & hence tuning it will yeild different model performance."
   ]
  },
  {
   "cell_type": "code",
   "execution_count": 45,
   "metadata": {
    "execution": {
     "iopub.execute_input": "2021-05-30T15:02:40.360075Z",
     "iopub.status.busy": "2021-05-30T15:02:40.359713Z",
     "iopub.status.idle": "2021-05-30T15:02:40.365924Z",
     "shell.execute_reply": "2021-05-30T15:02:40.364667Z",
     "shell.execute_reply.started": "2021-05-30T15:02:40.360043Z"
    }
   },
   "outputs": [],
   "source": [
    "lasso_model=Lasso()"
   ]
  },
  {
   "cell_type": "markdown",
   "metadata": {},
   "source": [
    "We got **alpha=100** & **max_iter=1000** for the lasso model \n",
    "\n"
   ]
  },
  {
   "cell_type": "code",
   "execution_count": 46,
   "metadata": {
    "execution": {
     "iopub.execute_input": "2021-05-30T15:02:42.348284Z",
     "iopub.status.busy": "2021-05-30T15:02:42.347868Z",
     "iopub.status.idle": "2021-05-30T15:03:22.445346Z",
     "shell.execute_reply": "2021-05-30T15:03:22.444343Z",
     "shell.execute_reply.started": "2021-05-30T15:02:42.34822Z"
    }
   },
   "outputs": [
    {
     "data": {
      "text/plain": [
       "{'alpha': 100, 'max_iter': 1000.0}"
      ]
     },
     "execution_count": 46,
     "metadata": {},
     "output_type": "execute_result"
    }
   ],
   "source": [
    "params={\n",
    "    \"alpha\":[1e-9,1e-6,1e-3,1,100,1000,10000],\n",
    "    \"max_iter\":[1e3,1e4,1e5,1e6]#maximum number of iterations to run\n",
    "}\n",
    "\n",
    "lasso_best_params=gridSearch(lasso_model,params,X_train_scaled,y_train)\n",
    "lasso_best_params"
   ]
  },
  {
   "cell_type": "markdown",
   "metadata": {},
   "source": [
    "Lets try fitting the Lasso model using the parameters that have been returned from Hypertuning"
   ]
  },
  {
   "cell_type": "code",
   "execution_count": 47,
   "metadata": {
    "execution": {
     "iopub.execute_input": "2021-05-30T15:03:22.447139Z",
     "iopub.status.busy": "2021-05-30T15:03:22.446824Z",
     "iopub.status.idle": "2021-05-30T15:03:22.451443Z",
     "shell.execute_reply": "2021-05-30T15:03:22.450357Z",
     "shell.execute_reply.started": "2021-05-30T15:03:22.44711Z"
    }
   },
   "outputs": [],
   "source": [
    "lasso1_model=Lasso(**lasso_best_params)"
   ]
  },
  {
   "cell_type": "markdown",
   "metadata": {},
   "source": [
    "The scores are **93% for training set** and **86% for testing set** which is better generalized model than the above two models i.e LinearRegression() & Ridge()"
   ]
  },
  {
   "cell_type": "code",
   "execution_count": 48,
   "metadata": {
    "execution": {
     "iopub.execute_input": "2021-05-30T15:03:22.453759Z",
     "iopub.status.busy": "2021-05-30T15:03:22.453435Z",
     "iopub.status.idle": "2021-05-30T15:03:22.472772Z",
     "shell.execute_reply": "2021-05-30T15:03:22.47154Z",
     "shell.execute_reply.started": "2021-05-30T15:03:22.453727Z"
    }
   },
   "outputs": [
    {
     "name": "stdout",
     "output_type": "stream",
     "text": [
      "Scores of Lasso(alpha=100, max_iter=1000.0) \n",
      "\n",
      "Training Score:0.93\n",
      "Testing Score:0.86\n"
     ]
    }
   ],
   "source": [
    "fit_model_getScores(lasso1_model,\n",
    "                    X_train_scaled,y_train,\n",
    "                    X_test_scaled,y_test\n",
    "                   )"
   ]
  },
  {
   "cell_type": "markdown",
   "metadata": {},
   "source": [
    "Print the metrics of lasso model"
   ]
  },
  {
   "cell_type": "code",
   "execution_count": 49,
   "metadata": {
    "execution": {
     "iopub.execute_input": "2021-05-30T15:03:22.474906Z",
     "iopub.status.busy": "2021-05-30T15:03:22.474508Z",
     "iopub.status.idle": "2021-05-30T15:03:22.48359Z",
     "shell.execute_reply": "2021-05-30T15:03:22.482322Z",
     "shell.execute_reply.started": "2021-05-30T15:03:22.474872Z"
    }
   },
   "outputs": [
    {
     "name": "stdout",
     "output_type": "stream",
     "text": [
      "The Metrics for Lasso(alpha=100, max_iter=1000.0):\n",
      "----------------------------\n",
      "Mean Squared Error:10833614.66\n",
      "Root Mean Squared Error:3291.45\n",
      "Mean Absolute Error:2220.73\n",
      "r2_score:0.86\n"
     ]
    }
   ],
   "source": [
    "get_metrics(lasso1_model,\n",
    "            X_test_scaled,y_test\n",
    "           )"
   ]
  },
  {
   "cell_type": "markdown",
   "metadata": {},
   "source": [
    "Lets see the magnitude of coefficients returned by the lasso model.\n",
    "\n",
    "This is where it gets very intresting we can see that there are many features whose cofficients are reduced to zero. It means that the Lasso model have completely ignored those features with coefficients equals to zero while fitting the model."
   ]
  },
  {
   "cell_type": "code",
   "execution_count": 50,
   "metadata": {
    "execution": {
     "iopub.execute_input": "2021-05-30T15:03:22.486383Z",
     "iopub.status.busy": "2021-05-30T15:03:22.485733Z",
     "iopub.status.idle": "2021-05-30T15:03:22.498809Z",
     "shell.execute_reply": "2021-05-30T15:03:22.497821Z",
     "shell.execute_reply.started": "2021-05-30T15:03:22.486334Z"
    }
   },
   "outputs": [
    {
     "data": {
      "text/plain": [
       "cylindernumber_four      -909.085576\n",
       "stroke                   -907.851768\n",
       "carbody_wagon            -487.562265\n",
       "cylindernumber_twelve    -474.381729\n",
       "carbody_hatchback        -464.408323\n",
       "cylindernumber_six       -425.877744\n",
       "enginetype_l             -402.126046\n",
       "enginetype_ohcv          -319.794587\n",
       "fuelsystem_spdi          -164.097286\n",
       "boreratio                -116.962730\n",
       "carbody_hardtop          -109.724454\n",
       "fuelsystem_mfi            -78.165520\n",
       "fuelsystem_2bbl           -68.385816\n",
       "enginetype_ohcf            -0.000000\n",
       "symboling                   0.000000\n",
       "fuelsystem_4bbl             0.000000\n",
       "fuelsystem_idi              0.000000\n",
       "fuelsystem_mpfi             0.000000\n",
       "cylindernumber_five        -0.000000\n",
       "cylindernumber_three        0.000000\n",
       "drivewheel_fwd             -0.000000\n",
       "doornumber_two              0.000000\n",
       "carlength                  -0.000000\n",
       "compressionratio            0.000000\n",
       "horsepower                  0.000000\n",
       "carbody_sedan               0.000000\n",
       "citympg                    -0.000000\n",
       "highwaympg                 -0.000000\n",
       "fuelsystem_spfi            -0.000000\n",
       "fueltype_gas               -0.000000\n",
       "cylindernumber_two          7.240537\n",
       "wheelbase                  19.348435\n",
       "enginetype_dohcv           29.460838\n",
       "carheight                 123.606775\n",
       "aspiration_turbo          446.239297\n",
       "drivewheel_rwd            527.446873\n",
       "enginetype_rotor          541.205724\n",
       "enginetype_ohc            567.186284\n",
       "peakrpm                   596.898960\n",
       "carwidth                 1364.529247\n",
       "curbweight               1488.699859\n",
       "enginelocation_rear      1515.819696\n",
       "enginesize               4339.849089\n",
       "dtype: float64"
      ]
     },
     "execution_count": 50,
     "metadata": {},
     "output_type": "execute_result"
    }
   ],
   "source": [
    "lasso_coef=return_coef_series(lasso1_model,X).sort_values()\n",
    "lasso_coef"
   ]
  },
  {
   "cell_type": "markdown",
   "metadata": {},
   "source": [
    "Lets create Dataframe that stores the features with its corresponding coefficient values"
   ]
  },
  {
   "cell_type": "code",
   "execution_count": 51,
   "metadata": {
    "execution": {
     "iopub.execute_input": "2021-05-30T15:03:22.500599Z",
     "iopub.status.busy": "2021-05-30T15:03:22.500198Z",
     "iopub.status.idle": "2021-05-30T15:03:22.521669Z",
     "shell.execute_reply": "2021-05-30T15:03:22.520761Z",
     "shell.execute_reply.started": "2021-05-30T15:03:22.50051Z"
    }
   },
   "outputs": [
    {
     "data": {
      "text/html": [
       "<div>\n",
       "<style scoped>\n",
       "    .dataframe tbody tr th:only-of-type {\n",
       "        vertical-align: middle;\n",
       "    }\n",
       "\n",
       "    .dataframe tbody tr th {\n",
       "        vertical-align: top;\n",
       "    }\n",
       "\n",
       "    .dataframe thead th {\n",
       "        text-align: right;\n",
       "    }\n",
       "</style>\n",
       "<table border=\"1\" class=\"dataframe\">\n",
       "  <thead>\n",
       "    <tr style=\"text-align: right;\">\n",
       "      <th></th>\n",
       "      <th>Coefficient</th>\n",
       "    </tr>\n",
       "  </thead>\n",
       "  <tbody>\n",
       "    <tr>\n",
       "      <th>cylindernumber_four</th>\n",
       "      <td>-909.085576</td>\n",
       "    </tr>\n",
       "    <tr>\n",
       "      <th>stroke</th>\n",
       "      <td>-907.851768</td>\n",
       "    </tr>\n",
       "    <tr>\n",
       "      <th>carbody_wagon</th>\n",
       "      <td>-487.562265</td>\n",
       "    </tr>\n",
       "    <tr>\n",
       "      <th>cylindernumber_twelve</th>\n",
       "      <td>-474.381729</td>\n",
       "    </tr>\n",
       "    <tr>\n",
       "      <th>carbody_hatchback</th>\n",
       "      <td>-464.408323</td>\n",
       "    </tr>\n",
       "    <tr>\n",
       "      <th>cylindernumber_six</th>\n",
       "      <td>-425.877744</td>\n",
       "    </tr>\n",
       "    <tr>\n",
       "      <th>enginetype_l</th>\n",
       "      <td>-402.126046</td>\n",
       "    </tr>\n",
       "    <tr>\n",
       "      <th>enginetype_ohcv</th>\n",
       "      <td>-319.794587</td>\n",
       "    </tr>\n",
       "    <tr>\n",
       "      <th>fuelsystem_spdi</th>\n",
       "      <td>-164.097286</td>\n",
       "    </tr>\n",
       "    <tr>\n",
       "      <th>boreratio</th>\n",
       "      <td>-116.962730</td>\n",
       "    </tr>\n",
       "    <tr>\n",
       "      <th>carbody_hardtop</th>\n",
       "      <td>-109.724454</td>\n",
       "    </tr>\n",
       "    <tr>\n",
       "      <th>fuelsystem_mfi</th>\n",
       "      <td>-78.165520</td>\n",
       "    </tr>\n",
       "    <tr>\n",
       "      <th>fuelsystem_2bbl</th>\n",
       "      <td>-68.385816</td>\n",
       "    </tr>\n",
       "    <tr>\n",
       "      <th>enginetype_ohcf</th>\n",
       "      <td>-0.000000</td>\n",
       "    </tr>\n",
       "    <tr>\n",
       "      <th>symboling</th>\n",
       "      <td>0.000000</td>\n",
       "    </tr>\n",
       "    <tr>\n",
       "      <th>fuelsystem_4bbl</th>\n",
       "      <td>0.000000</td>\n",
       "    </tr>\n",
       "    <tr>\n",
       "      <th>fuelsystem_idi</th>\n",
       "      <td>0.000000</td>\n",
       "    </tr>\n",
       "    <tr>\n",
       "      <th>fuelsystem_mpfi</th>\n",
       "      <td>0.000000</td>\n",
       "    </tr>\n",
       "    <tr>\n",
       "      <th>cylindernumber_five</th>\n",
       "      <td>-0.000000</td>\n",
       "    </tr>\n",
       "    <tr>\n",
       "      <th>cylindernumber_three</th>\n",
       "      <td>0.000000</td>\n",
       "    </tr>\n",
       "    <tr>\n",
       "      <th>drivewheel_fwd</th>\n",
       "      <td>-0.000000</td>\n",
       "    </tr>\n",
       "    <tr>\n",
       "      <th>doornumber_two</th>\n",
       "      <td>0.000000</td>\n",
       "    </tr>\n",
       "    <tr>\n",
       "      <th>carlength</th>\n",
       "      <td>-0.000000</td>\n",
       "    </tr>\n",
       "    <tr>\n",
       "      <th>compressionratio</th>\n",
       "      <td>0.000000</td>\n",
       "    </tr>\n",
       "    <tr>\n",
       "      <th>horsepower</th>\n",
       "      <td>0.000000</td>\n",
       "    </tr>\n",
       "    <tr>\n",
       "      <th>carbody_sedan</th>\n",
       "      <td>0.000000</td>\n",
       "    </tr>\n",
       "    <tr>\n",
       "      <th>citympg</th>\n",
       "      <td>-0.000000</td>\n",
       "    </tr>\n",
       "    <tr>\n",
       "      <th>highwaympg</th>\n",
       "      <td>-0.000000</td>\n",
       "    </tr>\n",
       "    <tr>\n",
       "      <th>fuelsystem_spfi</th>\n",
       "      <td>-0.000000</td>\n",
       "    </tr>\n",
       "    <tr>\n",
       "      <th>fueltype_gas</th>\n",
       "      <td>-0.000000</td>\n",
       "    </tr>\n",
       "    <tr>\n",
       "      <th>cylindernumber_two</th>\n",
       "      <td>7.240537</td>\n",
       "    </tr>\n",
       "    <tr>\n",
       "      <th>wheelbase</th>\n",
       "      <td>19.348435</td>\n",
       "    </tr>\n",
       "    <tr>\n",
       "      <th>enginetype_dohcv</th>\n",
       "      <td>29.460838</td>\n",
       "    </tr>\n",
       "    <tr>\n",
       "      <th>carheight</th>\n",
       "      <td>123.606775</td>\n",
       "    </tr>\n",
       "    <tr>\n",
       "      <th>aspiration_turbo</th>\n",
       "      <td>446.239297</td>\n",
       "    </tr>\n",
       "    <tr>\n",
       "      <th>drivewheel_rwd</th>\n",
       "      <td>527.446873</td>\n",
       "    </tr>\n",
       "    <tr>\n",
       "      <th>enginetype_rotor</th>\n",
       "      <td>541.205724</td>\n",
       "    </tr>\n",
       "    <tr>\n",
       "      <th>enginetype_ohc</th>\n",
       "      <td>567.186284</td>\n",
       "    </tr>\n",
       "    <tr>\n",
       "      <th>peakrpm</th>\n",
       "      <td>596.898960</td>\n",
       "    </tr>\n",
       "    <tr>\n",
       "      <th>carwidth</th>\n",
       "      <td>1364.529247</td>\n",
       "    </tr>\n",
       "    <tr>\n",
       "      <th>curbweight</th>\n",
       "      <td>1488.699859</td>\n",
       "    </tr>\n",
       "    <tr>\n",
       "      <th>enginelocation_rear</th>\n",
       "      <td>1515.819696</td>\n",
       "    </tr>\n",
       "    <tr>\n",
       "      <th>enginesize</th>\n",
       "      <td>4339.849089</td>\n",
       "    </tr>\n",
       "  </tbody>\n",
       "</table>\n",
       "</div>"
      ],
      "text/plain": [
       "                       Coefficient\n",
       "cylindernumber_four    -909.085576\n",
       "stroke                 -907.851768\n",
       "carbody_wagon          -487.562265\n",
       "cylindernumber_twelve  -474.381729\n",
       "carbody_hatchback      -464.408323\n",
       "cylindernumber_six     -425.877744\n",
       "enginetype_l           -402.126046\n",
       "enginetype_ohcv        -319.794587\n",
       "fuelsystem_spdi        -164.097286\n",
       "boreratio              -116.962730\n",
       "carbody_hardtop        -109.724454\n",
       "fuelsystem_mfi          -78.165520\n",
       "fuelsystem_2bbl         -68.385816\n",
       "enginetype_ohcf          -0.000000\n",
       "symboling                 0.000000\n",
       "fuelsystem_4bbl           0.000000\n",
       "fuelsystem_idi            0.000000\n",
       "fuelsystem_mpfi           0.000000\n",
       "cylindernumber_five      -0.000000\n",
       "cylindernumber_three      0.000000\n",
       "drivewheel_fwd           -0.000000\n",
       "doornumber_two            0.000000\n",
       "carlength                -0.000000\n",
       "compressionratio          0.000000\n",
       "horsepower                0.000000\n",
       "carbody_sedan             0.000000\n",
       "citympg                  -0.000000\n",
       "highwaympg               -0.000000\n",
       "fuelsystem_spfi          -0.000000\n",
       "fueltype_gas             -0.000000\n",
       "cylindernumber_two        7.240537\n",
       "wheelbase                19.348435\n",
       "enginetype_dohcv         29.460838\n",
       "carheight               123.606775\n",
       "aspiration_turbo        446.239297\n",
       "drivewheel_rwd          527.446873\n",
       "enginetype_rotor        541.205724\n",
       "enginetype_ohc          567.186284\n",
       "peakrpm                 596.898960\n",
       "carwidth               1364.529247\n",
       "curbweight             1488.699859\n",
       "enginelocation_rear    1515.819696\n",
       "enginesize             4339.849089"
      ]
     },
     "execution_count": 51,
     "metadata": {},
     "output_type": "execute_result"
    }
   ],
   "source": [
    "lasso_coef_df=pd.DataFrame(\n",
    "    data=lasso_coef,\n",
    "    columns=[\"Coefficient\"]\n",
    ")\n",
    "lasso_coef_df"
   ]
  },
  {
   "cell_type": "markdown",
   "metadata": {},
   "source": [
    "Lets us see how many features have been used in the model and how many have been neglected by the Lasso model"
   ]
  },
  {
   "cell_type": "markdown",
   "metadata": {},
   "source": []
  },
  {
   "cell_type": "markdown",
   "metadata": {},
   "source": [
    "The dataframes below shows the features as an indexes whose coefficient has been reduced to zero and are completely neglected by the Lasso model"
   ]
  },
  {
   "cell_type": "code",
   "execution_count": 52,
   "metadata": {
    "execution": {
     "iopub.execute_input": "2021-05-30T15:03:22.523457Z",
     "iopub.status.busy": "2021-05-30T15:03:22.522907Z",
     "iopub.status.idle": "2021-05-30T15:03:22.544683Z",
     "shell.execute_reply": "2021-05-30T15:03:22.543545Z",
     "shell.execute_reply.started": "2021-05-30T15:03:22.523403Z"
    }
   },
   "outputs": [
    {
     "data": {
      "text/html": [
       "<div>\n",
       "<style scoped>\n",
       "    .dataframe tbody tr th:only-of-type {\n",
       "        vertical-align: middle;\n",
       "    }\n",
       "\n",
       "    .dataframe tbody tr th {\n",
       "        vertical-align: top;\n",
       "    }\n",
       "\n",
       "    .dataframe thead th {\n",
       "        text-align: right;\n",
       "    }\n",
       "</style>\n",
       "<table border=\"1\" class=\"dataframe\">\n",
       "  <thead>\n",
       "    <tr style=\"text-align: right;\">\n",
       "      <th></th>\n",
       "      <th>Coefficient</th>\n",
       "    </tr>\n",
       "  </thead>\n",
       "  <tbody>\n",
       "    <tr>\n",
       "      <th>enginetype_ohcf</th>\n",
       "      <td>-0.0</td>\n",
       "    </tr>\n",
       "    <tr>\n",
       "      <th>symboling</th>\n",
       "      <td>0.0</td>\n",
       "    </tr>\n",
       "    <tr>\n",
       "      <th>fuelsystem_4bbl</th>\n",
       "      <td>0.0</td>\n",
       "    </tr>\n",
       "    <tr>\n",
       "      <th>fuelsystem_idi</th>\n",
       "      <td>0.0</td>\n",
       "    </tr>\n",
       "    <tr>\n",
       "      <th>fuelsystem_mpfi</th>\n",
       "      <td>0.0</td>\n",
       "    </tr>\n",
       "    <tr>\n",
       "      <th>cylindernumber_five</th>\n",
       "      <td>-0.0</td>\n",
       "    </tr>\n",
       "    <tr>\n",
       "      <th>cylindernumber_three</th>\n",
       "      <td>0.0</td>\n",
       "    </tr>\n",
       "    <tr>\n",
       "      <th>drivewheel_fwd</th>\n",
       "      <td>-0.0</td>\n",
       "    </tr>\n",
       "    <tr>\n",
       "      <th>doornumber_two</th>\n",
       "      <td>0.0</td>\n",
       "    </tr>\n",
       "    <tr>\n",
       "      <th>carlength</th>\n",
       "      <td>-0.0</td>\n",
       "    </tr>\n",
       "    <tr>\n",
       "      <th>compressionratio</th>\n",
       "      <td>0.0</td>\n",
       "    </tr>\n",
       "    <tr>\n",
       "      <th>horsepower</th>\n",
       "      <td>0.0</td>\n",
       "    </tr>\n",
       "    <tr>\n",
       "      <th>carbody_sedan</th>\n",
       "      <td>0.0</td>\n",
       "    </tr>\n",
       "    <tr>\n",
       "      <th>citympg</th>\n",
       "      <td>-0.0</td>\n",
       "    </tr>\n",
       "    <tr>\n",
       "      <th>highwaympg</th>\n",
       "      <td>-0.0</td>\n",
       "    </tr>\n",
       "    <tr>\n",
       "      <th>fuelsystem_spfi</th>\n",
       "      <td>-0.0</td>\n",
       "    </tr>\n",
       "    <tr>\n",
       "      <th>fueltype_gas</th>\n",
       "      <td>-0.0</td>\n",
       "    </tr>\n",
       "  </tbody>\n",
       "</table>\n",
       "</div>"
      ],
      "text/plain": [
       "                      Coefficient\n",
       "enginetype_ohcf              -0.0\n",
       "symboling                     0.0\n",
       "fuelsystem_4bbl               0.0\n",
       "fuelsystem_idi                0.0\n",
       "fuelsystem_mpfi               0.0\n",
       "cylindernumber_five          -0.0\n",
       "cylindernumber_three          0.0\n",
       "drivewheel_fwd               -0.0\n",
       "doornumber_two                0.0\n",
       "carlength                    -0.0\n",
       "compressionratio              0.0\n",
       "horsepower                    0.0\n",
       "carbody_sedan                 0.0\n",
       "citympg                      -0.0\n",
       "highwaympg                   -0.0\n",
       "fuelsystem_spfi              -0.0\n",
       "fueltype_gas                 -0.0"
      ]
     },
     "execution_count": 52,
     "metadata": {},
     "output_type": "execute_result"
    }
   ],
   "source": [
    "features_used=lasso_coef_df[lasso_coef_df[\"Coefficient\"]==0]\n",
    "features_used"
   ]
  },
  {
   "cell_type": "markdown",
   "metadata": {},
   "source": []
  },
  {
   "cell_type": "markdown",
   "metadata": {},
   "source": [
    "Lasso model have used 26 features out of 43 and have neglected 17 features"
   ]
  },
  {
   "cell_type": "code",
   "execution_count": 53,
   "metadata": {
    "execution": {
     "iopub.execute_input": "2021-05-30T15:03:22.546954Z",
     "iopub.status.busy": "2021-05-30T15:03:22.546634Z",
     "iopub.status.idle": "2021-05-30T15:03:22.5644Z",
     "shell.execute_reply": "2021-05-30T15:03:22.56274Z",
     "shell.execute_reply.started": "2021-05-30T15:03:22.546921Z"
    }
   },
   "outputs": [
    {
     "name": "stdout",
     "output_type": "stream",
     "text": [
      "Total Features:43\n",
      "Features Neglected:17\n",
      "Features Used:26\n"
     ]
    }
   ],
   "source": [
    "print(\"Total Features:{}\".format(X.shape[1]))\n",
    "print(\"Features Neglected:{}\".format(features_used.shape[0]))\n",
    "print(\"Features Used:{}\".format(X.shape[1]-features_used.shape[0]))"
   ]
  },
  {
   "cell_type": "markdown",
   "metadata": {},
   "source": [
    "Its is very clear from the plot that many of the features are neglected and its bar are being reduced to 0 magnitude, and hence lasso is moslty used for automatic feature selection."
   ]
  },
  {
   "cell_type": "code",
   "execution_count": 54,
   "metadata": {
    "execution": {
     "iopub.execute_input": "2021-05-30T15:03:22.566805Z",
     "iopub.status.busy": "2021-05-30T15:03:22.566264Z",
     "iopub.status.idle": "2021-05-30T15:03:23.077683Z",
     "shell.execute_reply": "2021-05-30T15:03:23.076618Z",
     "shell.execute_reply.started": "2021-05-30T15:03:22.566753Z"
    }
   },
   "outputs": [
    {
     "data": {
      "image/png": "[encoded data removed]",
      "text/plain": [
       "<Figure size 1200x800 with 1 Axes>"
      ]
     },
     "metadata": {},
     "output_type": "display_data"
    }
   ],
   "source": [
    "plot_coef(lasso_coef)"
   ]
  },
  {
   "cell_type": "markdown",
   "metadata": {},
   "source": [
    "**Comparison between the three Linear Models:**\n",
    "\n",
    "* From the plot below comparing the coefficient of independent features, its clear that **LinearRegression()** model have most coefficients nonzero and are of large magnitude and most of its values are out of y-lim, Which are represented by blue square blocks.\n",
    "\n",
    "* The **Ridge()** model however have the coefficents whose magnitude are smaller and are close to zero, which are represented with orange **'^'**.\n",
    "\n",
    "* Comming to **Lasso()** model most of its values are lying either on the horizotal line and few which are very close to horizontal line, owing to its smaller magnitude represented by green **'v'**"
   ]
  },
  {
   "cell_type": "code",
   "execution_count": 55,
   "metadata": {
    "execution": {
     "iopub.execute_input": "2021-05-30T15:12:07.991639Z",
     "iopub.status.busy": "2021-05-30T15:12:07.991264Z",
     "iopub.status.idle": "2021-05-30T15:12:08.57333Z",
     "shell.execute_reply": "2021-05-30T15:12:08.572208Z",
     "shell.execute_reply.started": "2021-05-30T15:12:07.991607Z"
    }
   },
   "outputs": [
    {
     "data": {
      "image/png": "[encoded data removed]",
      "text/plain": [
       "<Figure size 1200x700 with 1 Axes>"
      ]
     },
     "metadata": {},
     "output_type": "display_data"
    }
   ],
   "source": [
    "#specify the figure & size\n",
    "fig=plt.figure(figsize=(12,7))\n",
    "\n",
    "#plot the coefficient of individual linear models\n",
    "plt.plot(linear_model.coef_,'s',label=\"Linear Regression\")\n",
    "plt.plot(ridge1_model.coef_,'^',label=\"Ridge\")\n",
    "plt.plot(lasso1_model.coef_,'v',label=\"Lasso\")\n",
    "\n",
    "#specify columns/features as the xticks\n",
    "plt.xticks(range(X.shape[1]), X.columns,rotation=90)\n",
    "\n",
    "#the length of horizontal line equals to the length of features\n",
    "plt.hlines(0,0,X.shape[1])\n",
    "\n",
    "#specify the x & y labels\n",
    "plt.xlabel(\"Features\")\n",
    "plt.ylabel(\"Coefficient magnitude\")\n",
    "\n",
    "plt.legend()\n",
    "plt.show()"
   ]
  },
  {
   "cell_type": "code",
   "execution_count": null,
   "metadata": {},
   "outputs": [],
   "source": []
  }
 ],
 "metadata": {
  "kaggle": {
   "accelerator": "none",
   "dataSources": [
    {
     "datasetId": 1373655,
     "sourceId": 2280487,
     "sourceType": "datasetVersion"
    }
   ],
   "dockerImageVersionId": 30096,
   "isGpuEnabled": false,
   "isInternetEnabled": false,
   "language": "python",
   "sourceType": "notebook"
  },
  "kernelspec": {
   "display_name": "Python 3 (ipykernel)",
   "language": "python",
   "name": "python3"
  },
  "language_info": {
   "codemirror_mode": {
    "name": "ipython",
    "version": 3
   },
   "file_extension": ".py",
   "mimetype": "text/x-python",
   "name": "python",
   "nbconvert_exporter": "python",
   "pygments_lexer": "ipython3",
   "version": "3.7.1"
  }
 },
 "nbformat": 4,
 "nbformat_minor": 4
}
