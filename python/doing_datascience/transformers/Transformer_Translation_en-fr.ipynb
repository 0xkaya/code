{
 "cells": [
  {
   "cell_type": "markdown",
   "id": "96acd22a",
   "metadata": {},
   "source": [
    "# Transformer for Text Classification"
   ]
  },
  {
   "cell_type": "markdown",
   "id": "e63140d7",
   "metadata": {},
   "source": [
    "## Importing Packages"
   ]
  },
  {
   "cell_type": "code",
   "execution_count": 2,
   "id": "94674a9b",
   "metadata": {},
   "outputs": [],
   "source": [
    "import tensorflow as tf\n",
    "from tensorflow.keras import layers\n",
    "import numpy as np\n",
    "import matplotlib.pyplot as plt\n",
    "from sklearn.model_selection import train_test_split\n",
    "from sklearn.preprocessing import LabelEncoder\n",
    "from tensorflow.keras.datasets import imdb\n",
    "from tensorflow.keras.preprocessing.sequence import pad_sequences"
   ]
  },
  {
   "cell_type": "code",
   "execution_count": 4,
   "id": "adf79efe",
   "metadata": {},
   "outputs": [],
   "source": [
    "# Step 1: Load and preprocess the IMDB dataset\n",
    "vocab_size = 10000  # Only use the top 10,000 words\n",
    "max_len = 200  # Max length of each sequence"
   ]
  },
  {
   "cell_type": "code",
   "execution_count": 5,
   "id": "2bfbd683",
   "metadata": {},
   "outputs": [
    {
     "name": "stdout",
     "output_type": "stream",
     "text": [
      "Downloading data from https://storage.googleapis.com/tensorflow/tf-keras-datasets/imdb.npz\n",
      "17464789/17464789 [==============================] - 2s 0us/step\n"
     ]
    }
   ],
   "source": [
    "# Load the dataset\n",
    "(X_train, y_train), (X_test, y_test) = imdb.load_data(num_words=vocab_size)"
   ]
  },
  {
   "cell_type": "code",
   "execution_count": 6,
   "id": "0b544b2d",
   "metadata": {},
   "outputs": [],
   "source": [
    "# Pad sequences to ensure uniform input size\n",
    "X_train = pad_sequences(X_train, maxlen=max_len, padding=\"post\", truncating=\"post\")\n",
    "X_test = pad_sequences(X_test, maxlen=max_len, padding=\"post\", truncating=\"post\")"
   ]
  },
  {
   "cell_type": "code",
   "execution_count": 7,
   "id": "1c86f22a",
   "metadata": {},
   "outputs": [],
   "source": [
    "# Step 2: Positional Encoding function\n",
    "def positional_encoding(sequence_length, d_model):\n",
    "    positions = np.arange(sequence_length)[:, np.newaxis]\n",
    "    dimensions = np.arange(d_model)[np.newaxis, :]\n",
    "    angle_rates = 1 / np.power(10000, (2 * (dimensions // 2)) / d_model)\n",
    "    angle_rads = positions * angle_rates\n",
    "\n",
    "    # Apply sin to even indices, cos to odd indices\n",
    "    angle_rads[:, 0::2] = np.sin(angle_rads[:, 0::2])\n",
    "    angle_rads[:, 1::2] = np.cos(angle_rads[:, 1::2])\n",
    "\n",
    "    return tf.constant(angle_rads, dtype=tf.float32)\n"
   ]
  },
  {
   "cell_type": "markdown",
   "id": "57869c59",
   "metadata": {},
   "source": [
    "## Step 3: Define the Transformer components"
   ]
  },
  {
   "cell_type": "code",
   "execution_count": 9,
   "id": "aeb38022",
   "metadata": {},
   "outputs": [],
   "source": [
    "class MultiHeadSelfAttention(layers.Layer):\n",
    "    def __init__(self, d_model, num_heads):\n",
    "        super(MultiHeadSelfAttention, self).__init__()\n",
    "        self.num_heads = num_heads\n",
    "        self.d_model = d_model\n",
    "\n",
    "        assert d_model % self.num_heads == 0\n",
    "\n",
    "        self.depth = d_model // num_heads\n",
    "\n",
    "        self.wq = layers.Dense(d_model)\n",
    "        self.wk = layers.Dense(d_model)\n",
    "        self.wv = layers.Dense(d_model)\n",
    "\n",
    "        self.dense = layers.Dense(d_model)\n",
    "\n",
    "    def split_heads(self, x, batch_size):\n",
    "        x = tf.reshape(x, (batch_size, -1, self.num_heads, self.depth))\n",
    "        return tf.transpose(x, perm=[0, 2, 1, 3])\n",
    "\n",
    "    def call(self, v, k, q, mask):\n",
    "        batch_size = tf.shape(q)[0]\n",
    "\n",
    "        q = self.split_heads(self.wq(q), batch_size)\n",
    "        k = self.split_heads(self.wk(k), batch_size)\n",
    "        v = self.split_heads(self.wv(v), batch_size)\n",
    "\n",
    "        matmul_qk = tf.matmul(q, k, transpose_b=True)\n",
    "\n",
    "        dk = tf.cast(tf.shape(k)[-1], tf.float32)\n",
    "        scaled_attention_logits = matmul_qk / tf.math.sqrt(dk)\n",
    "\n",
    "        if mask is not None:\n",
    "            scaled_attention_logits += (mask * -1e9)\n",
    "\n",
    "        attention_weights = tf.nn.softmax(scaled_attention_logits, axis=-1)\n",
    "\n",
    "        output = tf.matmul(attention_weights, v)\n",
    "        output = tf.transpose(output, perm=[0, 2, 1, 3])\n",
    "        concat_attention = tf.reshape(output, (batch_size, -1, self.d_model))\n",
    "        return self.dense(concat_attention)"
   ]
  },
  {
   "cell_type": "code",
   "execution_count": 11,
   "id": "ffa11c4d",
   "metadata": {},
   "outputs": [],
   "source": [
    "class TransformerBlock(layers.Layer):\n",
    "    def __init__(self, d_model, num_heads, ff_dim, dropout=0.1):\n",
    "        super(TransformerBlock, self).__init__()\n",
    "        self.att = MultiHeadSelfAttention(d_model, num_heads)\n",
    "        self.ffn = tf.keras.Sequential(\n",
    "            [layers.Dense(ff_dim, activation=\"relu\"), layers.Dense(d_model)]\n",
    "        )\n",
    "        self.layernorm1 = layers.LayerNormalization(epsilon=1e-6)\n",
    "        self.layernorm2 = layers.LayerNormalization(epsilon=1e-6)\n",
    "        self.dropout1 = layers.Dropout(dropout)\n",
    "        self.dropout2 = layers.Dropout(dropout)\n",
    "\n",
    "    def call(self, inputs, mask=None):\n",
    "        attn_output = self.att(inputs, inputs, inputs, mask)\n",
    "        attn_output = self.dropout1(attn_output)\n",
    "        out1 = self.layernorm1(inputs + attn_output)\n",
    "        ffn_output = self.ffn(out1)\n",
    "        ffn_output = self.dropout2(ffn_output)\n",
    "        return self.layernorm2(out1 + ffn_output)\n"
   ]
  },
  {
   "cell_type": "markdown",
   "id": "f1065360",
   "metadata": {},
   "source": [
    "## Step 4: Build the Transformer-based model"
   ]
  },
  {
   "cell_type": "code",
   "execution_count": 12,
   "id": "59ecfbd8",
   "metadata": {},
   "outputs": [],
   "source": [
    "def create_transformer_model(vocab_size, max_len, d_model, num_heads, ff_dim):\n",
    "    inputs = layers.Input(shape=(max_len,))\n",
    "    x = layers.Embedding(vocab_size, d_model)(inputs)\n",
    "    x += positional_encoding(max_len, d_model)\n",
    "\n",
    "    transformer_block = TransformerBlock(d_model, num_heads, ff_dim)\n",
    "    x = transformer_block(x)\n",
    "    x = layers.GlobalAveragePooling1D()(x)\n",
    "    x = layers.Dropout(0.1)(x)\n",
    "    x = layers.Dense(50, activation=\"relu\")(x)\n",
    "    x = layers.Dropout(0.1)(x)\n",
    "    outputs = layers.Dense(1, activation=\"sigmoid\")(x)\n",
    "\n",
    "    model = tf.keras.Model(inputs=inputs, outputs=outputs)\n",
    "    return model"
   ]
  },
  {
   "cell_type": "markdown",
   "id": "69107fb4",
   "metadata": {},
   "source": [
    "## Step 5: Instantiate and train the model"
   ]
  },
  {
   "cell_type": "code",
   "execution_count": 13,
   "id": "74e32f1b",
   "metadata": {},
   "outputs": [],
   "source": [
    "d_model = 128\n",
    "num_heads = 4\n",
    "ff_dim = 128\n",
    "\n",
    "model = create_transformer_model(vocab_size, max_len, d_model, num_heads, ff_dim)\n",
    "model.compile(optimizer=\"adam\", loss=\"binary_crossentropy\", metrics=[\"accuracy\"])"
   ]
  },
  {
   "cell_type": "code",
   "execution_count": 15,
   "id": "98ebf5fc",
   "metadata": {},
   "outputs": [
    {
     "name": "stdout",
     "output_type": "stream",
     "text": [
      "Epoch 1/3\n",
      "391/391 [==============================] - 115s 294ms/step - loss: 0.1576 - accuracy: 0.9406 - val_loss: 0.4202 - val_accuracy: 0.8414\n",
      "Epoch 2/3\n",
      "391/391 [==============================] - 114s 292ms/step - loss: 0.1027 - accuracy: 0.9640 - val_loss: 0.5541 - val_accuracy: 0.8366\n",
      "Epoch 3/3\n",
      "391/391 [==============================] - 117s 299ms/step - loss: 0.0572 - accuracy: 0.9810 - val_loss: 0.6965 - val_accuracy: 0.8255\n"
     ]
    }
   ],
   "source": [
    "history = model.fit(\n",
    "    X_train,\n",
    "    y_train,\n",
    "    epochs=3,\n",
    "    batch_size=64,\n",
    "    validation_data=(X_test, y_test),\n",
    ")"
   ]
  },
  {
   "cell_type": "code",
   "execution_count": 16,
   "id": "5d39f6d7",
   "metadata": {},
   "outputs": [
    {
     "name": "stdout",
     "output_type": "stream",
     "text": [
      "782/782 [==============================] - 29s 38ms/step - loss: 0.6965 - accuracy: 0.8255\n",
      "Test Accuracy: 0.83\n"
     ]
    }
   ],
   "source": [
    "# Step 6: Evaluate the model\n",
    "test_loss, test_acc = model.evaluate(X_test, y_test)\n",
    "print(f\"Test Accuracy: {test_acc:.2f}\")"
   ]
  },
  {
   "cell_type": "code",
   "execution_count": 17,
   "id": "24bea0e4",
   "metadata": {},
   "outputs": [
    {
     "data": {
      "image/png": "[encoded data removed]",
      "text/plain": [
       "<Figure size 640x480 with 1 Axes>"
      ]
     },
     "metadata": {},
     "output_type": "display_data"
    }
   ],
   "source": [
    "# Step 7: Visualize training history\n",
    "plt.plot(history.history['accuracy'], label='Train Accuracy')\n",
    "plt.plot(history.history['val_accuracy'], label='Validation Accuracy')\n",
    "plt.title('Training and Validation Accuracy')\n",
    "plt.xlabel('Epochs')\n",
    "plt.ylabel('Accuracy')\n",
    "plt.legend()\n",
    "plt.show()"
   ]
  },
  {
   "cell_type": "markdown",
   "id": "439b454c",
   "metadata": {},
   "source": [
    "# Implementing Language Translation"
   ]
  },
  {
   "cell_type": "code",
   "execution_count": 1,
   "id": "1907aacd",
   "metadata": {},
   "outputs": [],
   "source": [
    "from transformers import AutoTokenizer, AutoModelForSeq2SeqLM\n",
    "from datasets import load_dataset"
   ]
  },
  {
   "cell_type": "code",
   "execution_count": 2,
   "id": "f9acca0f",
   "metadata": {},
   "outputs": [
    {
     "name": "stderr",
     "output_type": "stream",
     "text": [
      "C:\\Users\\furka\\miniconda3\\envs\\tf01\\Lib\\site-packages\\transformers\\models\\marian\\tokenization_marian.py:175: UserWarning: Recommended: pip install sacremoses.\n",
      "  warnings.warn(\"Recommended: pip install sacremoses.\")\n"
     ]
    },
    {
     "data": {
      "application/vnd.jupyter.widget-view+json": {
       "model_id": "e4506df3120844b080a9a964317cb9cb",
       "version_major": 2,
       "version_minor": 0
      },
      "text/plain": [
       "pytorch_model.bin:   0%|          | 0.00/301M [00:00<?, ?B/s]"
      ]
     },
     "metadata": {},
     "output_type": "display_data"
    },
    {
     "name": "stderr",
     "output_type": "stream",
     "text": [
      "C:\\Users\\furka\\miniconda3\\envs\\tf01\\Lib\\site-packages\\huggingface_hub\\file_download.py:159: UserWarning: `huggingface_hub` cache-system uses symlinks by default to efficiently store duplicated files but your machine does not support them in C:\\Users\\furka\\.cache\\huggingface\\hub\\models--Helsinki-NLP--opus-mt-en-fr. Caching files will still work but in a degraded version that might require more space on your disk. This warning can be disabled by setting the `HF_HUB_DISABLE_SYMLINKS_WARNING` environment variable. For more details, see https://huggingface.co/docs/huggingface_hub/how-to-cache#limitations.\n",
      "To support symlinks on Windows, you either need to activate Developer Mode or to run Python as an administrator. In order to see activate developer mode, see this article: https://docs.microsoft.com/en-us/windows/apps/get-started/enable-your-device-for-development\n",
      "  warnings.warn(message)\n"
     ]
    },
    {
     "data": {
      "application/vnd.jupyter.widget-view+json": {
       "model_id": "446e649e37ed4e8eb1fd686702d56aa6",
       "version_major": 2,
       "version_minor": 0
      },
      "text/plain": [
       "generation_config.json:   0%|          | 0.00/293 [00:00<?, ?B/s]"
      ]
     },
     "metadata": {},
     "output_type": "display_data"
    }
   ],
   "source": [
    "# Load a pre-trained Transformer model for English-to-French translation\n",
    "model_name = \"Helsinki-NLP/opus-mt-en-fr\"\n",
    "tokenizer = AutoTokenizer.from_pretrained(model_name)\n",
    "model = AutoModelForSeq2SeqLM.from_pretrained(model_name)"
   ]
  },
  {
   "cell_type": "code",
   "execution_count": 3,
   "id": "2923efad",
   "metadata": {},
   "outputs": [
    {
     "data": {
      "application/vnd.jupyter.widget-view+json": {
       "model_id": "e9d16ddee7c4408e83feba6bb6fa05d4",
       "version_major": 2,
       "version_minor": 0
      },
      "text/plain": [
       "Downloading readme:   0%|          | 0.00/10.5k [00:00<?, ?B/s]"
      ]
     },
     "metadata": {},
     "output_type": "display_data"
    },
    {
     "data": {
      "application/vnd.jupyter.widget-view+json": {
       "model_id": "2a97f559f57e4f288483ed7f75c0e4f4",
       "version_major": 2,
       "version_minor": 0
      },
      "text/plain": [
       "Resolving data files:   0%|          | 0/30 [00:00<?, ?it/s]"
      ]
     },
     "metadata": {},
     "output_type": "display_data"
    },
    {
     "data": {
      "application/vnd.jupyter.widget-view+json": {
       "model_id": "a851924aef634fc886c734b6c8f4ded6",
       "version_major": 2,
       "version_minor": 0
      },
      "text/plain": [
       "Downloading data:   0%|          | 0/30 [00:00<?, ?files/s]"
      ]
     },
     "metadata": {},
     "output_type": "display_data"
    },
    {
     "data": {
      "application/vnd.jupyter.widget-view+json": {
       "model_id": "6b1d87ee820842babeafa7f6a855adba",
       "version_major": 2,
       "version_minor": 0
      },
      "text/plain": [
       "Downloading data:   0%|          | 0.00/475k [00:00<?, ?B/s]"
      ]
     },
     "metadata": {},
     "output_type": "display_data"
    },
    {
     "data": {
      "application/vnd.jupyter.widget-view+json": {
       "model_id": "da71b51208e0495a9ea421901e7638ef",
       "version_major": 2,
       "version_minor": 0
      },
      "text/plain": [
       "Downloading data:   0%|          | 0.00/536k [00:00<?, ?B/s]"
      ]
     },
     "metadata": {},
     "output_type": "display_data"
    },
    {
     "data": {
      "application/vnd.jupyter.widget-view+json": {
       "model_id": "1b600f9ca6a84b1486bd1b7614c3310c",
       "version_major": 2,
       "version_minor": 0
      },
      "text/plain": [
       "Generating train split:   0%|          | 0/40836715 [00:00<?, ? examples/s]"
      ]
     },
     "metadata": {},
     "output_type": "display_data"
    },
    {
     "data": {
      "application/vnd.jupyter.widget-view+json": {
       "model_id": "63e8dbab3c7640fea8750d0cf5658929",
       "version_major": 2,
       "version_minor": 0
      },
      "text/plain": [
       "Generating validation split:   0%|          | 0/3000 [00:00<?, ? examples/s]"
      ]
     },
     "metadata": {},
     "output_type": "display_data"
    },
    {
     "data": {
      "application/vnd.jupyter.widget-view+json": {
       "model_id": "66949dcf01d946a69d75fbe17dcc2aa9",
       "version_major": 2,
       "version_minor": 0
      },
      "text/plain": [
       "Generating test split:   0%|          | 0/3003 [00:00<?, ? examples/s]"
      ]
     },
     "metadata": {},
     "output_type": "display_data"
    }
   ],
   "source": [
    "# Load a sample dataset\n",
    "dataset = load_dataset(\"wmt14\", \"fr-en\", split=\"test[:1%]\")  # Using 1% of the test data\n",
    "english_sentences = dataset[\"translation\"][:10]  # Take the first 10 sentences"
   ]
  },
  {
   "cell_type": "code",
   "execution_count": 4,
   "id": "016fb4c0",
   "metadata": {
    "scrolled": true
   },
   "outputs": [
    {
     "name": "stdout",
     "output_type": "stream",
     "text": [
      "Sentence 1:\n",
      "  English: Spectacular Wingsuit Jump Over Bogota\n",
      "  French Translation: Spectaculaire Wingsuit Jump Over Bogota\n",
      "\n",
      "Sentence 2:\n",
      "  English: Sportsman Jhonathan Florez jumped from a helicopter above Bogota, the capital of Colombia, on Thursday.\n",
      "  French Translation: Le sportif Jhonathan Florez a sauté d'un hélicoptère au-dessus de Bogota, la capitale de la Colombie, jeudi.\n",
      "\n",
      "Sentence 3:\n",
      "  English: Wearing a wingsuit, he flew past over the famous Monserrate Sanctuary at 160km/h. The sanctuary is located at an altitude of over 3000 meters and numerous spectators had gathered there to watch his exploit.\n",
      "  French Translation: Portant un wingsuit, il a survolé le célèbre Sanctuaire Monserrate à 160km/h. Le sanctuaire est situé à une altitude de plus de 3000 mètres et de nombreux spectateurs s'y étaient rassemblés pour observer son exploit.\n",
      "\n",
      "Sentence 4:\n",
      "  English: A black box in your car?\n",
      "  French Translation: Une boîte noire dans votre voiture ?\n",
      "\n",
      "Sentence 5:\n",
      "  English: As America's road planners struggle to find the cash to mend a crumbling highway system, many are beginning to see a solution in a little black box that fits neatly by the dashboard of your car.\n",
      "  French Translation: Alors que les planificateurs de routes américains luttent pour trouver l'argent pour réparer un système d'autoroute en ruine, beaucoup commencent à voir une solution dans une petite boîte noire qui s'adapte parfaitement par le tableau de bord de votre voiture.\n",
      "\n",
      "Sentence 6:\n",
      "  English: The devices, which track every mile a motorist drives and transmit that information to bureaucrats, are at the center of a controversial attempt in Washington and state planning offices to overhaul the outdated system for funding America's major roads.\n",
      "  French Translation: Les appareils, qui suivent chaque kilomètre un automobiliste conduit et transmet cette information aux bureaucrates, sont au centre d'une tentative controversée à Washington et les bureaux de planification de l'État pour réviser le système obsolète pour le financement des grandes routes de l'Amérique.\n",
      "\n",
      "Sentence 7:\n",
      "  English: The usually dull arena of highway planning has suddenly spawned intense debate and colorful alliances.\n",
      "  French Translation: L'arène généralement terne de la planification de l'autoroute a soudainement engendré un débat intense et des alliances colorées.\n",
      "\n",
      "Sentence 8:\n",
      "  English: Libertarians have joined environmental groups in lobbying to allow government to use the little boxes to keep track of the miles you drive, and possibly where you drive them - then use the information to draw up a tax bill.\n",
      "  French Translation: Les libertaires ont rejoint des groupes environnementaux dans le lobbying pour permettre au gouvernement d'utiliser les petites boîtes pour garder la trace des miles que vous conduisez, et peut-être où vous les conduisez - puis utiliser l'information pour élaborer un projet de loi d'impôt.\n",
      "\n",
      "Sentence 9:\n",
      "  English: The tea party is aghast.\n",
      "  French Translation: La fête du thé est atroce.\n",
      "\n",
      "Sentence 10:\n",
      "  English: The American Civil Liberties Union is deeply concerned, too, raising a variety of privacy issues.\n",
      "  French Translation: L'Union américaine des libertés civiles est profondément préoccupée, elle aussi, par le fait qu'elle soulève diverses questions liées à la protection de la vie privée.\n",
      "\n"
     ]
    }
   ],
   "source": [
    "# Translate English to French\n",
    "for i, pair in enumerate(english_sentences):\n",
    "    # Tokenize English sentence\n",
    "    inputs = tokenizer(pair[\"en\"], return_tensors=\"pt\", truncation=True)\n",
    "    \n",
    "    # Generate translation\n",
    "    outputs = model.generate(**inputs)\n",
    "    french_translation = tokenizer.decode(outputs[0], skip_special_tokens=True)\n",
    "    \n",
    "    # Print results\n",
    "    print(f\"Sentence {i+1}:\")\n",
    "    print(f\"  English: {pair['en']}\")\n",
    "    print(f\"  French Translation: {french_translation}\")\n",
    "    print()"
   ]
  },
  {
   "cell_type": "markdown",
   "id": "90f43981-aa44-49b8-8a94-7b992a772e8e",
   "metadata": {},
   "source": [
    "# Saving File"
   ]
  },
  {
   "cell_type": "code",
   "execution_count": 14,
   "id": "16b1a132-ffed-46c9-8fd5-06ffb6c58ce2",
   "metadata": {},
   "outputs": [],
   "source": [
    "# Example of an absolute path\n",
    "output_file = \"C:/Users/furka/Desktop/developer/code/python/doing_datascience/results/translation_results_ab.txt\"\n",
    "\n",
    "# Example of a relative path\n",
    "#output_file = \"./results/translation_results.txt\"  # Saves in the 'results' folder"
   ]
  },
  {
   "cell_type": "code",
   "execution_count": 15,
   "id": "15ba74b7",
   "metadata": {},
   "outputs": [],
   "source": [
    "# Optional: Save translations to a file\n",
    "with open(output_file, \"w\") as f:\n",
    "    for i, pair in enumerate(english_sentences):\n",
    "        inputs = tokenizer(pair[\"en\"], return_tensors=\"pt\", truncation=True)\n",
    "        outputs = model.generate(**inputs)\n",
    "        french_translation = tokenizer.decode(outputs[0], skip_special_tokens=True)\n",
    "        f.write(f\"Sentence {i+1}:\\nEnglish: {pair['en']}\\nFrench: {french_translation}\\n\\n\")"
   ]
  }
 ],
 "metadata": {
  "kernelspec": {
   "display_name": "Python 3 (ipykernel)",
   "language": "python",
   "name": "python3"
  },
  "language_info": {
   "codemirror_mode": {
    "name": "ipython",
    "version": 3
   },
   "file_extension": ".py",
   "mimetype": "text/x-python",
   "name": "python",
   "nbconvert_exporter": "python",
   "pygments_lexer": "ipython3",
   "version": "3.12.7"
  }
 },
 "nbformat": 4,
 "nbformat_minor": 5
}
