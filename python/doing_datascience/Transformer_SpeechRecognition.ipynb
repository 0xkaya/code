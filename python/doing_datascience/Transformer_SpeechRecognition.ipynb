{
 "cells": [
  {
   "cell_type": "markdown",
   "id": "33b72dc5-e7d0-4cde-8100-8fc76cf9bcfa",
   "metadata": {},
   "source": [
    "# Importing Packages"
   ]
  },
  {
   "cell_type": "code",
   "execution_count": 2,
   "id": "7fb9fa5a-5c3b-4a31-9a66-8dd7b0c628d7",
   "metadata": {},
   "outputs": [],
   "source": [
    "from transformers import Wav2Vec2Processor, Wav2Vec2ForCTC\n",
    "import torch\n",
    "import torchaudio\n",
    "import os"
   ]
  },
  {
   "cell_type": "code",
   "execution_count": 3,
   "id": "7cb269d8-74e7-4920-ac65-34a96d72bb7d",
   "metadata": {},
   "outputs": [
    {
     "data": {
      "application/vnd.jupyter.widget-view+json": {
       "model_id": "7577b48f7d744dfaaacf596b4a401b20",
       "version_major": 2,
       "version_minor": 0
      },
      "text/plain": [
       "preprocessor_config.json:   0%|          | 0.00/159 [00:00<?, ?B/s]"
      ]
     },
     "metadata": {},
     "output_type": "display_data"
    },
    {
     "name": "stderr",
     "output_type": "stream",
     "text": [
      "C:\\Users\\furka\\miniconda3\\envs\\tf01\\Lib\\site-packages\\huggingface_hub\\file_download.py:159: UserWarning: `huggingface_hub` cache-system uses symlinks by default to efficiently store duplicated files but your machine does not support them in C:\\Users\\furka\\.cache\\huggingface\\hub\\models--facebook--wav2vec2-large-960h. Caching files will still work but in a degraded version that might require more space on your disk. This warning can be disabled by setting the `HF_HUB_DISABLE_SYMLINKS_WARNING` environment variable. For more details, see https://huggingface.co/docs/huggingface_hub/how-to-cache#limitations.\n",
      "To support symlinks on Windows, you either need to activate Developer Mode or to run Python as an administrator. In order to see activate developer mode, see this article: https://docs.microsoft.com/en-us/windows/apps/get-started/enable-your-device-for-development\n",
      "  warnings.warn(message)\n"
     ]
    },
    {
     "data": {
      "application/vnd.jupyter.widget-view+json": {
       "model_id": "a24634bfcfd442c99805491a6909136b",
       "version_major": 2,
       "version_minor": 0
      },
      "text/plain": [
       "tokenizer_config.json:   0%|          | 0.00/163 [00:00<?, ?B/s]"
      ]
     },
     "metadata": {},
     "output_type": "display_data"
    },
    {
     "data": {
      "application/vnd.jupyter.widget-view+json": {
       "model_id": "cbbc3c4e3d4d4ce9945aac8fbe50981f",
       "version_major": 2,
       "version_minor": 0
      },
      "text/plain": [
       "config.json:   0%|          | 0.00/843 [00:00<?, ?B/s]"
      ]
     },
     "metadata": {},
     "output_type": "display_data"
    },
    {
     "data": {
      "application/vnd.jupyter.widget-view+json": {
       "model_id": "7ed388a8fe5f482f9470b4470e1d7ee9",
       "version_major": 2,
       "version_minor": 0
      },
      "text/plain": [
       "vocab.json:   0%|          | 0.00/291 [00:00<?, ?B/s]"
      ]
     },
     "metadata": {},
     "output_type": "display_data"
    },
    {
     "data": {
      "application/vnd.jupyter.widget-view+json": {
       "model_id": "46a752a6e36b4ebb82f97cc926e58361",
       "version_major": 2,
       "version_minor": 0
      },
      "text/plain": [
       "special_tokens_map.json:   0%|          | 0.00/85.0 [00:00<?, ?B/s]"
      ]
     },
     "metadata": {},
     "output_type": "display_data"
    },
    {
     "data": {
      "application/vnd.jupyter.widget-view+json": {
       "model_id": "0d8721a08e7845e5840498261d41036e",
       "version_major": 2,
       "version_minor": 0
      },
      "text/plain": [
       "pytorch_model.bin:   0%|          | 0.00/1.26G [00:00<?, ?B/s]"
      ]
     },
     "metadata": {},
     "output_type": "display_data"
    },
    {
     "name": "stderr",
     "output_type": "stream",
     "text": [
      "Some weights of Wav2Vec2ForCTC were not initialized from the model checkpoint at facebook/wav2vec2-large-960h and are newly initialized: ['wav2vec2.masked_spec_embed']\n",
      "You should probably TRAIN this model on a down-stream task to be able to use it for predictions and inference.\n"
     ]
    }
   ],
   "source": [
    "# Load the pre-trained Wav2Vec2 model and tokenizer\n",
    "model_name = \"facebook/wav2vec2-large-960h\"\n",
    "processor = Wav2Vec2Processor.from_pretrained(model_name)\n",
    "model = Wav2Vec2ForCTC.from_pretrained(model_name)"
   ]
  },
  {
   "cell_type": "code",
   "execution_count": 15,
   "id": "016ad76e-65e4-4d56-868e-01944d6b6c96",
   "metadata": {},
   "outputs": [],
   "source": [
    "# Load an example audio file (provide a .wav file path)\n",
    "audio_file_path = \"C:/Users/furka/Desktop/StreamingAssets/answering-machine16kHz.wav\"  "
   ]
  },
  {
   "cell_type": "code",
   "execution_count": 16,
   "id": "8ae0fea4-a379-4b2a-853e-99e0a7e40c1d",
   "metadata": {},
   "outputs": [],
   "source": [
    "waveform, sample_rate = torchaudio.load(audio_file_path)\n",
    "\n",
    "# Resample audio to 16kHz (required by Wav2Vec2 model)\n",
    "if sample_rate != 16000:\n",
    "    waveform = torchaudio.transforms.Resample(orig_freq=sample_rate, new_freq=16000)(waveform)\n",
    "    sample_rate = 16000\n",
    "\n",
    "# Convert audio to single channel if necessary\n",
    "waveform = waveform.mean(dim=0) if waveform.ndim > 1 else waveform"
   ]
  },
  {
   "cell_type": "code",
   "execution_count": 17,
   "id": "19f93e5b-4b4f-4237-af4f-2d882c58696a",
   "metadata": {},
   "outputs": [],
   "source": [
    "# Process audio with the tokenizer\n",
    "input_values = processor(waveform.numpy(), sampling_rate=sample_rate, return_tensors=\"pt\").input_values\n",
    "\n",
    "# Perform inference with the model\n",
    "with torch.no_grad():\n",
    "    logits = model(input_values).logits"
   ]
  },
  {
   "cell_type": "code",
   "execution_count": 18,
   "id": "3d372a6c-b215-48ec-87f7-367f1770e984",
   "metadata": {},
   "outputs": [],
   "source": [
    "# Decode logits to text\n",
    "predicted_ids = torch.argmax(logits, dim=-1)\n",
    "transcription = processor.batch_decode(predicted_ids)[0]"
   ]
  },
  {
   "cell_type": "code",
   "execution_count": 19,
   "id": "0c963d0f-16f0-442b-b79f-0daa58b65fda",
   "metadata": {},
   "outputs": [
    {
     "name": "stdout",
     "output_type": "stream",
     "text": [
      "Transcription:\n",
      "HELLO NO ONE IS AVAILABLE TO TAKE YOUR CALM PLEASE LEAVE A MESSAGE AFTER THE TOWNE O\n"
     ]
    }
   ],
   "source": [
    "# Print the transcription\n",
    "print(\"Transcription:\")\n",
    "print(transcription)"
   ]
  }
 ],
 "metadata": {
  "kernelspec": {
   "display_name": "Python 3 (ipykernel)",
   "language": "python",
   "name": "python3"
  },
  "language_info": {
   "codemirror_mode": {
    "name": "ipython",
    "version": 3
   },
   "file_extension": ".py",
   "mimetype": "text/x-python",
   "name": "python",
   "nbconvert_exporter": "python",
   "pygments_lexer": "ipython3",
   "version": "3.12.7"
  }
 },
 "nbformat": 4,
 "nbformat_minor": 5
}
