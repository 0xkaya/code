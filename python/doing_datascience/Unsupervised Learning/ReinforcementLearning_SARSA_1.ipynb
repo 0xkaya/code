{
 "cells": [
  {
   "cell_type": "markdown",
   "id": "312a3755",
   "metadata": {},
   "source": [
    "# Grid World with SARSA\n",
    "## Problem Setup\n",
    "The grid is the same as before:\n",
    "\n",
    "#### S  -  -  -\n",
    "#### -  T  -  G\n",
    "#### -  -  -  -\n",
    "\n",
    "S: Start state.\n",
    "\n",
    "G: Goal state (reward = +10).\n",
    "\n",
    "T: Trap state (penalty = -10).\n",
    "\n",
    "-: Empty cells (reward = -1 for each step)."
   ]
  },
  {
   "cell_type": "markdown",
   "id": "3842d615",
   "metadata": {},
   "source": [
    "## Importing Packages"
   ]
  },
  {
   "cell_type": "code",
   "execution_count": 26,
   "id": "d46342f0",
   "metadata": {},
   "outputs": [],
   "source": [
    "import numpy as np \n",
    "import random\n",
    "import matplotlib.pyplot as plt"
   ]
  },
  {
   "cell_type": "markdown",
   "id": "ebcd5008",
   "metadata": {},
   "source": [
    "## Defining the Environment"
   ]
  },
  {
   "cell_type": "code",
   "execution_count": 48,
   "id": "11ce6516",
   "metadata": {},
   "outputs": [],
   "source": [
    "rows, cols = 3,4    # Grid dimensions\n",
    "start_state = (0,0) # Starting position\n",
    "goal_state = (1,1)  # Goal position\n",
    "trap_state = (1,1)  # Trap position\n"
   ]
  },
  {
   "cell_type": "markdown",
   "id": "e59fba7f",
   "metadata": {},
   "source": [
    "## Define Rewards"
   ]
  },
  {
   "cell_type": "code",
   "execution_count": 28,
   "id": "673289da",
   "metadata": {},
   "outputs": [],
   "source": [
    "rewards = np.full((rows,cols), -1) # Default step penalty\n",
    "rewards[goal_state] = 10 # Goal reward\n",
    "rewards[trap_state] = -10 # Trap penalty"
   ]
  },
  {
   "cell_type": "markdown",
   "id": "b9c838b0",
   "metadata": {},
   "source": [
    "## Possible Action"
   ]
  },
  {
   "cell_type": "code",
   "execution_count": 29,
   "id": "f264d015",
   "metadata": {},
   "outputs": [],
   "source": [
    "actions = [\"up\",\"down\",\"left\",\"right\"]"
   ]
  },
  {
   "cell_type": "markdown",
   "id": "3b0c9861",
   "metadata": {},
   "source": [
    "## Map actions to coordinate"
   ]
  },
  {
   "cell_type": "code",
   "execution_count": 30,
   "id": "d2106cdc",
   "metadata": {},
   "outputs": [],
   "source": [
    "action_map = {\n",
    "    \"up\":(-1,0),\n",
    "    \"down\":(1,0),\n",
    "    \"left\":(0,-1),\n",
    "    \"right\":(0,1)\n",
    "}"
   ]
  },
  {
   "cell_type": "markdown",
   "id": "f227ab9a",
   "metadata": {},
   "source": [
    "## Q-Table"
   ]
  },
  {
   "cell_type": "code",
   "execution_count": 31,
   "id": "84d4e961",
   "metadata": {},
   "outputs": [],
   "source": [
    "Q = np.zeros((rows,cols,len(actions)))"
   ]
  },
  {
   "cell_type": "markdown",
   "id": "f64c6cd8",
   "metadata": {},
   "source": [
    "### Hyperparameters"
   ]
  },
  {
   "cell_type": "code",
   "execution_count": 32,
   "id": "c8801119",
   "metadata": {},
   "outputs": [],
   "source": [
    "alpha = 0.1 # learning rate\n",
    "gamma = 0.9 # Discount factor\n",
    "epsilon = 0.2 # Exploration rate\n",
    "episodes = 1000"
   ]
  },
  {
   "cell_type": "markdown",
   "id": "cc84443a",
   "metadata": {},
   "source": [
    "### Helper Functions"
   ]
  },
  {
   "cell_type": "code",
   "execution_count": 33,
   "id": "3836214d",
   "metadata": {},
   "outputs": [],
   "source": [
    "def is_valid_state(state):\n",
    "    \"\"\"Check if the state is within bounds.\"\"\"\n",
    "    r, c = state\n",
    "    return 0 <= r < rows and 0 <= c < cols"
   ]
  },
  {
   "cell_type": "code",
   "execution_count": 34,
   "id": "3dc003a3",
   "metadata": {},
   "outputs": [],
   "source": [
    "def choose_action(state):\n",
    "    \"\"\"Choose an action using epsilon-greedy policy.\"\"\"\n",
    "    if random.uniform(0,1) < epsilon:\n",
    "        return random.randint(0,len(actions)-1) # Explore\n",
    "    else:\n",
    "        r, c = state\n",
    "        return np.argmax(Q[r, c, :])  # Exploit"
   ]
  },
  {
   "cell_type": "code",
   "execution_count": 39,
   "id": "4e1e96fb",
   "metadata": {},
   "outputs": [],
   "source": [
    "def get_next_state(state,action):\n",
    "    \"\"\"Get the next state based on the action.\"\"\"\n",
    "    r,c =state \n",
    "    dr, dc = action_map[action]\n",
    "    next_state = (r + dr, c+dc)\n",
    "    return next_state if is_valid_state(next_state) else state"
   ]
  },
  {
   "cell_type": "markdown",
   "id": "6ed2ca46",
   "metadata": {},
   "source": [
    "# Sarsa Algorithm"
   ]
  },
  {
   "cell_type": "code",
   "execution_count": 50,
   "id": "b132657a",
   "metadata": {},
   "outputs": [],
   "source": [
    "for episode in range(episodes):\n",
    "    state = start_state\n",
    "    r, c = state\n",
    "    action_index = choose_action(state)\n",
    "\n",
    "    while state != goal_state:\n",
    "        # Take action and observe the next state and reward\n",
    "        action = actions[action_index]\n",
    "        next_state = get_next_state(state, action)\n",
    "        nr, nc = next_state\n",
    "        reward = rewards[nr, nc]\n",
    "\n",
    "        # Choose next action\n",
    "        next_action_index = choose_action(next_state)\n",
    "\n",
    "        # Update Q-value using SARSA formula\n",
    "        Q[r, c, action_index] += alpha * (\n",
    "            reward + gamma * Q[nr, nc, next_action_index] - Q[r, c, action_index]\n",
    "        )\n",
    "\n",
    "        # Move to the next state and action\n",
    "        state = next_state\n",
    "        r, c = nr, nc\n",
    "        action_index = next_action_index"
   ]
  },
  {
   "cell_type": "code",
   "execution_count": 51,
   "id": "d1953e56",
   "metadata": {},
   "outputs": [
    {
     "name": "stdout",
     "output_type": "stream",
     "text": [
      "Learned Policy\n",
      "[['R' 'R' 'R' 'D']\n",
      " ['U' 'G' 'R' 'R']\n",
      " ['U' 'R' 'R' 'U']]\n"
     ]
    }
   ],
   "source": [
    "# Optimal policy visualization\n",
    "policy = np.full((rows,cols),\" \")\n",
    "for r in range(rows):\n",
    "    for c in range(cols):\n",
    "        if (r,c) == goal_state:\n",
    "            policy[r,c] = \"G\"\n",
    "        elif (r,c)==trap_state:\n",
    "            policy[r,c] = \"T\"\n",
    "        \n",
    "        else:\n",
    "            best_action = np.argmax(Q[r,c,:])\n",
    "            policy[r,c] = actions[best_action][0].upper()\n",
    "            \n",
    "print(\"Learned Policy\")\n",
    "print(policy)"
   ]
  },
  {
   "cell_type": "markdown",
   "id": "a31d88df",
   "metadata": {},
   "source": [
    "## Plot Q-values as heatmap"
   ]
  },
  {
   "cell_type": "code",
   "execution_count": 52,
   "id": "39f20a2d",
   "metadata": {},
   "outputs": [
    {
     "data": {
      "image/png": "[encoded data removed]",
      "text/plain": [
       "<Figure size 600x600 with 2 Axes>"
      ]
     },
     "metadata": {},
     "output_type": "display_data"
    }
   ],
   "source": [
    "plt.figure(figsize=(6, 6))\n",
    "plt.title(\"Learned Q-Values (Heatmap)\")\n",
    "for r in range(rows):\n",
    "    for c in range(cols):\n",
    "        plt.text(c, rows - r - 1, f\"{np.max(Q[r, c, :]):.1f}\", ha=\"center\", va=\"center\")\n",
    "\n",
    "plt.imshow(np.max(Q, axis=2), cmap=\"coolwarm\")\n",
    "plt.colorbar(label=\"Q-Value\")\n",
    "plt.xticks(range(cols))\n",
    "plt.yticks(range(rows))\n",
    "plt.gca().invert_yaxis()\n",
    "plt.show()"
   ]
  }
 ],
 "metadata": {
  "kernelspec": {
   "display_name": "Python 3 (ipykernel)",
   "language": "python",
   "name": "python3"
  },
  "language_info": {
   "codemirror_mode": {
    "name": "ipython",
    "version": 3
   },
   "file_extension": ".py",
   "mimetype": "text/x-python",
   "name": "python",
   "nbconvert_exporter": "python",
   "pygments_lexer": "ipython3",
   "version": "3.7.1"
  }
 },
 "nbformat": 4,
 "nbformat_minor": 5
}
