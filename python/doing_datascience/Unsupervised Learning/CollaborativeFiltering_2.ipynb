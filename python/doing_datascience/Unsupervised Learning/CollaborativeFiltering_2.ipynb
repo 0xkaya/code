{
 "cells": [
  {
   "cell_type": "markdown",
   "id": "2d480552",
   "metadata": {},
   "source": [
    "# Collaborative Filtering with Goodbooks-10k Dataset "
   ]
  },
  {
   "cell_type": "code",
   "execution_count": 42,
   "id": "32a92787",
   "metadata": {},
   "outputs": [],
   "source": [
    "import pandas as pd\n",
    "import numpy as np\n",
    "from sklearn.metrics.pairwise import cosine_similarity\n",
    "from sklearn.metrics import mean_squared_error\n",
    "from scipy.sparse import csr_matrix\n",
    "import seaborn as sns\n",
    "import matplotlib.pyplot as plt"
   ]
  },
  {
   "cell_type": "markdown",
   "id": "4af66542",
   "metadata": {},
   "source": [
    "# Data Preperation\n",
    "## Load the Book-Crossing Dataset"
   ]
  },
  {
   "cell_type": "code",
   "execution_count": 5,
   "id": "d8dcc861",
   "metadata": {},
   "outputs": [
    {
     "name": "stdout",
     "output_type": "stream",
     "text": [
      "Dataset Sample:\n",
      "    user_id  book_id  rating\n",
      "0        1      258       5\n",
      "1        2     4081       4\n",
      "2        2      260       5\n",
      "3        2     9296       5\n",
      "4        2     2318       3\n",
      "\n",
      "Dataset Shape: (5976479, 3)\n"
     ]
    }
   ],
   "source": [
    "url = \"https://raw.githubusercontent.com/zygmuntz/goodbooks-10k/master/ratings.csv\"  # Book-Crossing ratings link \n",
    "data = pd.read_csv(url)\n",
    "\n",
    "print(\"Dataset Sample:\\n\", data.head())\n",
    "print(\"\\nDataset Shape:\", data.shape)"
   ]
  },
  {
   "cell_type": "markdown",
   "id": "04fe5564",
   "metadata": {},
   "source": [
    " ## Preprocess the Dataset\n",
    " ### Drop unnecessary columns (if present)"
   ]
  },
  {
   "cell_type": "code",
   "execution_count": 7,
   "id": "d8f4af1f",
   "metadata": {},
   "outputs": [
    {
     "name": "stdout",
     "output_type": "stream",
     "text": [
      "\n",
      "Unique Users: 53424\n",
      "Unique Books: 10000\n"
     ]
    }
   ],
   "source": [
    "print(\"\\nUnique Users:\", data['user_id'].nunique())\n",
    "print(\"Unique Books:\", data['book_id'].nunique())\n",
    "\n",
    "# Filter out users with fewer than 5 ratings and books with fewer than 5 ratings\n",
    "user_ratings = data.groupby(\"user_id\").size()\n",
    "data = data[data[\"user_id\"].isin(user_ratings[user_ratings >= 5].index)]\n",
    "\n",
    "book_ratings = data.groupby(\"book_id\").size()\n",
    "data = data[data[\"book_id\"].isin(book_ratings[book_ratings >= 5].index)]"
   ]
  },
  {
   "cell_type": "markdown",
   "id": "09e5a3a1",
   "metadata": {},
   "source": [
    "# Build the Collaborative Filtering Model\n",
    "## Filter for a subset of users and movies with sufficient ratings"
   ]
  },
  {
   "cell_type": "code",
   "execution_count": 20,
   "id": "169eefa0",
   "metadata": {},
   "outputs": [
    {
     "name": "stdout",
     "output_type": "stream",
     "text": [
      "         user_id  book_id  rating\n",
      "2921         173       14       4\n",
      "2922         173      782       4\n",
      "2923         173      531       3\n",
      "2924         173      763       4\n",
      "2925         173      646       3\n",
      "...          ...      ...     ...\n",
      "5972259    37897       61       3\n",
      "5972961    50976      136       1\n",
      "5973536    13000      586       4\n",
      "5974207    13000      190       4\n",
      "5975119    25030      178       3\n",
      "\n",
      "[113999 rows x 3 columns]\n"
     ]
    }
   ],
   "source": [
    "filtered_users = data[\"user_id\"].value_counts().head(1000).index  # Top 1000 users with most ratings\n",
    "filtered_movies = data[\"book_id\"].value_counts().head(1000).index  # Top 1000 books with most ratings\n",
    "\n",
    "filtered_data = data[(data[\"user_id\"].isin(filtered_users)) & (data[\"book_id\"].isin(filtered_movies))]\n",
    "print(filtered_data)"
   ]
  },
  {
   "cell_type": "markdown",
   "id": "76ae4dc2",
   "metadata": {},
   "source": [
    "### Create a user-item matrix"
   ]
  },
  {
   "cell_type": "code",
   "execution_count": 25,
   "id": "afcec7c6",
   "metadata": {
    "scrolled": true
   },
   "outputs": [
    {
     "name": "stdout",
     "output_type": "stream",
     "text": [
      "User-Item Matrix created successfully.\n",
      "book_id  1     2     3     4     5     6     7     8     9     10    ...  \\\n",
      "user_id                                                              ...   \n",
      "35        0.0   0.0   0.0   0.0   0.0   0.0   0.0   0.0   0.0   0.0  ...   \n",
      "173       4.0   5.0   4.0   4.0   0.0   5.0   0.0   0.0   4.0   0.0  ...   \n",
      "178       4.0   0.0   1.0   0.0   0.0   0.0   4.0   0.0   0.0   0.0  ...   \n",
      "274       0.0   0.0   0.0   5.0   5.0   0.0   5.0   4.0   0.0   5.0  ...   \n",
      "314       5.0   0.0   3.0   0.0   4.0   5.0   0.0   0.0   0.0   0.0  ...   \n",
      "\n",
      "book_id  1423  1434  1435  1465  1498  1526  1530  1566  1681  1739  \n",
      "user_id                                                              \n",
      "35        0.0   0.0   0.0   0.0   0.0   0.0   2.0   0.0   3.0   0.0  \n",
      "173       0.0   0.0   0.0   0.0   0.0   0.0   0.0   0.0   0.0   0.0  \n",
      "178       0.0   0.0   0.0   0.0   0.0   0.0   0.0   3.0   0.0   0.0  \n",
      "274       0.0   0.0   0.0   4.0   0.0   0.0   5.0   0.0   0.0   0.0  \n",
      "314       0.0   0.0   0.0   0.0   0.0   0.0   0.0   0.0   0.0   0.0  \n",
      "\n",
      "[5 rows x 1000 columns]\n"
     ]
    }
   ],
   "source": [
    "user_item_matrix = filtered_data.pivot_table(index=\"user_id\", columns=\"book_id\", values=\"rating\")\n",
    "user_item_matrix = user_item_matrix.fillna(0)  # Fill missing ratings with 0\n",
    "\n",
    "print(\"User-Item Matrix created successfully.\")\n",
    "print(user_item_matrix.head())"
   ]
  },
  {
   "cell_type": "markdown",
   "id": "e148b5b0",
   "metadata": {},
   "source": [
    "## Compute user similarity"
   ]
  },
  {
   "cell_type": "code",
   "execution_count": 26,
   "id": "ae6267c3",
   "metadata": {},
   "outputs": [
    {
     "name": "stdout",
     "output_type": "stream",
     "text": [
      "\n",
      "User Similarity Matrix Sample:\n",
      " user_id     35        173       178       274       314       368       439    \\\n",
      "user_id                                                                         \n",
      "35       1.000000  0.175233  0.139623  0.281263  0.115163  0.206987  0.256341   \n",
      "173      0.175233  1.000000  0.229623  0.197621  0.190697  0.200482  0.231087   \n",
      "178      0.139623  0.229623  1.000000  0.247410  0.150468  0.184142  0.239162   \n",
      "274      0.281263  0.197621  0.247410  1.000000  0.059340  0.196999  0.314157   \n",
      "314      0.115163  0.190697  0.150468  0.059340  1.000000  0.187798  0.183335   \n",
      "\n",
      "user_id     588       725       946    ...     52895     52929     52956  \\\n",
      "user_id                                ...                                 \n",
      "35       0.196525  0.196579  0.158189  ...  0.021663  0.052991  0.151612   \n",
      "173      0.332710  0.286391  0.357371  ...  0.119171  0.129062  0.152775   \n",
      "178      0.236218  0.167115  0.333840  ...  0.093419  0.104185  0.173704   \n",
      "274      0.290020  0.137935  0.154849  ...  0.000000  0.164653  0.200075   \n",
      "314      0.176393  0.232230  0.200940  ...  0.170908  0.186602  0.101924   \n",
      "\n",
      "user_id     52965     53145     53173     53245     53281     53292     53293  \n",
      "user_id                                                                        \n",
      "35       0.123558  0.206652  0.035887  0.131672  0.227249  0.217448  0.251658  \n",
      "173      0.231565  0.169375  0.099536  0.187730  0.187371  0.196099  0.133121  \n",
      "178      0.166320  0.112356  0.082827  0.106721  0.203298  0.182120  0.149348  \n",
      "274      0.280774  0.252564  0.150357  0.104908  0.276417  0.338856  0.213467  \n",
      "314      0.200147  0.186895  0.211085  0.170282  0.147055  0.134527  0.056831  \n",
      "\n",
      "[5 rows x 1000 columns]\n"
     ]
    }
   ],
   "source": [
    "user_similarity = cosine_similarity(user_item_matrix)\n",
    "user_similarity_df = pd.DataFrame(user_similarity, index=user_item_matrix.index, columns=user_item_matrix.index)\n",
    "\n",
    "print(\"\\nUser Similarity Matrix Sample:\\n\", user_similarity_df.head())"
   ]
  },
  {
   "cell_type": "markdown",
   "id": "44d5100c",
   "metadata": {},
   "source": [
    "# Predict Ratings\n",
    "## Function to predict ratings"
   ]
  },
  {
   "cell_type": "code",
   "execution_count": 27,
   "id": "21bc844b",
   "metadata": {},
   "outputs": [],
   "source": [
    "def predict_ratings(user_item_matrix, user_similarity):\n",
    "    mean_user_ratings = user_item_matrix.mean(axis=1).values.reshape(-1, 1)\n",
    "    ratings_diff = (user_item_matrix - mean_user_ratings)\n",
    "    pred_ratings = mean_user_ratings + user_similarity.dot(ratings_diff) / np.array(\n",
    "        [np.abs(user_similarity).sum(axis=1)]).T\n",
    "    return pred_ratings"
   ]
  },
  {
   "cell_type": "markdown",
   "id": "c73e7d9f",
   "metadata": {},
   "source": [
    "## Predict ratings"
   ]
  },
  {
   "cell_type": "code",
   "execution_count": 28,
   "id": "2c9bdfa0",
   "metadata": {},
   "outputs": [],
   "source": [
    "predicted_ratings = predict_ratings(user_item_matrix, user_similarity)"
   ]
  },
  {
   "cell_type": "markdown",
   "id": "25848d46",
   "metadata": {},
   "source": [
    "### Convert to DataFrame for readability"
   ]
  },
  {
   "cell_type": "code",
   "execution_count": 30,
   "id": "5016c15c",
   "metadata": {},
   "outputs": [
    {
     "name": "stdout",
     "output_type": "stream",
     "text": [
      "\n",
      "Predicted Ratings Sample:\n",
      " book_id      1         2         3         4         5         6         7     \\\n",
      "user_id                                                                         \n",
      "35       1.935820  1.952348  1.066660  1.974127  1.662928  0.659742  1.785128   \n",
      "173      2.292907  2.318469  1.365780  2.199877  1.784043  1.061118  1.889791   \n",
      "178      2.150681  1.983334  1.021555  1.914184  1.585613  0.746256  1.852997   \n",
      "274      2.046496  2.292161  1.220070  2.316608  1.972863  0.789280  2.211688   \n",
      "314      2.460495  2.092560  1.324356  1.939470  1.617520  1.051555  1.756240   \n",
      "\n",
      "book_id      8         9         10    ...      1423      1434      1435  \\\n",
      "user_id                                ...                                 \n",
      "35       1.551103  1.307214  1.701905  ...  0.076195  0.249229  0.652150   \n",
      "173      1.694865  1.532328  1.720214  ...  0.184851  0.302446  0.583879   \n",
      "178      1.524128  1.218699  1.498075  ...  0.008408  0.144691  0.521152   \n",
      "274      1.889284  1.468362  1.934977  ...  0.248835  0.436373  0.743796   \n",
      "314      1.466917  1.438899  1.473367  ...  0.098775  0.190519  0.420336   \n",
      "\n",
      "book_id      1465      1498      1526      1530      1566      1681      1739  \n",
      "user_id                                                                        \n",
      "35       0.382829  0.089966  0.247413  0.227070  0.277380  0.357538  0.395420  \n",
      "173      0.401091  0.197175  0.329082  0.263820  0.319586  0.318986  0.426890  \n",
      "178      0.262868  0.030301  0.151603  0.125002  0.208791  0.184478  0.325497  \n",
      "274      0.524854  0.271821  0.426955  0.399826  0.415446  0.471802  0.514911  \n",
      "314      0.261467  0.124342  0.197494  0.143115  0.168822  0.158811  0.281894  \n",
      "\n",
      "[5 rows x 1000 columns]\n"
     ]
    }
   ],
   "source": [
    "predicted_ratings_df = pd.DataFrame(predicted_ratings, index=user_item_matrix.index, columns=user_item_matrix.columns)\n",
    "print(\"\\nPredicted Ratings Sample:\\n\", predicted_ratings_df.head())"
   ]
  },
  {
   "cell_type": "markdown",
   "id": "b0fdc0e9",
   "metadata": {},
   "source": [
    "# Recommend Top Books\n",
    "## Recommend top N books for a given user"
   ]
  },
  {
   "cell_type": "code",
   "execution_count": 31,
   "id": "97f0fb6d",
   "metadata": {},
   "outputs": [],
   "source": [
    "def recommend_books(user_id, num_recommendations=5):\n",
    "    user_pred_ratings = predicted_ratings_df.loc[user_id]\n",
    "    already_rated = user_item_matrix.loc[user_id]\n",
    "    recommendations = user_pred_ratings[already_rated == 0].sort_values(ascending=False).head(num_recommendations)\n",
    "    return recommendations"
   ]
  },
  {
   "cell_type": "markdown",
   "id": "0784e29d",
   "metadata": {},
   "source": [
    "## Example: Recommend books for a specific user"
   ]
  },
  {
   "cell_type": "code",
   "execution_count": 37,
   "id": "7777e6b7",
   "metadata": {},
   "outputs": [
    {
     "name": "stdout",
     "output_type": "stream",
     "text": [
      "\n",
      "Recommendations for User 1185:\n",
      " book_id\n",
      "2     1.920966\n",
      "59    1.900383\n",
      "4     1.862155\n",
      "37    1.856330\n",
      "7     1.726505\n",
      "Name: 1185, dtype: float64\n"
     ]
    }
   ],
   "source": [
    "user_id = user_item_matrix.index[15]\n",
    "recommendations = recommend_books(user_id)\n",
    "print(f\"\\nRecommendations for User {user_id}:\\n\", recommendations)"
   ]
  },
  {
   "cell_type": "markdown",
   "id": "25bb1297",
   "metadata": {},
   "source": [
    "# Evaluate the Model\n",
    "## Calculate RMSE"
   ]
  },
  {
   "cell_type": "code",
   "execution_count": 39,
   "id": "9a4f99f6",
   "metadata": {},
   "outputs": [],
   "source": [
    "def calculate_rmse(predictions, actuals):\n",
    "    # Ignore missing ratings\n",
    "    predictions = predictions[actuals.nonzero()].flatten()\n",
    "    actuals = actuals[actuals.nonzero()].flatten()\n",
    "    return np.sqrt(mean_squared_error(predictions, actuals))"
   ]
  },
  {
   "cell_type": "markdown",
   "id": "6ac212d6",
   "metadata": {},
   "source": [
    "## Evaluate RMSE"
   ]
  },
  {
   "cell_type": "code",
   "execution_count": 43,
   "id": "3b0a8124",
   "metadata": {},
   "outputs": [
    {
     "name": "stdout",
     "output_type": "stream",
     "text": [
      "\n",
      "RMSE of the model: 3.141714500468928\n"
     ]
    }
   ],
   "source": [
    "actual_ratings = user_item_matrix.values\n",
    "rmse = calculate_rmse(predicted_ratings, actual_ratings)\n",
    "print(\"\\nRMSE of the model:\", rmse)"
   ]
  },
  {
   "cell_type": "markdown",
   "id": "572b4f26",
   "metadata": {},
   "source": [
    "# Visualize Similarity"
   ]
  },
  {
   "cell_type": "code",
   "execution_count": 47,
   "id": "93c579c8",
   "metadata": {},
   "outputs": [
    {
     "data": {
      "image/png": "[encoded data removed]",
      "text/plain": [
       "<Figure size 640x480 with 2 Axes>"
      ]
     },
     "metadata": {},
     "output_type": "display_data"
    }
   ],
   "source": [
    "sns.heatmap(user_similarity_df.iloc[:10, :10], cmap=\"coolwarm\", annot=False)\n",
    "plt.title(\"User Similarity Heatmap (Sample)\")\n",
    "plt.show()"
   ]
  },
  {
   "cell_type": "code",
   "execution_count": null,
   "id": "83001150",
   "metadata": {},
   "outputs": [],
   "source": []
  }
 ],
 "metadata": {
  "kernelspec": {
   "display_name": "Python 3 (ipykernel)",
   "language": "python",
   "name": "python3"
  },
  "language_info": {
   "codemirror_mode": {
    "name": "ipython",
    "version": 3
   },
   "file_extension": ".py",
   "mimetype": "text/x-python",
   "name": "python",
   "nbconvert_exporter": "python",
   "pygments_lexer": "ipython3",
   "version": "3.7.1"
  }
 },
 "nbformat": 4,
 "nbformat_minor": 5
}
