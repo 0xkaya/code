{
 "cells": [
  {
   "cell_type": "markdown",
   "id": "258e4c65",
   "metadata": {},
   "source": [
    "# Problem : Grid World"
   ]
  },
  {
   "cell_type": "markdown",
   "id": "dab9e9dc",
   "metadata": {},
   "source": [
    "The agent starts in a grid cell and must reach the goal while avoiding traps.\n",
    "The grid looks like this:"
   ]
  },
  {
   "cell_type": "markdown",
   "id": "3a07924a",
   "metadata": {},
   "source": [
    "#### S  -  -  -\n",
    "#### -  T  -  G\n",
    "#### -  -  -  -\n"
   ]
  },
  {
   "cell_type": "markdown",
   "id": "4661c8ff",
   "metadata": {},
   "source": [
    "**Legend:**\n",
    "\n",
    "S: Start state. \n",
    "\n",
    "G: Goal state (reward = +10).\n",
    "\n",
    "T: Trap state (penalty = -10).\n",
    "\n",
    "-: Empty cells (reward = -1 for each step).\n",
    "\n",
    "**Agent Actions:**\n",
    "\n",
    "Move up, down, left, or right."
   ]
  },
  {
   "cell_type": "markdown",
   "id": "d1c14c53",
   "metadata": {},
   "source": [
    "# Q-Learning Preperation"
   ]
  },
  {
   "cell_type": "markdown",
   "id": "11d206df",
   "metadata": {},
   "source": [
    "## Importing Packages"
   ]
  },
  {
   "cell_type": "code",
   "execution_count": 6,
   "id": "da82d330",
   "metadata": {},
   "outputs": [],
   "source": [
    "import numpy as np\n",
    "import random\n",
    "import matplotlib.pyplot as plt"
   ]
  },
  {
   "cell_type": "code",
   "execution_count": 7,
   "id": "2434b218",
   "metadata": {},
   "outputs": [],
   "source": [
    "## Defining the environment"
   ]
  },
  {
   "cell_type": "code",
   "execution_count": 9,
   "id": "1ffeaa4b",
   "metadata": {},
   "outputs": [],
   "source": [
    "rows,cols = 3,4 # Grid dimensions\n",
    "start_state = (0,0) # Starting positions\n",
    "goal_state = (1,3) # Goal position\n",
    "trap_state = (1,1) # Trap position"
   ]
  },
  {
   "cell_type": "code",
   "execution_count": 10,
   "id": "f65cc20f",
   "metadata": {},
   "outputs": [],
   "source": [
    "## Define rewards"
   ]
  },
  {
   "cell_type": "code",
   "execution_count": 11,
   "id": "23c4e28c",
   "metadata": {},
   "outputs": [],
   "source": [
    "rewards = np.full((rows,cols),-1) # Default step penalty\n",
    "rewards[goal_state] = 10 # Goal reward\n",
    "rewards[trap_state] = -10 # Trap penalty"
   ]
  },
  {
   "cell_type": "code",
   "execution_count": 12,
   "id": "506179cd",
   "metadata": {},
   "outputs": [],
   "source": [
    "## Possible actions"
   ]
  },
  {
   "cell_type": "code",
   "execution_count": 15,
   "id": "70988c17",
   "metadata": {},
   "outputs": [],
   "source": [
    "actions = [\"up\",\"down\",\"left\",\"right\"]"
   ]
  },
  {
   "cell_type": "code",
   "execution_count": 16,
   "id": "555c0034",
   "metadata": {},
   "outputs": [],
   "source": [
    "## Mapping actions to coordinate changes"
   ]
  },
  {
   "cell_type": "code",
   "execution_count": 17,
   "id": "c124cb58",
   "metadata": {},
   "outputs": [],
   "source": [
    "action_map = {\n",
    "    \"up\":(-1,0),\n",
    "    \"down\":(1,0),\n",
    "    \"left\":(0,-1),\n",
    "    \"right\":(0,1)\n",
    "}"
   ]
  },
  {
   "cell_type": "code",
   "execution_count": 18,
   "id": "22106d44",
   "metadata": {},
   "outputs": [],
   "source": [
    "## Initilaze Q-table"
   ]
  },
  {
   "cell_type": "code",
   "execution_count": 19,
   "id": "818b8dbe",
   "metadata": {},
   "outputs": [],
   "source": [
    "Q = np.zeros((rows,cols,len(actions)))"
   ]
  },
  {
   "cell_type": "code",
   "execution_count": 20,
   "id": "f67eb82b",
   "metadata": {},
   "outputs": [],
   "source": [
    "## Hyperparameters"
   ]
  },
  {
   "cell_type": "code",
   "execution_count": 28,
   "id": "11b95fb2",
   "metadata": {},
   "outputs": [],
   "source": [
    "alpha = 0.1  # Learning rate\n",
    "gamma = 0.9  # Discount factor\n",
    "epsilon = 0.2 # Exploration rate\n",
    "episodes = 1000"
   ]
  },
  {
   "cell_type": "code",
   "execution_count": 22,
   "id": "a4522ba7",
   "metadata": {},
   "outputs": [],
   "source": [
    "## Helper Functions"
   ]
  },
  {
   "cell_type": "code",
   "execution_count": 23,
   "id": "93ab430f",
   "metadata": {},
   "outputs": [],
   "source": [
    "def is_valid_state(state):\n",
    "    \"\"\"Check if the state is within bounds.\"\"\"\n",
    "    r,c = state\n",
    "    return 0 <=r < rows and 0 <= c < cols"
   ]
  },
  {
   "cell_type": "code",
   "execution_count": 24,
   "id": "1a1ce5bc",
   "metadata": {},
   "outputs": [],
   "source": [
    "def choose_action(state):\n",
    "    \"\"\"Choose an action using epsilon-greedy policy.\"\"\"\n",
    "    if random.uniform(0,1) < epsilon:\n",
    "        return random.randint(0,len(actions)-1) # explore\n",
    "    else:\n",
    "        r,c = state\n",
    "        return np.argmax(Q[r,c,:]) # exploit"
   ]
  },
  {
   "cell_type": "code",
   "execution_count": 25,
   "id": "8585d4c2",
   "metadata": {},
   "outputs": [],
   "source": [
    "def get_next_state(state,action):\n",
    "    \"\"\"Get the next state based on the action.\"\"\"\n",
    "    r,c = state\n",
    "    dr, dc = action_map[action]\n",
    "    next_state = (r+dr, c+dc)\n",
    "    return next_state if is_valid_state(next_state) else state"
   ]
  },
  {
   "cell_type": "markdown",
   "id": "bfd973fb",
   "metadata": {},
   "source": [
    "# Q-Learning Algorithm"
   ]
  },
  {
   "cell_type": "code",
   "execution_count": 30,
   "id": "c61b847e",
   "metadata": {},
   "outputs": [
    {
     "name": "stdout",
     "output_type": "stream",
     "text": [
      "Learned Policy:\n",
      "[['R' 'R' 'R' 'D']\n",
      " ['U' 'T' 'R' 'G']\n",
      " ['R' 'R' 'U' 'U']]\n"
     ]
    }
   ],
   "source": [
    "for episode in range(episodes):\n",
    "    state = start_state\n",
    "    \n",
    "    while state !=goal_state:\n",
    "        r,c = state\n",
    "        action_index = choose_action(state)\n",
    "        action = actions[action_index]\n",
    "        \n",
    "        # Take action and observe the next state and reward\n",
    "        next_state = get_next_state(state,action)\n",
    "        nr, nc = next_state\n",
    "        reward = rewards[nr,nc]\n",
    "        \n",
    "        # Update Q-value\n",
    "        Q[r,c,action_index] += alpha * (\n",
    "            reward + gamma*np.max(Q[nr,nc,:])-Q[r,c,action_index]\n",
    "        )\n",
    "        \n",
    "        # Move to the next state\n",
    "        state =next_state\n",
    "\n",
    "# Optimal policy visualization\n",
    "policy = np.full((rows,cols),\" \")\n",
    "for r in range(rows):\n",
    "    for c in range(cols):\n",
    "        if (r,c) == goal_state:\n",
    "            policy[r,c] = \"G\"\n",
    "        elif (r,c) == trap_state:\n",
    "            policy[r,c] = \"T\"\n",
    "        else:\n",
    "            best_action = np.argmax(Q[r,c,:])\n",
    "            policy[r,c] = actions[best_action][0].upper()\n",
    "            \n",
    "print(\"Learned Policy:\")\n",
    "print(policy)"
   ]
  },
  {
   "cell_type": "code",
   "execution_count": 31,
   "id": "5d12d0a2",
   "metadata": {},
   "outputs": [],
   "source": [
    "# Plot rewards and heatmap"
   ]
  },
  {
   "cell_type": "code",
   "execution_count": 33,
   "id": "4117ec8e",
   "metadata": {},
   "outputs": [
    {
     "data": {
      "image/png": "[encoded data removed]",
      "text/plain": [
       "<Figure size 600x600 with 2 Axes>"
      ]
     },
     "metadata": {},
     "output_type": "display_data"
    }
   ],
   "source": [
    "plt.figure(figsize=(6,6))\n",
    "plt.title(\"Learned Q-Values (Heatmap)\")\n",
    "for r in range(rows):\n",
    "    for c in range(cols):\n",
    "        plt.text(c,rows-r-1,f\"{np.max(Q[r,c,:]):.1f}\",ha=\"center\",va=\"center\")\n",
    "\n",
    "plt.imshow(np.max(Q, axis=2), cmap=\"coolwarm\")\n",
    "plt.colorbar(label=\"Q-Value\")\n",
    "plt.xticks(range(cols))\n",
    "plt.yticks(range(rows))\n",
    "plt.gca().invert_yaxis()\n",
    "plt.show()"
   ]
  }
 ],
 "metadata": {
  "kernelspec": {
   "display_name": "Python 3 (ipykernel)",
   "language": "python",
   "name": "python3"
  },
  "language_info": {
   "codemirror_mode": {
    "name": "ipython",
    "version": 3
   },
   "file_extension": ".py",
   "mimetype": "text/x-python",
   "name": "python",
   "nbconvert_exporter": "python",
   "pygments_lexer": "ipython3",
   "version": "3.7.1"
  }
 },
 "nbformat": 4,
 "nbformat_minor": 5
}
