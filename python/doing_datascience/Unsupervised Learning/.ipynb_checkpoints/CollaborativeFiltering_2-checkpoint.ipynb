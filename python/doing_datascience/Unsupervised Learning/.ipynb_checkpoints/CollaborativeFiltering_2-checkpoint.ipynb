{
 "cells": [
  {
   "cell_type": "markdown",
   "id": "2d480552",
   "metadata": {},
   "source": [
    "# Collaborative Filtering with Book-Crossing Dataset "
   ]
  },
  {
   "cell_type": "code",
   "execution_count": 1,
   "id": "32a92787",
   "metadata": {},
   "outputs": [],
   "source": [
    "import pandas as pd\n",
    "from sklearn.metrics.pairwise import cosine_similarity\n",
    "from sklearn.preprocessing import MinMaxScaler\n",
    "import numpy as np\n",
    "import seaborn as sns\n",
    "import matplotlib.pyplot as plt"
   ]
  },
  {
   "cell_type": "markdown",
   "id": "4af66542",
   "metadata": {},
   "source": [
    "# Data Preperation\n",
    "## Load the Book-Crossing Dataset"
   ]
  },
  {
   "cell_type": "code",
   "execution_count": 9,
   "id": "d8dcc861",
   "metadata": {},
   "outputs": [
    {
     "name": "stdout",
     "output_type": "stream",
     "text": [
      "Dataset Sample:\n",
      "    user_id  book_id  rating\n",
      "0        1      258       5\n",
      "1        2     4081       4\n",
      "2        2      260       5\n",
      "3        2     9296       5\n",
      "4        2     2318       3\n",
      "\n",
      "Dataset Shape: (5976479, 3)\n"
     ]
    }
   ],
   "source": [
    "url = \"https://raw.githubusercontent.com/zygmuntz/goodbooks-10k/master/ratings.csv\"  # Replace with Book-Crossing ratings link if needed\n",
    "data = pd.read_csv(url)\n",
    "\n",
    "print(\"Dataset Sample:\\n\", data.head())\n",
    "print(\"\\nDataset Shape:\", data.shape)"
   ]
  },
  {
   "cell_type": "code",
   "execution_count": 10,
   "id": "d1cca406",
   "metadata": {},
   "outputs": [],
   "source": [
    " ## Preprocess the Dataset"
   ]
  },
  {
   "cell_type": "code",
   "execution_count": 11,
   "id": "00f61e4d",
   "metadata": {},
   "outputs": [
    {
     "name": "stdout",
     "output_type": "stream",
     "text": [
      "\n",
      "Unique Users: 53424\n",
      "Unique Books: 10000\n",
      "\n",
      "User-Item Matrix Shape: (53424, 10000)\n"
     ]
    }
   ],
   "source": [
    "# Drop unnecessary columns (if present)\n",
    "print(\"\\nUnique Users:\", data['user_id'].nunique())\n",
    "print(\"Unique Books:\", data['book_id'].nunique())\n",
    "\n",
    "# Filter out users with fewer than 5 ratings and books with fewer than 5 ratings\n",
    "user_ratings = data.groupby(\"user_id\").size()\n",
    "data = data[data[\"user_id\"].isin(user_ratings[user_ratings >= 5].index)]\n",
    "\n",
    "book_ratings = data.groupby(\"book_id\").size()\n",
    "data = data[data[\"book_id\"].isin(book_ratings[book_ratings >= 5].index)]\n",
    "\n",
    "# Create a user-item matrix\n",
    "user_item_matrix = data.pivot(index='user_id', columns='book_id', values='rating').fillna(0)\n",
    "\n",
    "print(\"\\nUser-Item Matrix Shape:\", user_item_matrix.shape)"
   ]
  },
  {
   "cell_type": "code",
   "execution_count": 12,
   "id": "3b0779f0",
   "metadata": {},
   "outputs": [],
   "source": [
    "## Build the Collaborative Filtering Model"
   ]
  },
  {
   "cell_type": "code",
   "execution_count": null,
   "id": "0f29a59a",
   "metadata": {},
   "outputs": [],
   "source": [
    "# Compute user similarity\n",
    "user_similarity = cosine_similarity(user_item_matrix)\n",
    "user_similarity_df = pd.DataFrame(user_similarity, index=user_item_matrix.index, columns=user_item_matrix.index)\n",
    "\n",
    "print(\"\\nUser Similarity Matrix Sample:\\n\", user_similarity_df.head())"
   ]
  }
 ],
 "metadata": {
  "kernelspec": {
   "display_name": "Python 3 (ipykernel)",
   "language": "python",
   "name": "python3"
  },
  "language_info": {
   "codemirror_mode": {
    "name": "ipython",
    "version": 3
   },
   "file_extension": ".py",
   "mimetype": "text/x-python",
   "name": "python",
   "nbconvert_exporter": "python",
   "pygments_lexer": "ipython3",
   "version": "3.7.1"
  }
 },
 "nbformat": 4,
 "nbformat_minor": 5
}
