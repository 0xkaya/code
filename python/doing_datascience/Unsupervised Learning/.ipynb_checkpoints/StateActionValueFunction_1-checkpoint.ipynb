{
 "cells": [
  {
   "cell_type": "code",
   "execution_count": 2,
   "id": "e227a01e",
   "metadata": {},
   "outputs": [
    {
     "name": "stdout",
     "output_type": "stream",
     "text": [
      "Learned Q-Table:\n",
      "[[ 88.48486452  70.6166198   78.27747383 100.        ]\n",
      " [ 90.          70.95879499  76.53169743   0.        ]\n",
      " [ 90.          57.63711359  66.60328115 -34.3094702 ]\n",
      " [  0.           0.           0.           0.        ]]\n",
      "\n",
      "Optimal Policy:\n",
      "State S1 -> Action A4\n",
      "State S2 -> Action A1\n",
      "State S3 -> Action A1\n",
      "State S4 -> Action A1\n"
     ]
    }
   ],
   "source": [
    "import numpy as np\n",
    "import random\n",
    "\n",
    "# Define states, actions, and rewards\n",
    "states = [\"S1\", \"S2\", \"S3\", \"S4\"]\n",
    "actions = [\"A1\", \"A2\", \"A3\", \"A4\"]  # Actions correspond to moving between states\n",
    "\n",
    "# Transition reward matrix (R)\n",
    "rewards = np.array([\n",
    "    [0, -10, 0, 100],  # From S1\n",
    "    [0, 0, 20, 0],     # From S2\n",
    "    [0, 0, 0, -50],    # From S3\n",
    "    [0, 0, 0, 0]       # From S4 (goal state, no outgoing rewards)\n",
    "])\n",
    "\n",
    "# Initialize Q-table (state-action value table)\n",
    "num_states = len(states)\n",
    "num_actions = len(actions)\n",
    "Q = np.zeros((num_states, num_actions))\n",
    "\n",
    "# Parameters for Q-learning\n",
    "alpha = 0.1  # Learning rate\n",
    "gamma = 0.9  # Discount factor\n",
    "epsilon = 0.2  # Exploration probability\n",
    "episodes = 1000\n",
    "\n",
    "# Define a helper to choose the next action (epsilon-greedy policy)\n",
    "def choose_action(state):\n",
    "    if random.uniform(0, 1) < epsilon:\n",
    "        return random.randint(0, num_actions - 1)  # Explore\n",
    "    else:\n",
    "        return np.argmax(Q[state, :])  # Exploit\n",
    "\n",
    "# Q-Learning Algorithm\n",
    "for episode in range(episodes):\n",
    "    # Start at a random state\n",
    "    state = random.randint(0, num_states - 1)\n",
    "\n",
    "    while state != 3:  # Stop if we reach the terminal state S4\n",
    "        action = choose_action(state)\n",
    "        next_state = action  # Assume each action corresponds to moving to the next state\n",
    "        reward = rewards[state, next_state]\n",
    "\n",
    "        # Update Q-value using the Q-learning formula\n",
    "        Q[state, action] = Q[state, action] + alpha * (\n",
    "            reward + gamma * np.max(Q[next_state, :]) - Q[state, action]\n",
    "        )\n",
    "\n",
    "        state = next_state  # Move to the next state\n",
    "\n",
    "# Print the learned Q-table\n",
    "print(\"Learned Q-Table:\")\n",
    "print(Q)\n",
    "\n",
    "# Derive the optimal policy\n",
    "optimal_policy = [np.argmax(Q[s, :]) for s in range(num_states)]\n",
    "print(\"\\nOptimal Policy:\")\n",
    "for s, a in enumerate(optimal_policy):\n",
    "    print(f\"State {states[s]} -> Action {actions[a]}\")\n"
   ]
  }
 ],
 "metadata": {
  "kernelspec": {
   "display_name": "Python 3 (ipykernel)",
   "language": "python",
   "name": "python3"
  },
  "language_info": {
   "codemirror_mode": {
    "name": "ipython",
    "version": 3
   },
   "file_extension": ".py",
   "mimetype": "text/x-python",
   "name": "python",
   "nbconvert_exporter": "python",
   "pygments_lexer": "ipython3",
   "version": "3.7.1"
  }
 },
 "nbformat": 4,
 "nbformat_minor": 5
}
