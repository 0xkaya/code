{
 "cells": [
  {
   "cell_type": "markdown",
   "metadata": {
    "colab_type": "text",
    "id": "5WNm0Jm7Sg_B"
   },
   "source": [
    "# **Using pandas read_html to Web Scrape Data for Data Science** \n",
    "\n",
    "Chanin Nantasenamat\n",
    "\n",
    "<i>[Data Professor YouTube channel](http://youtube.com/dataprofessor), http://youtube.com/dataprofessor </i>\n",
    "\n",
    "In this Jupyter notebook, I will be showing you how to easily web scrape data using pandas read_html() function for your data science project. We will be web scraping NBA player stats data and perform a quick data exploration."
   ]
  },
  {
   "cell_type": "markdown",
   "metadata": {
    "colab_type": "text",
    "id": "jsGSzqADSa0o"
   },
   "source": [
    "## **URL to the webpage \"2018-19 NBA Player Stats: Per Game\"**"
   ]
  },
  {
   "cell_type": "markdown",
   "metadata": {
    "colab_type": "text",
    "id": "-AQZU0n4StVq"
   },
   "source": [
    "### Method 1\n",
    "\n",
    "We could modularize the URL and year strings of text that may be useful for programmatic access (in the subsequent code cell)."
   ]
  },
  {
   "cell_type": "code",
   "execution_count": 1,
   "metadata": {
    "colab": {
     "base_uri": "https://localhost:8080/",
     "height": 35
    },
    "colab_type": "code",
    "id": "pGkHgtANQ4b2",
    "outputId": "ff2ecd23-f31c-4b41-ab47-fa85bbfc04b3"
   },
   "outputs": [
    {
     "data": {
      "text/plain": [
       "'https://www.basketball-reference.com/leagues/NBA_2019_per_game.html'"
      ]
     },
     "execution_count": 1,
     "metadata": {},
     "output_type": "execute_result"
    }
   ],
   "source": [
    "# The Building Blocks\n",
    "year = '2019'\n",
    "url_link = 'https://www.basketball-reference.com/leagues/NBA_{}_per_game.html'\n",
    "\n",
    "# Combining the URL + year strings together\n",
    "url = url_link.format(year)\n",
    "url"
   ]
  },
  {
   "cell_type": "markdown",
   "metadata": {
    "colab_type": "text",
    "id": "ySZux1-hWLbX"
   },
   "source": [
    "Now, let's programmatically return a list of URL given a list of years (e.g. 2015,2016,2017,2018,2019)."
   ]
  },
  {
   "cell_type": "code",
   "execution_count": 21,
   "metadata": {
    "colab": {
     "base_uri": "https://localhost:8080/",
     "height": 107
    },
    "colab_type": "code",
    "id": "JSw9Q7s7VQyd",
    "outputId": "405110a8-72a6-4172-eb17-1c229a2e9341"
   },
   "outputs": [
    {
     "name": "stdout",
     "output_type": "stream",
     "text": [
      "https://www.basketball-reference.com/leagues/NBA_2015_per_game.html\n",
      "https://www.basketball-reference.com/leagues/NBA_2016_per_game.html\n",
      "https://www.basketball-reference.com/leagues/NBA_2017_per_game.html\n",
      "https://www.basketball-reference.com/leagues/NBA_2018_per_game.html\n",
      "https://www.basketball-reference.com/leagues/NBA_2019_per_game.html\n"
     ]
    }
   ],
   "source": [
    "years = [2015,2016,2017,2018,2019]\n",
    "url_link = 'https://www.basketball-reference.com/leagues/NBA_{}_per_game.html'\n",
    "\n",
    "for year in years:\n",
    "  url = url_link.format(year)\n",
    "  print(url)"
   ]
  },
  {
   "cell_type": "markdown",
   "metadata": {
    "colab_type": "text",
    "id": "wlDt8TTxSvEz"
   },
   "source": [
    "Method 2"
   ]
  },
  {
   "cell_type": "code",
   "execution_count": 22,
   "metadata": {
    "colab": {},
    "colab_type": "code",
    "id": "-x78Rt_iRmCa"
   },
   "outputs": [],
   "source": [
    "url = 'https://www.basketball-reference.com/leagues/NBA_2019_per_game.html'"
   ]
  },
  {
   "cell_type": "markdown",
   "metadata": {
    "colab_type": "text",
    "id": "fhVY2xJJS0FU"
   },
   "source": [
    "## **Read HTML webpage into pandas**"
   ]
  },
  {
   "cell_type": "code",
   "execution_count": 23,
   "metadata": {
    "colab": {},
    "colab_type": "code",
    "id": "yE_EfE-gPW1a"
   },
   "outputs": [],
   "source": [
    "import pandas as pd"
   ]
  },
  {
   "cell_type": "markdown",
   "metadata": {
    "colab_type": "text",
    "id": "Sk1EUVeFUXPq"
   },
   "source": [
    "### Using pd.read_html() function to read HTML webpage"
   ]
  },
  {
   "cell_type": "code",
   "execution_count": 24,
   "metadata": {
    "colab": {
     "base_uri": "https://localhost:8080/",
     "height": 269
    },
    "colab_type": "code",
    "id": "4sLS78K-S-r2",
    "outputId": "7c98cfe0-d520-4752-b000-bb76fa43347b"
   },
   "outputs": [
    {
     "data": {
      "text/plain": [
       "[        Rk                 Player   Age Team  Pos     G    GS    MP    FG  \\\n",
       " 0      1.0           James Harden  29.0  HOU   PG  78.0  78.0  36.8  10.8   \n",
       " 1      2.0            Paul George  28.0  OKC   SF  77.0  77.0  36.9   9.2   \n",
       " 2      3.0  Giannis Antetokounmpo  24.0  MIL   PF  72.0  72.0  32.8  10.0   \n",
       " 3      4.0            Joel Embiid  24.0  PHI    C  64.0  64.0  33.7   9.1   \n",
       " 4      5.0           LeBron James  34.0  LAL   SF  55.0  55.0  35.2  10.1   \n",
       " ..     ...                    ...   ...  ...  ...   ...   ...   ...   ...   \n",
       " 704  527.0            Zach Lofton  26.0  DET   SG   1.0   0.0   4.0   0.0   \n",
       " 705  528.0           Kobi Simmons  21.0  CLE   PG   1.0   0.0   2.0   0.0   \n",
       " 706  529.0             Tyler Ulis  23.0  CHI   PG   1.0   0.0   1.0   0.0   \n",
       " 707  530.0            Okaro White  26.0  WAS   PF   3.0   0.0   2.0   0.0   \n",
       " 708    NaN         League Average   NaN  NaN  NaN   NaN   NaN   NaN   NaN   \n",
       " \n",
       "       FGA  ...  ORB   DRB   TRB  AST  STL  BLK  TOV   PF   PTS  \\\n",
       " 0    24.5  ...  0.8   5.8   6.6  7.5  2.0  0.7  5.0  3.1  36.1   \n",
       " 1    21.0  ...  1.4   6.8   8.2  4.1  2.2  0.4  2.7  2.8  28.0   \n",
       " 2    17.3  ...  2.2  10.3  12.5  5.9  1.3  1.5  3.7  3.2  27.7   \n",
       " 3    18.7  ...  2.5  11.1  13.6  3.7  0.7  1.9  3.5  3.3  27.5   \n",
       " 4    19.9  ...  1.0   7.4   8.5  8.3  1.3  0.6  3.6  1.7  27.4   \n",
       " ..    ...  ...  ...   ...   ...  ...  ...  ...  ...  ...   ...   \n",
       " 704   1.0  ...  0.0   0.0   0.0  0.0  1.0  0.0  1.0  0.0   0.0   \n",
       " 705   0.0  ...  0.0   0.0   0.0  0.0  0.0  0.0  0.0  0.0   0.0   \n",
       " 706   0.0  ...  0.0   0.0   0.0  0.0  0.0  0.0  0.0  0.0   0.0   \n",
       " 707   0.7  ...  0.3   0.3   0.7  0.0  0.0  0.0  0.0  0.0   0.0   \n",
       " 708   NaN  ...  NaN   NaN   NaN  NaN  NaN  NaN  NaN  NaN   NaN   \n",
       " \n",
       "                    Awards  \n",
       " 0           MVP-2,AS,NBA1  \n",
       " 1    MVP-3,DPOY-3,AS,NBA1  \n",
       " 2    MVP-1,DPOY-2,AS,NBA1  \n",
       " 3    MVP-7,DPOY-4,AS,NBA2  \n",
       " 4          MVP-11,AS,NBA3  \n",
       " ..                    ...  \n",
       " 704                   NaN  \n",
       " 705                   NaN  \n",
       " 706                   NaN  \n",
       " 707                   NaN  \n",
       " 708                   NaN  \n",
       " \n",
       " [709 rows x 31 columns],\n",
       "         Rk             Player   Age Team  Pos     G    GS    MP    FG   FGA  \\\n",
       " 0      1.0       Kevin Durant  30.0  GSW   SF  12.0  12.0  36.8  10.4  20.3   \n",
       " 1      2.0       James Harden  29.0  HOU   PG  11.0  11.0  38.5   9.9  24.0   \n",
       " 2      3.0      Kawhi Leonard  27.0  TOR   SF  24.0  24.0  39.1  10.1  20.7   \n",
       " 3      4.0        Paul George  28.0  OKC   SF   5.0   5.0  40.8   8.8  20.2   \n",
       " 4      5.0      Stephen Curry  30.0  GSW   PG  22.0  22.0  38.5   8.6  19.6   \n",
       " ..     ...                ...   ...  ...  ...   ...   ...   ...   ...   ...   \n",
       " 208  209.0       Zhaire Smith  19.0  PHI   SG   2.0   0.0   2.5   0.0   0.0   \n",
       " 209  210.0      Edmond Sumner  23.0  IND   PG   1.0   0.0   2.0   0.0   0.0   \n",
       " 210  211.0          Ekpe Udoh  31.0  UTA    C   2.0   0.0   3.0   0.0   0.5   \n",
       " 211  212.0  Jarred Vanderbilt  19.0  DEN   PF   3.0   0.0   1.7   0.0   0.0   \n",
       " 212    NaN     League Average   NaN  NaN  NaN   NaN   NaN   NaN   NaN   NaN   \n",
       " \n",
       "      ...  ORB  DRB  TRB  AST  STL  BLK  TOV   PF   PTS        Awards  \n",
       " 0    ...  0.1  4.8  4.9  4.5  1.1  1.0  3.6  3.2  32.3           NaN  \n",
       " 1    ...  0.8  6.0  6.8  6.6  2.2  0.9  4.6  3.7  31.6           NaN  \n",
       " 2    ...  2.3  6.8  9.1  3.9  1.7  0.7  3.1  2.3  30.5  Finals MVP-1  \n",
       " 3    ...  1.2  7.4  8.6  3.6  1.4  0.2  4.2  4.2  28.6           NaN  \n",
       " 4    ...  0.8  5.2  6.0  5.7  1.1  0.2  3.0  3.1  28.2           NaN  \n",
       " ..   ...  ...  ...  ...  ...  ...  ...  ...  ...   ...           ...  \n",
       " 208  ...  0.0  0.0  0.0  0.0  0.5  0.0  0.0  0.0   0.0           NaN  \n",
       " 209  ...  0.0  2.0  2.0  0.0  0.0  0.0  0.0  0.0   0.0           NaN  \n",
       " 210  ...  0.0  0.0  0.0  0.0  0.0  0.0  0.0  0.0   0.0           NaN  \n",
       " 211  ...  0.0  0.3  0.3  0.0  0.0  0.3  0.0  0.0   0.0           NaN  \n",
       " 212  ...  NaN  NaN  NaN  NaN  NaN  NaN  NaN  NaN   NaN           NaN  \n",
       " \n",
       " [213 rows x 31 columns]]"
      ]
     },
     "execution_count": 24,
     "metadata": {},
     "output_type": "execute_result"
    }
   ],
   "source": [
    "df = pd.read_html(url, header = 0)\n",
    "df"
   ]
  },
  {
   "cell_type": "markdown",
   "metadata": {
    "colab_type": "text",
    "id": "iVtWB7zuUWIp"
   },
   "source": [
    "### How many tables are there in the webpage?"
   ]
  },
  {
   "cell_type": "code",
   "execution_count": 25,
   "metadata": {
    "colab": {
     "base_uri": "https://localhost:8080/",
     "height": 35
    },
    "colab_type": "code",
    "id": "BdIXrthuTApH",
    "outputId": "07350119-b55a-49fb-c62d-7d2a680f6248"
   },
   "outputs": [
    {
     "data": {
      "text/plain": [
       "2"
      ]
     },
     "execution_count": 25,
     "metadata": {},
     "output_type": "execute_result"
    }
   ],
   "source": [
    "len(df)"
   ]
  },
  {
   "cell_type": "markdown",
   "metadata": {
    "colab_type": "text",
    "id": "glCMVlkWU6ik"
   },
   "source": [
    "### Select the first table"
   ]
  },
  {
   "cell_type": "code",
   "execution_count": 26,
   "metadata": {
    "colab": {
     "base_uri": "https://localhost:8080/",
     "height": 609
    },
    "colab_type": "code",
    "id": "Pv0NHbFeTrEp",
    "outputId": "f54f309e-6321-4267-9bb1-d0a9c6c050a9"
   },
   "outputs": [
    {
     "data": {
      "text/html": [
       "<div>\n",
       "<style scoped>\n",
       "    .dataframe tbody tr th:only-of-type {\n",
       "        vertical-align: middle;\n",
       "    }\n",
       "\n",
       "    .dataframe tbody tr th {\n",
       "        vertical-align: top;\n",
       "    }\n",
       "\n",
       "    .dataframe thead th {\n",
       "        text-align: right;\n",
       "    }\n",
       "</style>\n",
       "<table border=\"1\" class=\"dataframe\">\n",
       "  <thead>\n",
       "    <tr style=\"text-align: right;\">\n",
       "      <th></th>\n",
       "      <th>Rk</th>\n",
       "      <th>Player</th>\n",
       "      <th>Age</th>\n",
       "      <th>Team</th>\n",
       "      <th>Pos</th>\n",
       "      <th>G</th>\n",
       "      <th>GS</th>\n",
       "      <th>MP</th>\n",
       "      <th>FG</th>\n",
       "      <th>FGA</th>\n",
       "      <th>...</th>\n",
       "      <th>ORB</th>\n",
       "      <th>DRB</th>\n",
       "      <th>TRB</th>\n",
       "      <th>AST</th>\n",
       "      <th>STL</th>\n",
       "      <th>BLK</th>\n",
       "      <th>TOV</th>\n",
       "      <th>PF</th>\n",
       "      <th>PTS</th>\n",
       "      <th>Awards</th>\n",
       "    </tr>\n",
       "  </thead>\n",
       "  <tbody>\n",
       "    <tr>\n",
       "      <th>0</th>\n",
       "      <td>1.0</td>\n",
       "      <td>James Harden</td>\n",
       "      <td>29.0</td>\n",
       "      <td>HOU</td>\n",
       "      <td>PG</td>\n",
       "      <td>78.0</td>\n",
       "      <td>78.0</td>\n",
       "      <td>36.8</td>\n",
       "      <td>10.8</td>\n",
       "      <td>24.5</td>\n",
       "      <td>...</td>\n",
       "      <td>0.8</td>\n",
       "      <td>5.8</td>\n",
       "      <td>6.6</td>\n",
       "      <td>7.5</td>\n",
       "      <td>2.0</td>\n",
       "      <td>0.7</td>\n",
       "      <td>5.0</td>\n",
       "      <td>3.1</td>\n",
       "      <td>36.1</td>\n",
       "      <td>MVP-2,AS,NBA1</td>\n",
       "    </tr>\n",
       "    <tr>\n",
       "      <th>1</th>\n",
       "      <td>2.0</td>\n",
       "      <td>Paul George</td>\n",
       "      <td>28.0</td>\n",
       "      <td>OKC</td>\n",
       "      <td>SF</td>\n",
       "      <td>77.0</td>\n",
       "      <td>77.0</td>\n",
       "      <td>36.9</td>\n",
       "      <td>9.2</td>\n",
       "      <td>21.0</td>\n",
       "      <td>...</td>\n",
       "      <td>1.4</td>\n",
       "      <td>6.8</td>\n",
       "      <td>8.2</td>\n",
       "      <td>4.1</td>\n",
       "      <td>2.2</td>\n",
       "      <td>0.4</td>\n",
       "      <td>2.7</td>\n",
       "      <td>2.8</td>\n",
       "      <td>28.0</td>\n",
       "      <td>MVP-3,DPOY-3,AS,NBA1</td>\n",
       "    </tr>\n",
       "    <tr>\n",
       "      <th>2</th>\n",
       "      <td>3.0</td>\n",
       "      <td>Giannis Antetokounmpo</td>\n",
       "      <td>24.0</td>\n",
       "      <td>MIL</td>\n",
       "      <td>PF</td>\n",
       "      <td>72.0</td>\n",
       "      <td>72.0</td>\n",
       "      <td>32.8</td>\n",
       "      <td>10.0</td>\n",
       "      <td>17.3</td>\n",
       "      <td>...</td>\n",
       "      <td>2.2</td>\n",
       "      <td>10.3</td>\n",
       "      <td>12.5</td>\n",
       "      <td>5.9</td>\n",
       "      <td>1.3</td>\n",
       "      <td>1.5</td>\n",
       "      <td>3.7</td>\n",
       "      <td>3.2</td>\n",
       "      <td>27.7</td>\n",
       "      <td>MVP-1,DPOY-2,AS,NBA1</td>\n",
       "    </tr>\n",
       "    <tr>\n",
       "      <th>3</th>\n",
       "      <td>4.0</td>\n",
       "      <td>Joel Embiid</td>\n",
       "      <td>24.0</td>\n",
       "      <td>PHI</td>\n",
       "      <td>C</td>\n",
       "      <td>64.0</td>\n",
       "      <td>64.0</td>\n",
       "      <td>33.7</td>\n",
       "      <td>9.1</td>\n",
       "      <td>18.7</td>\n",
       "      <td>...</td>\n",
       "      <td>2.5</td>\n",
       "      <td>11.1</td>\n",
       "      <td>13.6</td>\n",
       "      <td>3.7</td>\n",
       "      <td>0.7</td>\n",
       "      <td>1.9</td>\n",
       "      <td>3.5</td>\n",
       "      <td>3.3</td>\n",
       "      <td>27.5</td>\n",
       "      <td>MVP-7,DPOY-4,AS,NBA2</td>\n",
       "    </tr>\n",
       "    <tr>\n",
       "      <th>4</th>\n",
       "      <td>5.0</td>\n",
       "      <td>LeBron James</td>\n",
       "      <td>34.0</td>\n",
       "      <td>LAL</td>\n",
       "      <td>SF</td>\n",
       "      <td>55.0</td>\n",
       "      <td>55.0</td>\n",
       "      <td>35.2</td>\n",
       "      <td>10.1</td>\n",
       "      <td>19.9</td>\n",
       "      <td>...</td>\n",
       "      <td>1.0</td>\n",
       "      <td>7.4</td>\n",
       "      <td>8.5</td>\n",
       "      <td>8.3</td>\n",
       "      <td>1.3</td>\n",
       "      <td>0.6</td>\n",
       "      <td>3.6</td>\n",
       "      <td>1.7</td>\n",
       "      <td>27.4</td>\n",
       "      <td>MVP-11,AS,NBA3</td>\n",
       "    </tr>\n",
       "    <tr>\n",
       "      <th>...</th>\n",
       "      <td>...</td>\n",
       "      <td>...</td>\n",
       "      <td>...</td>\n",
       "      <td>...</td>\n",
       "      <td>...</td>\n",
       "      <td>...</td>\n",
       "      <td>...</td>\n",
       "      <td>...</td>\n",
       "      <td>...</td>\n",
       "      <td>...</td>\n",
       "      <td>...</td>\n",
       "      <td>...</td>\n",
       "      <td>...</td>\n",
       "      <td>...</td>\n",
       "      <td>...</td>\n",
       "      <td>...</td>\n",
       "      <td>...</td>\n",
       "      <td>...</td>\n",
       "      <td>...</td>\n",
       "      <td>...</td>\n",
       "      <td>...</td>\n",
       "    </tr>\n",
       "    <tr>\n",
       "      <th>704</th>\n",
       "      <td>527.0</td>\n",
       "      <td>Zach Lofton</td>\n",
       "      <td>26.0</td>\n",
       "      <td>DET</td>\n",
       "      <td>SG</td>\n",
       "      <td>1.0</td>\n",
       "      <td>0.0</td>\n",
       "      <td>4.0</td>\n",
       "      <td>0.0</td>\n",
       "      <td>1.0</td>\n",
       "      <td>...</td>\n",
       "      <td>0.0</td>\n",
       "      <td>0.0</td>\n",
       "      <td>0.0</td>\n",
       "      <td>0.0</td>\n",
       "      <td>1.0</td>\n",
       "      <td>0.0</td>\n",
       "      <td>1.0</td>\n",
       "      <td>0.0</td>\n",
       "      <td>0.0</td>\n",
       "      <td>NaN</td>\n",
       "    </tr>\n",
       "    <tr>\n",
       "      <th>705</th>\n",
       "      <td>528.0</td>\n",
       "      <td>Kobi Simmons</td>\n",
       "      <td>21.0</td>\n",
       "      <td>CLE</td>\n",
       "      <td>PG</td>\n",
       "      <td>1.0</td>\n",
       "      <td>0.0</td>\n",
       "      <td>2.0</td>\n",
       "      <td>0.0</td>\n",
       "      <td>0.0</td>\n",
       "      <td>...</td>\n",
       "      <td>0.0</td>\n",
       "      <td>0.0</td>\n",
       "      <td>0.0</td>\n",
       "      <td>0.0</td>\n",
       "      <td>0.0</td>\n",
       "      <td>0.0</td>\n",
       "      <td>0.0</td>\n",
       "      <td>0.0</td>\n",
       "      <td>0.0</td>\n",
       "      <td>NaN</td>\n",
       "    </tr>\n",
       "    <tr>\n",
       "      <th>706</th>\n",
       "      <td>529.0</td>\n",
       "      <td>Tyler Ulis</td>\n",
       "      <td>23.0</td>\n",
       "      <td>CHI</td>\n",
       "      <td>PG</td>\n",
       "      <td>1.0</td>\n",
       "      <td>0.0</td>\n",
       "      <td>1.0</td>\n",
       "      <td>0.0</td>\n",
       "      <td>0.0</td>\n",
       "      <td>...</td>\n",
       "      <td>0.0</td>\n",
       "      <td>0.0</td>\n",
       "      <td>0.0</td>\n",
       "      <td>0.0</td>\n",
       "      <td>0.0</td>\n",
       "      <td>0.0</td>\n",
       "      <td>0.0</td>\n",
       "      <td>0.0</td>\n",
       "      <td>0.0</td>\n",
       "      <td>NaN</td>\n",
       "    </tr>\n",
       "    <tr>\n",
       "      <th>707</th>\n",
       "      <td>530.0</td>\n",
       "      <td>Okaro White</td>\n",
       "      <td>26.0</td>\n",
       "      <td>WAS</td>\n",
       "      <td>PF</td>\n",
       "      <td>3.0</td>\n",
       "      <td>0.0</td>\n",
       "      <td>2.0</td>\n",
       "      <td>0.0</td>\n",
       "      <td>0.7</td>\n",
       "      <td>...</td>\n",
       "      <td>0.3</td>\n",
       "      <td>0.3</td>\n",
       "      <td>0.7</td>\n",
       "      <td>0.0</td>\n",
       "      <td>0.0</td>\n",
       "      <td>0.0</td>\n",
       "      <td>0.0</td>\n",
       "      <td>0.0</td>\n",
       "      <td>0.0</td>\n",
       "      <td>NaN</td>\n",
       "    </tr>\n",
       "    <tr>\n",
       "      <th>708</th>\n",
       "      <td>NaN</td>\n",
       "      <td>League Average</td>\n",
       "      <td>NaN</td>\n",
       "      <td>NaN</td>\n",
       "      <td>NaN</td>\n",
       "      <td>NaN</td>\n",
       "      <td>NaN</td>\n",
       "      <td>NaN</td>\n",
       "      <td>NaN</td>\n",
       "      <td>NaN</td>\n",
       "      <td>...</td>\n",
       "      <td>NaN</td>\n",
       "      <td>NaN</td>\n",
       "      <td>NaN</td>\n",
       "      <td>NaN</td>\n",
       "      <td>NaN</td>\n",
       "      <td>NaN</td>\n",
       "      <td>NaN</td>\n",
       "      <td>NaN</td>\n",
       "      <td>NaN</td>\n",
       "      <td>NaN</td>\n",
       "    </tr>\n",
       "  </tbody>\n",
       "</table>\n",
       "<p>709 rows × 31 columns</p>\n",
       "</div>"
      ],
      "text/plain": [
       "        Rk                 Player   Age Team  Pos     G    GS    MP    FG  \\\n",
       "0      1.0           James Harden  29.0  HOU   PG  78.0  78.0  36.8  10.8   \n",
       "1      2.0            Paul George  28.0  OKC   SF  77.0  77.0  36.9   9.2   \n",
       "2      3.0  Giannis Antetokounmpo  24.0  MIL   PF  72.0  72.0  32.8  10.0   \n",
       "3      4.0            Joel Embiid  24.0  PHI    C  64.0  64.0  33.7   9.1   \n",
       "4      5.0           LeBron James  34.0  LAL   SF  55.0  55.0  35.2  10.1   \n",
       "..     ...                    ...   ...  ...  ...   ...   ...   ...   ...   \n",
       "704  527.0            Zach Lofton  26.0  DET   SG   1.0   0.0   4.0   0.0   \n",
       "705  528.0           Kobi Simmons  21.0  CLE   PG   1.0   0.0   2.0   0.0   \n",
       "706  529.0             Tyler Ulis  23.0  CHI   PG   1.0   0.0   1.0   0.0   \n",
       "707  530.0            Okaro White  26.0  WAS   PF   3.0   0.0   2.0   0.0   \n",
       "708    NaN         League Average   NaN  NaN  NaN   NaN   NaN   NaN   NaN   \n",
       "\n",
       "      FGA  ...  ORB   DRB   TRB  AST  STL  BLK  TOV   PF   PTS  \\\n",
       "0    24.5  ...  0.8   5.8   6.6  7.5  2.0  0.7  5.0  3.1  36.1   \n",
       "1    21.0  ...  1.4   6.8   8.2  4.1  2.2  0.4  2.7  2.8  28.0   \n",
       "2    17.3  ...  2.2  10.3  12.5  5.9  1.3  1.5  3.7  3.2  27.7   \n",
       "3    18.7  ...  2.5  11.1  13.6  3.7  0.7  1.9  3.5  3.3  27.5   \n",
       "4    19.9  ...  1.0   7.4   8.5  8.3  1.3  0.6  3.6  1.7  27.4   \n",
       "..    ...  ...  ...   ...   ...  ...  ...  ...  ...  ...   ...   \n",
       "704   1.0  ...  0.0   0.0   0.0  0.0  1.0  0.0  1.0  0.0   0.0   \n",
       "705   0.0  ...  0.0   0.0   0.0  0.0  0.0  0.0  0.0  0.0   0.0   \n",
       "706   0.0  ...  0.0   0.0   0.0  0.0  0.0  0.0  0.0  0.0   0.0   \n",
       "707   0.7  ...  0.3   0.3   0.7  0.0  0.0  0.0  0.0  0.0   0.0   \n",
       "708   NaN  ...  NaN   NaN   NaN  NaN  NaN  NaN  NaN  NaN   NaN   \n",
       "\n",
       "                   Awards  \n",
       "0           MVP-2,AS,NBA1  \n",
       "1    MVP-3,DPOY-3,AS,NBA1  \n",
       "2    MVP-1,DPOY-2,AS,NBA1  \n",
       "3    MVP-7,DPOY-4,AS,NBA2  \n",
       "4          MVP-11,AS,NBA3  \n",
       "..                    ...  \n",
       "704                   NaN  \n",
       "705                   NaN  \n",
       "706                   NaN  \n",
       "707                   NaN  \n",
       "708                   NaN  \n",
       "\n",
       "[709 rows x 31 columns]"
      ]
     },
     "execution_count": 26,
     "metadata": {},
     "output_type": "execute_result"
    }
   ],
   "source": [
    "df[0]"
   ]
  },
  {
   "cell_type": "code",
   "execution_count": 28,
   "metadata": {
    "colab": {},
    "colab_type": "code",
    "id": "owwSCuZYU-sT"
   },
   "outputs": [],
   "source": [
    "df2019 = df[0]"
   ]
  },
  {
   "cell_type": "code",
   "execution_count": 0,
   "metadata": {
    "colab": {},
    "colab_type": "code",
    "id": "LnK9JHQ9VFkq"
   },
   "outputs": [],
   "source": []
  },
  {
   "cell_type": "markdown",
   "metadata": {
    "colab_type": "text",
    "id": "laW205ykvn0S"
   },
   "source": [
    "## Data cleaning"
   ]
  },
  {
   "cell_type": "markdown",
   "metadata": {
    "colab_type": "text",
    "id": "b-cH41xd54Tw"
   },
   "source": [
    "We can see that the table header is presented multiple times in several rows."
   ]
  },
  {
   "cell_type": "code",
   "execution_count": 29,
   "metadata": {
    "colab": {
     "base_uri": "https://localhost:8080/",
     "height": 875
    },
    "colab_type": "code",
    "id": "6St9yeuZg9rf",
    "outputId": "52413e55-62b5-4d5d-9f20-b32d9b60dc7e"
   },
   "outputs": [
    {
     "data": {
      "text/html": [
       "<div>\n",
       "<style scoped>\n",
       "    .dataframe tbody tr th:only-of-type {\n",
       "        vertical-align: middle;\n",
       "    }\n",
       "\n",
       "    .dataframe tbody tr th {\n",
       "        vertical-align: top;\n",
       "    }\n",
       "\n",
       "    .dataframe thead th {\n",
       "        text-align: right;\n",
       "    }\n",
       "</style>\n",
       "<table border=\"1\" class=\"dataframe\">\n",
       "  <thead>\n",
       "    <tr style=\"text-align: right;\">\n",
       "      <th></th>\n",
       "      <th>Rk</th>\n",
       "      <th>Player</th>\n",
       "      <th>Age</th>\n",
       "      <th>Team</th>\n",
       "      <th>Pos</th>\n",
       "      <th>G</th>\n",
       "      <th>GS</th>\n",
       "      <th>MP</th>\n",
       "      <th>FG</th>\n",
       "      <th>FGA</th>\n",
       "      <th>...</th>\n",
       "      <th>ORB</th>\n",
       "      <th>DRB</th>\n",
       "      <th>TRB</th>\n",
       "      <th>AST</th>\n",
       "      <th>STL</th>\n",
       "      <th>BLK</th>\n",
       "      <th>TOV</th>\n",
       "      <th>PF</th>\n",
       "      <th>PTS</th>\n",
       "      <th>Awards</th>\n",
       "    </tr>\n",
       "  </thead>\n",
       "  <tbody>\n",
       "  </tbody>\n",
       "</table>\n",
       "<p>0 rows × 31 columns</p>\n",
       "</div>"
      ],
      "text/plain": [
       "Empty DataFrame\n",
       "Columns: [Rk, Player, Age, Team, Pos, G, GS, MP, FG, FGA, FG%, 3P, 3PA, 3P%, 2P, 2PA, 2P%, eFG%, FT, FTA, FT%, ORB, DRB, TRB, AST, STL, BLK, TOV, PF, PTS, Awards]\n",
       "Index: []\n",
       "\n",
       "[0 rows x 31 columns]"
      ]
     },
     "execution_count": 29,
     "metadata": {},
     "output_type": "execute_result"
    }
   ],
   "source": [
    "df2019[df2019.Age == 'Age']"
   ]
  },
  {
   "cell_type": "code",
   "execution_count": 30,
   "metadata": {
    "colab": {
     "base_uri": "https://localhost:8080/",
     "height": 35
    },
    "colab_type": "code",
    "id": "rdRg9UDI5lus",
    "outputId": "ef54c243-cf5b-4695-f780-7a8483ec7b51"
   },
   "outputs": [
    {
     "data": {
      "text/plain": [
       "0"
      ]
     },
     "execution_count": 30,
     "metadata": {},
     "output_type": "execute_result"
    }
   ],
   "source": [
    "len(df2019[df2019.Age == 'Age'])"
   ]
  },
  {
   "cell_type": "code",
   "execution_count": 31,
   "metadata": {
    "colab": {},
    "colab_type": "code",
    "id": "lG34yiD5e_Cs"
   },
   "outputs": [],
   "source": [
    "df = df2019.drop(df2019[df2019.Age == 'Age'].index)"
   ]
  },
  {
   "cell_type": "code",
   "execution_count": 32,
   "metadata": {
    "colab": {
     "base_uri": "https://localhost:8080/",
     "height": 35
    },
    "colab_type": "code",
    "id": "1DwL0sq-u7wF",
    "outputId": "6b159909-d654-46da-fc54-cdeab3dd5703"
   },
   "outputs": [
    {
     "data": {
      "text/plain": [
       "(709, 31)"
      ]
     },
     "execution_count": 32,
     "metadata": {},
     "output_type": "execute_result"
    }
   ],
   "source": [
    "df.shape"
   ]
  },
  {
   "cell_type": "markdown",
   "metadata": {
    "colab_type": "text",
    "id": "o4x9M9ArXl7l"
   },
   "source": [
    "## Quick Exploratory Data Analysis"
   ]
  },
  {
   "cell_type": "code",
   "execution_count": 33,
   "metadata": {
    "colab": {},
    "colab_type": "code",
    "id": "Vw0kwGHNgSMS"
   },
   "outputs": [],
   "source": [
    "import seaborn as sns"
   ]
  },
  {
   "cell_type": "markdown",
   "metadata": {
    "colab_type": "text",
    "id": "Vw77h9jPEd2z"
   },
   "source": [
    "Making the histogram"
   ]
  },
  {
   "cell_type": "code",
   "execution_count": 34,
   "metadata": {
    "colab": {
     "base_uri": "https://localhost:8080/",
     "height": 297
    },
    "colab_type": "code",
    "id": "NqU0tBcuh-5V",
    "outputId": "5dee0c28-2fff-4394-d464-e3fba3e58462"
   },
   "outputs": [
    {
     "name": "stderr",
     "output_type": "stream",
     "text": [
      "C:\\Users\\furka\\AppData\\Local\\Temp\\ipykernel_52204\\3257517410.py:1: UserWarning: \n",
      "\n",
      "`distplot` is a deprecated function and will be removed in seaborn v0.14.0.\n",
      "\n",
      "Please adapt your code to use either `displot` (a figure-level function with\n",
      "similar flexibility) or `histplot` (an axes-level function for histograms).\n",
      "\n",
      "For a guide to updating your code to use the new functions, please see\n",
      "https://gist.github.com/mwaskom/de44147ed2974457ad6372750bbe5751\n",
      "\n",
      "  sns.distplot(df.PTS,\n"
     ]
    },
    {
     "data": {
      "text/plain": [
       "<Axes: xlabel='PTS'>"
      ]
     },
     "execution_count": 34,
     "metadata": {},
     "output_type": "execute_result"
    },
    {
     "data": {
      "image/png": "[encoded data removed]",
      "text/plain": [
       "<Figure size 640x480 with 1 Axes>"
      ]
     },
     "metadata": {},
     "output_type": "display_data"
    }
   ],
   "source": [
    "sns.distplot(df.PTS, \n",
    "             kde=False)"
   ]
  },
  {
   "cell_type": "markdown",
   "metadata": {
    "colab_type": "text",
    "id": "aXcBxnrBEWGj"
   },
   "source": [
    "Change bar line color"
   ]
  },
  {
   "cell_type": "code",
   "execution_count": 35,
   "metadata": {
    "colab": {
     "base_uri": "https://localhost:8080/",
     "height": 297
    },
    "colab_type": "code",
    "id": "ImyO9mMGkkTm",
    "outputId": "f49041de-56a2-4c3f-a6f3-da321b092c3d"
   },
   "outputs": [
    {
     "name": "stderr",
     "output_type": "stream",
     "text": [
      "C:\\Users\\furka\\AppData\\Local\\Temp\\ipykernel_52204\\2976433059.py:1: UserWarning: \n",
      "\n",
      "`distplot` is a deprecated function and will be removed in seaborn v0.14.0.\n",
      "\n",
      "Please adapt your code to use either `displot` (a figure-level function with\n",
      "similar flexibility) or `histplot` (an axes-level function for histograms).\n",
      "\n",
      "For a guide to updating your code to use the new functions, please see\n",
      "https://gist.github.com/mwaskom/de44147ed2974457ad6372750bbe5751\n",
      "\n",
      "  sns.distplot(df.PTS,\n"
     ]
    },
    {
     "data": {
      "text/plain": [
       "<Axes: xlabel='PTS'>"
      ]
     },
     "execution_count": 35,
     "metadata": {},
     "output_type": "execute_result"
    },
    {
     "data": {
      "image/png": "[encoded data removed]",
      "text/plain": [
       "<Figure size 640x480 with 1 Axes>"
      ]
     },
     "metadata": {},
     "output_type": "display_data"
    }
   ],
   "source": [
    "sns.distplot(df.PTS, \n",
    "             kde=False,\n",
    "             hist_kws=dict(edgecolor=\"black\", linewidth=2))"
   ]
  },
  {
   "cell_type": "markdown",
   "metadata": {
    "colab_type": "text",
    "id": "uqkKFD4LEjoH"
   },
   "source": [
    "Change bar fill colors"
   ]
  },
  {
   "cell_type": "code",
   "execution_count": 45,
   "metadata": {
    "colab": {
     "base_uri": "https://localhost:8080/",
     "height": 297
    },
    "colab_type": "code",
    "id": "RtdOAqjL34Vl",
    "outputId": "4c8ebb7d-b4d1-41da-c460-bebd9ab4a33b"
   },
   "outputs": [
    {
     "name": "stderr",
     "output_type": "stream",
     "text": [
      "C:\\Users\\furka\\AppData\\Local\\Temp\\ipykernel_52204\\3508805721.py:1: UserWarning: \n",
      "\n",
      "`distplot` is a deprecated function and will be removed in seaborn v0.14.0.\n",
      "\n",
      "Please adapt your code to use either `displot` (a figure-level function with\n",
      "similar flexibility) or `histplot` (an axes-level function for histograms).\n",
      "\n",
      "For a guide to updating your code to use the new functions, please see\n",
      "https://gist.github.com/mwaskom/de44147ed2974457ad6372750bbe5751\n",
      "\n",
      "  sns.distplot(df.PTS,\n"
     ]
    },
    {
     "data": {
      "text/plain": [
       "<Axes: xlabel='PTS'>"
      ]
     },
     "execution_count": 45,
     "metadata": {},
     "output_type": "execute_result"
    },
    {
     "data": {
      "image/png": "[encoded data removed]",
      "text/plain": [
       "<Figure size 640x480 with 1 Axes>"
      ]
     },
     "metadata": {},
     "output_type": "display_data"
    }
   ],
   "source": [
    "sns.distplot(df.PTS,\n",
    "             kde=False,\n",
    "             hist_kws=dict(edgecolor=\"black\", linewidth=2),\n",
    "             color='#11BFC9')"
   ]
  }
 ],
 "metadata": {
  "colab": {
   "collapsed_sections": [],
   "name": "pandas-read-html-for-webscraping.ipynb",
   "provenance": []
  },
  "kernelspec": {
   "display_name": "Python 3 (ipykernel)",
   "language": "python",
   "name": "python3"
  },
  "language_info": {
   "codemirror_mode": {
    "name": "ipython",
    "version": 3
   },
   "file_extension": ".py",
   "mimetype": "text/x-python",
   "name": "python",
   "nbconvert_exporter": "python",
   "pygments_lexer": "ipython3",
   "version": "3.11.5"
  }
 },
 "nbformat": 4,
 "nbformat_minor": 1
}
