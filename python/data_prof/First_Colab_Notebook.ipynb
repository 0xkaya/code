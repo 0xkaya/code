{
  "nbformat": 4,
  "nbformat_minor": 0,
  "metadata": {
    "colab": {
      "provenance": [],
      "toc_visible": true
    },
    "kernelspec": {
      "name": "python3",
      "display_name": "Python 3"
    },
    "language_info": {
      "name": "python"
    }
  },
  "cells": [
    {
      "cell_type": "code",
      "execution_count": null,
      "metadata": {
        "id": "z_XLhSwOmccn"
      },
      "outputs": [],
      "source": []
    },
    {
      "cell_type": "markdown",
      "source": [
        "\n",
        "# HELLO WORLD\n",
        "\n",
        "This represent the contents of heading 1."
      ],
      "metadata": {
        "id": "WvNWTR8wmhO_"
      }
    },
    {
      "cell_type": "code",
      "source": [
        "a = 1"
      ],
      "metadata": {
        "id": "HtLqA4nxmp82"
      },
      "execution_count": 2,
      "outputs": []
    },
    {
      "cell_type": "code",
      "source": [
        "b = \"data\""
      ],
      "metadata": {
        "id": "tixRb3d8my1S"
      },
      "execution_count": 5,
      "outputs": []
    },
    {
      "cell_type": "code",
      "source": [
        "c = [1,2,3,4,5]"
      ],
      "metadata": {
        "id": "XCBqVDPrm1iy"
      },
      "execution_count": 7,
      "outputs": []
    },
    {
      "cell_type": "code",
      "source": [],
      "metadata": {
        "id": "ouzFw7tHm4US"
      },
      "execution_count": null,
      "outputs": []
    },
    {
      "cell_type": "markdown",
      "source": [
        "## What's up\n",
        "Only judge can judge me."
      ],
      "metadata": {
        "id": "L4j2OAlhm-A1"
      }
    },
    {
      "cell_type": "markdown",
      "source": [
        "### All eyes on me"
      ],
      "metadata": {
        "id": "h279s_tonNs4"
      }
    },
    {
      "cell_type": "markdown",
      "source": [
        "***Importing necessary libraries.***"
      ],
      "metadata": {
        "id": "0Rc09lPnn4JN"
      }
    },
    {
      "cell_type": "code",
      "source": [
        "import pandas as pd\n",
        "import seaborn as sns\n",
        "import numpy as np\n",
        "import sklearn as sk\n",
        "import matplotlib as plt"
      ],
      "metadata": {
        "id": "m5whxw3anosR"
      },
      "execution_count": 11,
      "outputs": []
    },
    {
      "cell_type": "markdown",
      "source": [
        "Downloading a package that not already exist."
      ],
      "metadata": {
        "id": "CvijGR6doRad"
      }
    },
    {
      "cell_type": "code",
      "source": [
        "! pip install py3Dmol"
      ],
      "metadata": {
        "colab": {
          "base_uri": "https://localhost:8080/"
        },
        "id": "jiuiaXAaoGsn",
        "outputId": "1b2d31a8-b1fe-4e3a-8412-9d3817dc6312"
      },
      "execution_count": 15,
      "outputs": [
        {
          "output_type": "stream",
          "name": "stdout",
          "text": [
            "Collecting py3Dmol\n",
            "  Downloading py3Dmol-2.4.0-py2.py3-none-any.whl.metadata (1.9 kB)\n",
            "Downloading py3Dmol-2.4.0-py2.py3-none-any.whl (7.0 kB)\n",
            "Installing collected packages: py3Dmol\n",
            "Successfully installed py3Dmol-2.4.0\n"
          ]
        }
      ]
    }
  ]
}