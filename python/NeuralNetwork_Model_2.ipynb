{
 "cells": [
  {
   "cell_type": "markdown",
   "id": "7a94af69-d0d1-469c-9367-337e6b56c740",
   "metadata": {},
   "source": [
    "# Importing Packages"
   ]
  },
  {
   "cell_type": "code",
   "execution_count": 7,
   "id": "888497c5-12b7-4b1e-bcbd-f4a6ef19d61b",
   "metadata": {},
   "outputs": [],
   "source": [
    "import numpy as np\n",
    "from tensorflow.keras.datasets import fashion_mnist\n",
    "from tensorflow.keras.models import Sequential\n",
    "from tensorflow.keras.layers import Dense, Dropout, Flatten\n",
    "from tensorflow.keras.callbacks import EarlyStopping, LearningRateScheduler\n",
    "from tensorflow.keras.utils import to_categorical\n",
    "from sklearn.metrics import classification_report, accuracy_score\n",
    "import matplotlib.pyplot as plt"
   ]
  },
  {
   "cell_type": "markdown",
   "id": "e6092d1e-7f0f-4d48-94da-b98c7621b4a0",
   "metadata": {},
   "source": [
    "# Data Preperation"
   ]
  },
  {
   "cell_type": "markdown",
   "id": "c72b9185-88c8-49e4-b914-5af12124c3e9",
   "metadata": {},
   "source": [
    "## Loading dataset"
   ]
  },
  {
   "cell_type": "code",
   "execution_count": 9,
   "id": "4a2b1016-beed-41d6-8d9d-e343c2dbd0f7",
   "metadata": {},
   "outputs": [
    {
     "name": "stdout",
     "output_type": "stream",
     "text": [
      "Downloading data from https://storage.googleapis.com/tensorflow/tf-keras-datasets/train-labels-idx1-ubyte.gz\n",
      "\u001b[1m29515/29515\u001b[0m \u001b[32m━━━━━━━━━━━━━━━━━━━━\u001b[0m\u001b[37m\u001b[0m \u001b[1m0s\u001b[0m 1us/step\n",
      "Downloading data from https://storage.googleapis.com/tensorflow/tf-keras-datasets/train-images-idx3-ubyte.gz\n",
      "\u001b[1m26421880/26421880\u001b[0m \u001b[32m━━━━━━━━━━━━━━━━━━━━\u001b[0m\u001b[37m\u001b[0m \u001b[1m3s\u001b[0m 0us/step\n",
      "Downloading data from https://storage.googleapis.com/tensorflow/tf-keras-datasets/t10k-labels-idx1-ubyte.gz\n",
      "\u001b[1m5148/5148\u001b[0m \u001b[32m━━━━━━━━━━━━━━━━━━━━\u001b[0m\u001b[37m\u001b[0m \u001b[1m0s\u001b[0m 1us/step\n",
      "Downloading data from https://storage.googleapis.com/tensorflow/tf-keras-datasets/t10k-images-idx3-ubyte.gz\n",
      "\u001b[1m4422102/4422102\u001b[0m \u001b[32m━━━━━━━━━━━━━━━━━━━━\u001b[0m\u001b[37m\u001b[0m \u001b[1m0s\u001b[0m 0us/step\n"
     ]
    }
   ],
   "source": [
    "(X_train, y_train), (X_test, y_test) = fashion_mnist.load_data()"
   ]
  },
  {
   "cell_type": "code",
   "execution_count": 10,
   "id": "f01099b1-5b52-40be-9bfc-02ab600b9cb1",
   "metadata": {},
   "outputs": [],
   "source": [
    "## Normalizing the data"
   ]
  },
  {
   "cell_type": "code",
   "execution_count": 11,
   "id": "4f34fde7-7a8f-4593-9385-4fbd85de6d19",
   "metadata": {},
   "outputs": [],
   "source": [
    "X_train = X_train/255.0\n",
    "X_test = X_test/255.0"
   ]
  },
  {
   "cell_type": "code",
   "execution_count": 12,
   "id": "92c6bb96-82ed-4967-98f7-3d2de104f352",
   "metadata": {},
   "outputs": [],
   "source": [
    "## Reshaping for the neural network"
   ]
  },
  {
   "cell_type": "code",
   "execution_count": 15,
   "id": "326dedb6-3e37-41b6-9b9b-4e75f50bb005",
   "metadata": {},
   "outputs": [],
   "source": [
    "X_train = X_train.reshape(-1, 28*28)\n",
    "X_test = X_test.reshape (-1, 28*28)"
   ]
  },
  {
   "cell_type": "code",
   "execution_count": 16,
   "id": "5a088b62-9a02-48cd-a3b6-df5f766091a0",
   "metadata": {},
   "outputs": [],
   "source": [
    "## One-hot encoding the target labels"
   ]
  },
  {
   "cell_type": "code",
   "execution_count": 17,
   "id": "595c0c71-f071-4ca1-8b5e-2951c2860a78",
   "metadata": {},
   "outputs": [],
   "source": [
    "y_train = to_categorical (y_train,10)\n",
    "y_test = to_categorical (y_test,10)"
   ]
  },
  {
   "cell_type": "code",
   "execution_count": null,
   "id": "a7177510-8b86-490f-bba1-2eb2219be2d8",
   "metadata": {},
   "outputs": [],
   "source": [
    "# Building the model"
   ]
  },
  {
   "cell_type": "code",
   "execution_count": 18,
   "id": "dbb4562c-c7c7-4165-9d20-52efbf0fd51a",
   "metadata": {},
   "outputs": [],
   "source": [
    "## Defining a learning rate schedule function"
   ]
  },
  {
   "cell_type": "code",
   "execution_count": 21,
   "id": "e552ea2e-2d3a-40e2-9eca-ec830ebf9102",
   "metadata": {},
   "outputs": [],
   "source": [
    "def lr_schedule(epoch, lr):\n",
    "    if epoch > 10:\n",
    "        return lr *0.5\n",
    "    return lr"
   ]
  },
  {
   "cell_type": "code",
   "execution_count": 22,
   "id": "0ad892ec-ea0f-4196-9670-e3d744e07a1f",
   "metadata": {},
   "outputs": [],
   "source": [
    "## Building the neural network model with dropout layers"
   ]
  },
  {
   "cell_type": "code",
   "execution_count": 26,
   "id": "6fd083ee-47aa-49fc-8c05-af94a8e1e4b7",
   "metadata": {},
   "outputs": [
    {
     "name": "stderr",
     "output_type": "stream",
     "text": [
      "C:\\Users\\furka\\anaconda3\\Lib\\site-packages\\keras\\src\\layers\\core\\dense.py:87: UserWarning: Do not pass an `input_shape`/`input_dim` argument to a layer. When using Sequential models, prefer using an `Input(shape)` object as the first layer in the model instead.\n",
      "  super().__init__(activity_regularizer=activity_regularizer, **kwargs)\n"
     ]
    }
   ],
   "source": [
    "model = Sequential([\n",
    "    Dense(128, activation = 'relu', input_shape = (784,)),\n",
    "    Dropout(0.3),\n",
    "    Dense(64, activation = 'relu'),\n",
    "    Dropout(0.3),\n",
    "    Dense(10, activation ='softmax')\n",
    "])"
   ]
  },
  {
   "cell_type": "code",
   "execution_count": 27,
   "id": "0e4b6d63-4ac9-4efa-9202-de16f7e8fccb",
   "metadata": {},
   "outputs": [],
   "source": [
    "## Set up early stopping and learning rate scheduler "
   ]
  },
  {
   "cell_type": "code",
   "execution_count": 32,
   "id": "fa145c7b-a9b6-4764-8d01-a5308a0ddef9",
   "metadata": {},
   "outputs": [],
   "source": [
    "early_stopping = EarlyStopping(monitor ='val_loss', patience =3, restore_best_weights = True )\n",
    "lr_scheduler = LearningRateScheduler(lr_schedule)"
   ]
  },
  {
   "cell_type": "code",
   "execution_count": 29,
   "id": "9bba4695-748e-42d9-a9e9-badaba1a7b12",
   "metadata": {},
   "outputs": [],
   "source": [
    "## Training the model with early stopping and learning rate scheduler"
   ]
  },
  {
   "cell_type": "code",
   "execution_count": 38,
   "id": "c0f31d32-c4d8-49e5-883b-8f38a66e6a52",
   "metadata": {},
   "outputs": [
    {
     "name": "stdout",
     "output_type": "stream",
     "text": [
      "Epoch 1/20\n",
      "\u001b[1m750/750\u001b[0m \u001b[32m━━━━━━━━━━━━━━━━━━━━\u001b[0m\u001b[37m\u001b[0m \u001b[1m8s\u001b[0m 7ms/step - accuracy: 0.6557 - loss: 0.9690 - val_accuracy: 0.8457 - val_loss: 0.4337 - learning_rate: 0.0010\n",
      "Epoch 2/20\n",
      "\u001b[1m750/750\u001b[0m \u001b[32m━━━━━━━━━━━━━━━━━━━━\u001b[0m\u001b[37m\u001b[0m \u001b[1m6s\u001b[0m 8ms/step - accuracy: 0.8260 - loss: 0.4961 - val_accuracy: 0.8573 - val_loss: 0.3889 - learning_rate: 0.0010\n",
      "Epoch 3/20\n",
      "\u001b[1m750/750\u001b[0m \u001b[32m━━━━━━━━━━━━━━━━━━━━\u001b[0m\u001b[37m\u001b[0m \u001b[1m9s\u001b[0m 6ms/step - accuracy: 0.8406 - loss: 0.4458 - val_accuracy: 0.8622 - val_loss: 0.3694 - learning_rate: 0.0010\n",
      "Epoch 4/20\n",
      "\u001b[1m750/750\u001b[0m \u001b[32m━━━━━━━━━━━━━━━━━━━━\u001b[0m\u001b[37m\u001b[0m \u001b[1m5s\u001b[0m 7ms/step - accuracy: 0.8504 - loss: 0.4174 - val_accuracy: 0.8728 - val_loss: 0.3610 - learning_rate: 0.0010\n",
      "Epoch 5/20\n",
      "\u001b[1m750/750\u001b[0m \u001b[32m━━━━━━━━━━━━━━━━━━━━\u001b[0m\u001b[37m\u001b[0m \u001b[1m11s\u001b[0m 7ms/step - accuracy: 0.8601 - loss: 0.3833 - val_accuracy: 0.8711 - val_loss: 0.3587 - learning_rate: 0.0010\n",
      "Epoch 6/20\n",
      "\u001b[1m750/750\u001b[0m \u001b[32m━━━━━━━━━━━━━━━━━━━━\u001b[0m\u001b[37m\u001b[0m \u001b[1m6s\u001b[0m 7ms/step - accuracy: 0.8655 - loss: 0.3735 - val_accuracy: 0.8737 - val_loss: 0.3497 - learning_rate: 0.0010\n",
      "Epoch 7/20\n",
      "\u001b[1m750/750\u001b[0m \u001b[32m━━━━━━━━━━━━━━━━━━━━\u001b[0m\u001b[37m\u001b[0m \u001b[1m6s\u001b[0m 7ms/step - accuracy: 0.8713 - loss: 0.3561 - val_accuracy: 0.8779 - val_loss: 0.3373 - learning_rate: 0.0010\n",
      "Epoch 8/20\n",
      "\u001b[1m750/750\u001b[0m \u001b[32m━━━━━━━━━━━━━━━━━━━━\u001b[0m\u001b[37m\u001b[0m \u001b[1m5s\u001b[0m 7ms/step - accuracy: 0.8706 - loss: 0.3581 - val_accuracy: 0.8815 - val_loss: 0.3280 - learning_rate: 0.0010\n",
      "Epoch 9/20\n",
      "\u001b[1m750/750\u001b[0m \u001b[32m━━━━━━━━━━━━━━━━━━━━\u001b[0m\u001b[37m\u001b[0m \u001b[1m6s\u001b[0m 7ms/step - accuracy: 0.8741 - loss: 0.3450 - val_accuracy: 0.8766 - val_loss: 0.3369 - learning_rate: 0.0010\n",
      "Epoch 10/20\n",
      "\u001b[1m750/750\u001b[0m \u001b[32m━━━━━━━━━━━━━━━━━━━━\u001b[0m\u001b[37m\u001b[0m \u001b[1m6s\u001b[0m 7ms/step - accuracy: 0.8734 - loss: 0.3408 - val_accuracy: 0.8803 - val_loss: 0.3309 - learning_rate: 0.0010\n",
      "Epoch 11/20\n",
      "\u001b[1m750/750\u001b[0m \u001b[32m━━━━━━━━━━━━━━━━━━━━\u001b[0m\u001b[37m\u001b[0m \u001b[1m5s\u001b[0m 7ms/step - accuracy: 0.8791 - loss: 0.3314 - val_accuracy: 0.8808 - val_loss: 0.3273 - learning_rate: 0.0010\n",
      "Epoch 12/20\n",
      "\u001b[1m750/750\u001b[0m \u001b[32m━━━━━━━━━━━━━━━━━━━━\u001b[0m\u001b[37m\u001b[0m \u001b[1m5s\u001b[0m 7ms/step - accuracy: 0.8881 - loss: 0.3121 - val_accuracy: 0.8878 - val_loss: 0.3156 - learning_rate: 5.0000e-04\n",
      "Epoch 13/20\n",
      "\u001b[1m750/750\u001b[0m \u001b[32m━━━━━━━━━━━━━━━━━━━━\u001b[0m\u001b[37m\u001b[0m \u001b[1m10s\u001b[0m 7ms/step - accuracy: 0.8937 - loss: 0.2923 - val_accuracy: 0.8911 - val_loss: 0.3107 - learning_rate: 2.5000e-04\n",
      "Epoch 14/20\n",
      "\u001b[1m750/750\u001b[0m \u001b[32m━━━━━━━━━━━━━━━━━━━━\u001b[0m\u001b[37m\u001b[0m \u001b[1m5s\u001b[0m 7ms/step - accuracy: 0.8947 - loss: 0.2825 - val_accuracy: 0.8900 - val_loss: 0.3085 - learning_rate: 1.2500e-04\n",
      "Epoch 15/20\n",
      "\u001b[1m750/750\u001b[0m \u001b[32m━━━━━━━━━━━━━━━━━━━━\u001b[0m\u001b[37m\u001b[0m \u001b[1m5s\u001b[0m 7ms/step - accuracy: 0.8965 - loss: 0.2795 - val_accuracy: 0.8909 - val_loss: 0.3061 - learning_rate: 6.2500e-05\n",
      "Epoch 16/20\n",
      "\u001b[1m750/750\u001b[0m \u001b[32m━━━━━━━━━━━━━━━━━━━━\u001b[0m\u001b[37m\u001b[0m \u001b[1m11s\u001b[0m 8ms/step - accuracy: 0.8972 - loss: 0.2778 - val_accuracy: 0.8917 - val_loss: 0.3058 - learning_rate: 3.1250e-05\n",
      "Epoch 17/20\n",
      "\u001b[1m750/750\u001b[0m \u001b[32m━━━━━━━━━━━━━━━━━━━━\u001b[0m\u001b[37m\u001b[0m \u001b[1m6s\u001b[0m 8ms/step - accuracy: 0.9014 - loss: 0.2728 - val_accuracy: 0.8924 - val_loss: 0.3054 - learning_rate: 1.5625e-05\n",
      "Epoch 18/20\n",
      "\u001b[1m750/750\u001b[0m \u001b[32m━━━━━━━━━━━━━━━━━━━━\u001b[0m\u001b[37m\u001b[0m \u001b[1m10s\u001b[0m 7ms/step - accuracy: 0.8998 - loss: 0.2684 - val_accuracy: 0.8920 - val_loss: 0.3053 - learning_rate: 7.8125e-06\n",
      "Epoch 19/20\n",
      "\u001b[1m750/750\u001b[0m \u001b[32m━━━━━━━━━━━━━━━━━━━━\u001b[0m\u001b[37m\u001b[0m \u001b[1m5s\u001b[0m 7ms/step - accuracy: 0.8978 - loss: 0.2765 - val_accuracy: 0.8926 - val_loss: 0.3052 - learning_rate: 3.9063e-06\n",
      "Epoch 20/20\n",
      "\u001b[1m750/750\u001b[0m \u001b[32m━━━━━━━━━━━━━━━━━━━━\u001b[0m\u001b[37m\u001b[0m \u001b[1m11s\u001b[0m 8ms/step - accuracy: 0.8986 - loss: 0.2716 - val_accuracy: 0.8925 - val_loss: 0.3050 - learning_rate: 1.9531e-06\n"
     ]
    }
   ],
   "source": [
    "model.compile(optimizer = 'adam', loss = 'categorical_crossentropy', metrics =['accuracy'])\n",
    "\n",
    "history = model.fit(\n",
    "    X_train, y_train,\n",
    "    epochs = 20,\n",
    "    batch_size = 64, \n",
    "    validation_split = 0.2,\n",
    "    callbacks =[early_stopping, lr_scheduler]\n",
    ")"
   ]
  },
  {
   "cell_type": "code",
   "execution_count": 34,
   "id": "fbbd16e1-9fa1-4767-a037-443fa41693d6",
   "metadata": {},
   "outputs": [],
   "source": [
    "# Evaluating the model"
   ]
  },
  {
   "cell_type": "code",
   "execution_count": 39,
   "id": "977ca06f-db38-4173-af74-b774d228da2d",
   "metadata": {},
   "outputs": [
    {
     "name": "stdout",
     "output_type": "stream",
     "text": [
      "\u001b[1m313/313\u001b[0m \u001b[32m━━━━━━━━━━━━━━━━━━━━\u001b[0m\u001b[37m\u001b[0m \u001b[1m1s\u001b[0m 3ms/step\n"
     ]
    }
   ],
   "source": [
    "y_pred = np.argmax(model.predict(X_test), axis =1)\n",
    "y_test_classes = np.argmax(y_test, axis =1)"
   ]
  },
  {
   "cell_type": "code",
   "execution_count": 40,
   "id": "a69941cf-7dc1-4ec5-b965-e582475fd7e5",
   "metadata": {},
   "outputs": [],
   "source": [
    "## Printing the accuracy and classification report"
   ]
  },
  {
   "cell_type": "code",
   "execution_count": 43,
   "id": "026dfd04-f5c8-4125-9ac5-b6792e76c442",
   "metadata": {},
   "outputs": [
    {
     "name": "stdout",
     "output_type": "stream",
     "text": [
      "Model Accuracy:  0.8831\n",
      "\n",
      "Classfication Report: \n",
      "               precision    recall  f1-score   support\n",
      "\n",
      "           0       0.83      0.83      0.83      1000\n",
      "           1       0.99      0.97      0.98      1000\n",
      "           2       0.80      0.80      0.80      1000\n",
      "           3       0.87      0.91      0.89      1000\n",
      "           4       0.79      0.82      0.80      1000\n",
      "           5       0.97      0.96      0.97      1000\n",
      "           6       0.71      0.66      0.68      1000\n",
      "           7       0.93      0.96      0.94      1000\n",
      "           8       0.96      0.98      0.97      1000\n",
      "           9       0.96      0.96      0.96      1000\n",
      "\n",
      "    accuracy                           0.88     10000\n",
      "   macro avg       0.88      0.88      0.88     10000\n",
      "weighted avg       0.88      0.88      0.88     10000\n",
      "\n"
     ]
    }
   ],
   "source": [
    "accuracy = accuracy_score(y_test_classes, y_pred)\n",
    "print('Model Accuracy: ', accuracy)\n",
    "print(\"\\nClassfication Report: \\n\", classification_report(y_test_classes, y_pred))"
   ]
  },
  {
   "cell_type": "code",
   "execution_count": 44,
   "id": "6f6bd35b-fe9a-4c35-a58a-afa73de14909",
   "metadata": {},
   "outputs": [],
   "source": [
    "## Plotting the training history"
   ]
  },
  {
   "cell_type": "code",
   "execution_count": 46,
   "id": "5be6571f-7f31-4037-8599-914632a0809a",
   "metadata": {},
   "outputs": [
    {
     "data": {
      "image/png": "[encoded data removed]",
      "text/plain": [
       "<Figure size 640x480 with 1 Axes>"
      ]
     },
     "metadata": {},
     "output_type": "display_data"
    }
   ],
   "source": [
    "plt.plot(history.history['accuracy'], label = 'Train Accuracy')\n",
    "plt.plot(history.history['val_accuracy'], label ='Validation Accuracy')\n",
    "plt.xlabel('Epochs')\n",
    "plt.ylabel('Accuracy')\n",
    "plt.legend()\n",
    "plt.title('Training and Validation Accuracy')\n",
    "plt.show()"
   ]
  }
 ],
 "metadata": {
  "kernelspec": {
   "display_name": "Python 3 (ipykernel)",
   "language": "python",
   "name": "python3"
  },
  "language_info": {
   "codemirror_mode": {
    "name": "ipython",
    "version": 3
   },
   "file_extension": ".py",
   "mimetype": "text/x-python",
   "name": "python",
   "nbconvert_exporter": "python",
   "pygments_lexer": "ipython3",
   "version": "3.11.5"
  }
 },
 "nbformat": 4,
 "nbformat_minor": 5
}
